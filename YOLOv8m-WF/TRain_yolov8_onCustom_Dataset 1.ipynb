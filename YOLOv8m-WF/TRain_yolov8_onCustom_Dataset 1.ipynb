{
 "cells": [
  {
   "cell_type": "code",
   "execution_count": 1,
   "metadata": {},
   "outputs": [],
   "source": [
    "from ultralytics import YOLO\n",
    "import os\n",
    "from IPython.display import display,Image\n",
    "from IPython import display\n",
    "#from poutyne import Model\n",
    "#import torchmetrics\n",
    "display.clear_output()\n",
    "#%yolo checks\n",
    "\n",
    "import torch\n",
    "torch.cuda.empty_cache()"
   ]
  },
  {
   "cell_type": "code",
   "execution_count": 2,
   "metadata": {},
   "outputs": [
    {
     "name": "stdout",
     "output_type": "stream",
     "text": [
      "Wed May  8 18:07:51 2024       \r\n",
      "+---------------------------------------------------------------------------------------+\r\n",
      "| NVIDIA-SMI 535.171.04             Driver Version: 535.171.04   CUDA Version: 12.2     |\r\n",
      "|-----------------------------------------+----------------------+----------------------+\r\n",
      "| GPU  Name                 Persistence-M | Bus-Id        Disp.A | Volatile Uncorr. ECC |\r\n",
      "| Fan  Temp   Perf          Pwr:Usage/Cap |         Memory-Usage | GPU-Util  Compute M. |\r\n",
      "|                                         |                      |               MIG M. |\r\n",
      "|=========================================+======================+======================|\r\n",
      "|   0  NVIDIA GeForce RTX 3080        Off | 00000000:04:00.0  On |                  N/A |\r\n",
      "|  0%   39C    P8              48W / 320W |    368MiB / 10240MiB |     28%      Default |\r\n",
      "|                                         |                      |                  N/A |\r\n",
      "+-----------------------------------------+----------------------+----------------------+\r\n",
      "|   1  NVIDIA GeForce RTX 3080        Off | 00000000:09:00.0 Off |                  N/A |\r\n",
      "|  0%   34C    P8              43W / 320W |      9MiB / 10240MiB |      0%      Default |\r\n",
      "|                                         |                      |                  N/A |\r\n",
      "+-----------------------------------------+----------------------+----------------------+\r\n",
      "                                                                                         \r\n",
      "+---------------------------------------------------------------------------------------+\r\n",
      "| Processes:                                                                            |\r\n",
      "|  GPU   GI   CI        PID   Type   Process name                            GPU Memory |\r\n",
      "|        ID   ID                                                             Usage      |\r\n",
      "|=======================================================================================|\r\n",
      "|    0   N/A  N/A     80830      G   /usr/lib/xorg/Xorg                           82MiB |\r\n",
      "|    0   N/A  N/A     80970      G   /usr/bin/gnome-shell                        133MiB |\r\n",
      "|    0   N/A  N/A     80981      G   /opt/teamviewer/tv_bin/TeamViewer             3MiB |\r\n",
      "|    0   N/A  N/A     82547      G   ...irefox/4209/usr/lib/firefox/firefox      135MiB |\r\n",
      "|    1   N/A  N/A     80830      G   /usr/lib/xorg/Xorg                            4MiB |\r\n",
      "+---------------------------------------------------------------------------------------+\r\n"
     ]
    }
   ],
   "source": [
    "!nvidia-smi"
   ]
  },
  {
   "cell_type": "code",
   "execution_count": 3,
   "metadata": {},
   "outputs": [],
   "source": [
    "import os\n",
    "os.environ['MKL_THREADING_LAYER'] = 'GNU'\n"
   ]
  },
  {
   "cell_type": "code",
   "execution_count": 4,
   "metadata": {},
   "outputs": [],
   "source": [
    "\n",
    "model=YOLO(\"yolov8m.yaml\")"
   ]
  },
  {
   "cell_type": "code",
   "execution_count": 5,
   "metadata": {},
   "outputs": [
    {
     "name": "stdout",
     "output_type": "stream",
     "text": [
      "Ultralytics YOLOv8.1.47 🚀 Python-3.12.2 torch-2.2.2+cu118 CUDA:0 (NVIDIA GeForce RTX 3080, 10001MiB)\n",
      "                                                           CUDA:1 (NVIDIA GeForce RTX 3080, 10009MiB)\n",
      "\u001b[34m\u001b[1mengine/trainer: \u001b[0mtask=detect, mode=train, model=yolov8m.yaml, data=data.yaml, epochs=100, time=None, patience=100, batch=16, imgsz=640, save=True, save_period=-1, cache=False, device=[0, 1], workers=8, project=None, name=train7, exist_ok=False, pretrained=True, optimizer=auto, verbose=True, seed=0, deterministic=True, single_cls=False, rect=False, cos_lr=False, close_mosaic=10, resume=False, amp=True, fraction=1.0, profile=False, freeze=None, multi_scale=False, overlap_mask=True, mask_ratio=4, dropout=0.0, val=True, split=val, save_json=False, save_hybrid=False, conf=None, iou=0.7, max_det=300, half=False, dnn=False, plots=True, source=None, vid_stride=1, stream_buffer=False, visualize=False, augment=False, agnostic_nms=False, classes=None, retina_masks=False, embed=None, show=False, save_frames=False, save_txt=False, save_conf=False, save_crop=False, show_labels=True, show_conf=True, show_boxes=True, line_width=None, format=torchscript, keras=False, optimize=False, int8=False, dynamic=False, simplify=False, opset=None, workspace=4, nms=False, lr0=0.01, lrf=0.01, momentum=0.937, weight_decay=0.0005, warmup_epochs=3.0, warmup_momentum=0.8, warmup_bias_lr=0.1, box=7.5, cls=0.5, dfl=1.5, pose=12.0, kobj=1.0, label_smoothing=0.0, nbs=64, hsv_h=0.015, hsv_s=0.7, hsv_v=0.4, degrees=0.0, translate=0.1, scale=0.5, shear=0.0, perspective=0.0, flipud=0.0, fliplr=0.5, bgr=0.0, mosaic=1.0, mixup=0.0, copy_paste=0.0, auto_augment=randaugment, erasing=0.4, crop_fraction=1.0, cfg=None, tracker=botsort.yaml, save_dir=runs/detect/train7\n",
      "Overriding model.yaml nc=80 with nc=3\n",
      "\n",
      "                   from  n    params  module                                       arguments                     \n",
      "  0                  -1  1      1392  ultralytics.nn.modules.conv.Conv             [3, 48, 3, 2]                 \n",
      "  1                  -1  1     41664  ultralytics.nn.modules.conv.Conv             [48, 96, 3, 2]                \n",
      "  2                  -1  2    111360  ultralytics.nn.modules.block.C2f             [96, 96, 2, True]             \n",
      "  3                  -1  1    166272  ultralytics.nn.modules.conv.Conv             [96, 192, 3, 2]               \n",
      "  4                  -1  4    813312  ultralytics.nn.modules.block.C2f             [192, 192, 4, True]           \n",
      "  5                  -1  1    664320  ultralytics.nn.modules.conv.Conv             [192, 384, 3, 2]              \n",
      "  6                  -1  4   3248640  ultralytics.nn.modules.block.C2f             [384, 384, 4, True]           \n",
      "  7                  -1  1   1991808  ultralytics.nn.modules.conv.Conv             [384, 576, 3, 2]              \n",
      "  8                  -1  2   3985920  ultralytics.nn.modules.block.C2f             [576, 576, 2, True]           \n",
      "  9                  -1  1    831168  ultralytics.nn.modules.block.SPPF            [576, 576, 5]                 \n",
      " 10                  -1  1         0  torch.nn.modules.upsampling.Upsample         [None, 2, 'nearest']          \n",
      " 11             [-1, 6]  1         0  ultralytics.nn.modules.conv.Concat           [1]                           \n",
      " 12                  -1  2   1993728  ultralytics.nn.modules.block.C2f             [960, 384, 2]                 \n",
      " 13                  -1  1         0  torch.nn.modules.upsampling.Upsample         [None, 2, 'nearest']          \n",
      " 14             [-1, 4]  1         0  ultralytics.nn.modules.conv.Concat           [1]                           \n",
      " 15                  -1  2    517632  ultralytics.nn.modules.block.C2f             [576, 192, 2]                 \n",
      " 16                  -1  1    332160  ultralytics.nn.modules.conv.Conv             [192, 192, 3, 2]              \n",
      " 17            [-1, 12]  1         0  ultralytics.nn.modules.conv.Concat           [1]                           \n",
      " 18                  -1  2   1846272  ultralytics.nn.modules.block.C2f             [576, 384, 2]                 \n",
      " 19                  -1  1   1327872  ultralytics.nn.modules.conv.Conv             [384, 384, 3, 2]              \n",
      " 20             [-1, 9]  1         0  ultralytics.nn.modules.conv.Concat           [1]                           \n",
      " 21                  -1  2   4207104  ultralytics.nn.modules.block.C2f             [960, 576, 2]                 \n",
      " 22        [15, 18, 21]  1   3777433  ultralytics.nn.modules.head.Detect           [3, [192, 384, 576]]          \n",
      "YOLOv8m summary: 295 layers, 25858057 parameters, 25858041 gradients, 79.1 GFLOPs\n",
      "\n",
      "\u001b[34m\u001b[1mDDP:\u001b[0m debug command /home/ijaz/Downloads/yes/envs/yolov8/bin/python -m torch.distributed.run --nproc_per_node 2 --master_port 58405 /home/ijaz/.config/Ultralytics/DDP/_temp_bildml6q124456587649120.py\n"
     ]
    },
    {
     "name": "stderr",
     "output_type": "stream",
     "text": [
      "WARNING:__main__:\n",
      "*****************************************\n",
      "Setting OMP_NUM_THREADS environment variable for each process to be 1 in default, to avoid your system being overloaded, please further tune the variable for optimal performance in your application as needed. \n",
      "*****************************************\n"
     ]
    },
    {
     "name": "stdout",
     "output_type": "stream",
     "text": [
      "Ultralytics YOLOv8.1.47 🚀 Python-3.12.2 torch-2.2.2+cu118 CUDA:0 (NVIDIA GeForce RTX 3080, 10001MiB)\n",
      "                                                           CUDA:1 (NVIDIA GeForce RTX 3080, 10009MiB)\n",
      "Overriding model.yaml nc=80 with nc=3\n",
      "Freezing layer 'model.22.dfl.conv.weight'\n",
      "\u001b[34m\u001b[1mAMP: \u001b[0mrunning Automatic Mixed Precision (AMP) checks with YOLOv8n...\n",
      "\u001b[34m\u001b[1mAMP: \u001b[0mchecks passed ✅\n"
     ]
    },
    {
     "name": "stderr",
     "output_type": "stream",
     "text": [
      "\u001b[34m\u001b[1mtrain: \u001b[0mScanning /home/ijaz/Desktop/khalid_weapon_temper_weiner_m/train_dataset/labels... 5088 images, 0 backgrounds, 0 corrupt: 100%|██████████| 5088/5088 [00:01<00:00, 4499.09it/s]\n"
     ]
    },
    {
     "name": "stdout",
     "output_type": "stream",
     "text": [
      "\u001b[34m\u001b[1mtrain: \u001b[0mNew cache created: /home/ijaz/Desktop/khalid_weapon_temper_weiner_m/train_dataset/labels.cache\n"
     ]
    },
    {
     "name": "stderr",
     "output_type": "stream",
     "text": [
      "\u001b[34m\u001b[1mval: \u001b[0mScanning /home/ijaz/Desktop/khalid_weapon_temper_weiner_m/val_dataset/labels... 636 images, 0 backgrounds, 0 corrupt: 100%|██████████| 636/636 [00:00<00:00, 2822.18it/s]\n"
     ]
    },
    {
     "name": "stdout",
     "output_type": "stream",
     "text": [
      "\u001b[34m\u001b[1mval: \u001b[0mNew cache created: /home/ijaz/Desktop/khalid_weapon_temper_weiner_m/val_dataset/labels.cache\n",
      "Plotting labels to runs/detect/train7/labels.jpg... \n",
      "\u001b[34m\u001b[1moptimizer:\u001b[0m 'optimizer=auto' found, ignoring 'lr0=0.01' and 'momentum=0.937' and determining best 'optimizer', 'lr0' and 'momentum' automatically... \n",
      "\u001b[34m\u001b[1moptimizer:\u001b[0m AdamW(lr=0.000714, momentum=0.9) with parameter groups 77 weight(decay=0.0), 84 weight(decay=0.0005), 83 bias(decay=0.0)\n",
      "Image sizes 640 train, 640 val\n",
      "Using 16 dataloader workers\n",
      "Logging results to \u001b[1mruns/detect/train7\u001b[0m\n",
      "Starting training for 100 epochs...\n",
      "\n",
      "      Epoch    GPU_mem   box_loss   cls_loss   dfl_loss  Instances       Size\n"
     ]
    },
    {
     "name": "stderr",
     "output_type": "stream",
     "text": [
      "      1/100      3.78G       2.38      2.125      3.091         30        640: 100%|██████████| 318/318 [00:49<00:00,  6.48it/s]\n",
      "                 Class     Images  Instances      Box(P          R      mAP50  mAP50-95): 100%|██████████| 40/40 [00:02<00:00, 14.42it/s]\n"
     ]
    },
    {
     "name": "stdout",
     "output_type": "stream",
     "text": [
      "                   all        636        949      0.946       0.89      0.916      0.555\n",
      "\n",
      "      Epoch    GPU_mem   box_loss   cls_loss   dfl_loss  Instances       Size\n"
     ]
    },
    {
     "name": "stderr",
     "output_type": "stream",
     "text": [
      "      2/100      3.97G      1.444      1.031      1.884         28        640: 100%|██████████| 318/318 [00:46<00:00,  6.77it/s]\n",
      "                 Class     Images  Instances      Box(P          R      mAP50  mAP50-95): 100%|██████████| 40/40 [00:02<00:00, 15.54it/s]\n"
     ]
    },
    {
     "name": "stdout",
     "output_type": "stream",
     "text": [
      "                   all        636        949      0.965      0.872      0.956      0.652\n",
      "\n",
      "      Epoch    GPU_mem   box_loss   cls_loss   dfl_loss  Instances       Size\n"
     ]
    },
    {
     "name": "stderr",
     "output_type": "stream",
     "text": [
      "      3/100      3.98G      1.179     0.7522       1.59         38        640: 100%|██████████| 318/318 [00:46<00:00,  6.85it/s]\n",
      "                 Class     Images  Instances      Box(P          R      mAP50  mAP50-95): 100%|██████████| 40/40 [00:02<00:00, 15.64it/s]\n"
     ]
    },
    {
     "name": "stdout",
     "output_type": "stream",
     "text": [
      "                   all        636        949      0.975      0.933      0.968       0.68\n",
      "\n",
      "      Epoch    GPU_mem   box_loss   cls_loss   dfl_loss  Instances       Size\n"
     ]
    },
    {
     "name": "stderr",
     "output_type": "stream",
     "text": [
      "      4/100      3.97G      1.044     0.6478      1.467         35        640: 100%|██████████| 318/318 [00:46<00:00,  6.88it/s]\n",
      "                 Class     Images  Instances      Box(P          R      mAP50  mAP50-95): 100%|██████████| 40/40 [00:02<00:00, 15.94it/s]\n"
     ]
    },
    {
     "name": "stdout",
     "output_type": "stream",
     "text": [
      "                   all        636        949      0.953      0.942      0.976      0.564\n",
      "\n",
      "      Epoch    GPU_mem   box_loss   cls_loss   dfl_loss  Instances       Size\n"
     ]
    },
    {
     "name": "stderr",
     "output_type": "stream",
     "text": [
      "      5/100      3.97G     0.9172     0.5673      1.358         35        640: 100%|██████████| 318/318 [00:46<00:00,  6.86it/s]\n",
      "                 Class     Images  Instances      Box(P          R      mAP50  mAP50-95): 100%|██████████| 40/40 [00:02<00:00, 15.92it/s]\n"
     ]
    },
    {
     "name": "stdout",
     "output_type": "stream",
     "text": [
      "                   all        636        949      0.976       0.93      0.983      0.744\n",
      "\n",
      "      Epoch    GPU_mem   box_loss   cls_loss   dfl_loss  Instances       Size\n"
     ]
    },
    {
     "name": "stderr",
     "output_type": "stream",
     "text": [
      "      6/100      3.97G     0.8391     0.5127      1.296         32        640: 100%|██████████| 318/318 [00:46<00:00,  6.84it/s]\n",
      "                 Class     Images  Instances      Box(P          R      mAP50  mAP50-95): 100%|██████████| 40/40 [00:02<00:00, 16.00it/s]\n"
     ]
    },
    {
     "name": "stdout",
     "output_type": "stream",
     "text": [
      "                   all        636        949       0.97      0.923      0.984      0.727\n",
      "\n",
      "      Epoch    GPU_mem   box_loss   cls_loss   dfl_loss  Instances       Size\n"
     ]
    },
    {
     "name": "stderr",
     "output_type": "stream",
     "text": [
      "      7/100      3.97G     0.7762     0.4729      1.249         27        640: 100%|██████████| 318/318 [00:46<00:00,  6.85it/s]\n",
      "                 Class     Images  Instances      Box(P          R      mAP50  mAP50-95): 100%|██████████| 40/40 [00:02<00:00, 15.70it/s]\n"
     ]
    },
    {
     "name": "stdout",
     "output_type": "stream",
     "text": [
      "                   all        636        949      0.968      0.965      0.988      0.771\n",
      "\n",
      "      Epoch    GPU_mem   box_loss   cls_loss   dfl_loss  Instances       Size\n"
     ]
    },
    {
     "name": "stderr",
     "output_type": "stream",
     "text": [
      "      8/100      3.97G     0.7254      0.446       1.21         41        640: 100%|██████████| 318/318 [00:46<00:00,  6.85it/s]\n",
      "                 Class     Images  Instances      Box(P          R      mAP50  mAP50-95): 100%|██████████| 40/40 [00:02<00:00, 15.80it/s]\n"
     ]
    },
    {
     "name": "stdout",
     "output_type": "stream",
     "text": [
      "                   all        636        949      0.982      0.963       0.99      0.851\n",
      "\n",
      "      Epoch    GPU_mem   box_loss   cls_loss   dfl_loss  Instances       Size\n"
     ]
    },
    {
     "name": "stderr",
     "output_type": "stream",
     "text": [
      "      9/100      3.95G     0.6777     0.4215      1.169         32        640: 100%|██████████| 318/318 [00:46<00:00,  6.85it/s]\n",
      "                 Class     Images  Instances      Box(P          R      mAP50  mAP50-95): 100%|██████████| 40/40 [00:02<00:00, 15.95it/s]\n"
     ]
    },
    {
     "name": "stdout",
     "output_type": "stream",
     "text": [
      "                   all        636        949      0.998      0.974      0.994      0.817\n",
      "\n",
      "      Epoch    GPU_mem   box_loss   cls_loss   dfl_loss  Instances       Size\n"
     ]
    },
    {
     "name": "stderr",
     "output_type": "stream",
     "text": [
      "     10/100      3.94G     0.6326     0.3977      1.139         27        640: 100%|██████████| 318/318 [00:46<00:00,  6.82it/s]\n",
      "                 Class     Images  Instances      Box(P          R      mAP50  mAP50-95): 100%|██████████| 40/40 [00:02<00:00, 15.86it/s]\n"
     ]
    },
    {
     "name": "stdout",
     "output_type": "stream",
     "text": [
      "                   all        636        949      0.986      0.986      0.993      0.833\n",
      "\n",
      "      Epoch    GPU_mem   box_loss   cls_loss   dfl_loss  Instances       Size\n"
     ]
    },
    {
     "name": "stderr",
     "output_type": "stream",
     "text": [
      "     11/100      3.94G     0.6026     0.3713      1.125         38        640: 100%|██████████| 318/318 [00:46<00:00,  6.84it/s]\n",
      "                 Class     Images  Instances      Box(P          R      mAP50  mAP50-95): 100%|██████████| 40/40 [00:02<00:00, 15.84it/s]\n"
     ]
    },
    {
     "name": "stdout",
     "output_type": "stream",
     "text": [
      "                   all        636        949      0.996      0.984      0.994      0.879\n",
      "\n",
      "      Epoch    GPU_mem   box_loss   cls_loss   dfl_loss  Instances       Size\n"
     ]
    },
    {
     "name": "stderr",
     "output_type": "stream",
     "text": [
      "     12/100      3.96G     0.5685     0.3583      1.097         37        640: 100%|██████████| 318/318 [00:46<00:00,  6.83it/s]\n",
      "                 Class     Images  Instances      Box(P          R      mAP50  mAP50-95): 100%|██████████| 40/40 [00:02<00:00, 15.86it/s]\n"
     ]
    },
    {
     "name": "stdout",
     "output_type": "stream",
     "text": [
      "                   all        636        949      0.983      0.984      0.994      0.824\n",
      "\n",
      "      Epoch    GPU_mem   box_loss   cls_loss   dfl_loss  Instances       Size\n"
     ]
    },
    {
     "name": "stderr",
     "output_type": "stream",
     "text": [
      "     13/100      3.94G     0.5522     0.3434      1.085         32        640: 100%|██████████| 318/318 [00:46<00:00,  6.83it/s]\n",
      "                 Class     Images  Instances      Box(P          R      mAP50  mAP50-95): 100%|██████████| 40/40 [00:02<00:00, 15.94it/s]\n"
     ]
    },
    {
     "name": "stdout",
     "output_type": "stream",
     "text": [
      "                   all        636        949       0.99      0.984      0.994      0.862\n",
      "\n",
      "      Epoch    GPU_mem   box_loss   cls_loss   dfl_loss  Instances       Size\n"
     ]
    },
    {
     "name": "stderr",
     "output_type": "stream",
     "text": [
      "     14/100      3.95G     0.5378      0.337      1.073         34        640: 100%|██████████| 318/318 [00:46<00:00,  6.85it/s]\n",
      "                 Class     Images  Instances      Box(P          R      mAP50  mAP50-95): 100%|██████████| 40/40 [00:02<00:00, 15.84it/s]\n"
     ]
    },
    {
     "name": "stdout",
     "output_type": "stream",
     "text": [
      "                   all        636        949      0.998      0.976      0.994      0.887\n",
      "\n",
      "      Epoch    GPU_mem   box_loss   cls_loss   dfl_loss  Instances       Size\n"
     ]
    },
    {
     "name": "stderr",
     "output_type": "stream",
     "text": [
      "     15/100      3.95G     0.5159     0.3222      1.057         29        640: 100%|██████████| 318/318 [00:46<00:00,  6.83it/s]\n",
      "                 Class     Images  Instances      Box(P          R      mAP50  mAP50-95): 100%|██████████| 40/40 [00:02<00:00, 15.88it/s]\n"
     ]
    },
    {
     "name": "stdout",
     "output_type": "stream",
     "text": [
      "                   all        636        949      0.996      0.984      0.994      0.904\n",
      "\n",
      "      Epoch    GPU_mem   box_loss   cls_loss   dfl_loss  Instances       Size\n"
     ]
    },
    {
     "name": "stderr",
     "output_type": "stream",
     "text": [
      "     16/100      3.96G     0.4999     0.3197      1.047         37        640: 100%|██████████| 318/318 [01:02<00:00,  5.09it/s]\n",
      "                 Class     Images  Instances      Box(P          R      mAP50  mAP50-95): 100%|██████████| 40/40 [00:02<00:00, 14.18it/s]\n"
     ]
    },
    {
     "name": "stdout",
     "output_type": "stream",
     "text": [
      "                   all        636        949      0.989      0.986      0.994      0.902\n",
      "\n",
      "      Epoch    GPU_mem   box_loss   cls_loss   dfl_loss  Instances       Size\n"
     ]
    },
    {
     "name": "stderr",
     "output_type": "stream",
     "text": [
      "     17/100      3.94G     0.4731     0.3026      1.029         35        640: 100%|██████████| 318/318 [01:03<00:00,  4.98it/s]\n",
      "                 Class     Images  Instances      Box(P          R      mAP50  mAP50-95): 100%|██████████| 40/40 [00:02<00:00, 14.20it/s]\n"
     ]
    },
    {
     "name": "stdout",
     "output_type": "stream",
     "text": [
      "                   all        636        949      0.998      0.982      0.994      0.901\n",
      "\n",
      "      Epoch    GPU_mem   box_loss   cls_loss   dfl_loss  Instances       Size\n"
     ]
    },
    {
     "name": "stderr",
     "output_type": "stream",
     "text": [
      "     18/100      3.95G     0.4712     0.2998      1.028         30        640: 100%|██████████| 318/318 [01:03<00:00,  4.97it/s]\n",
      "                 Class     Images  Instances      Box(P          R      mAP50  mAP50-95): 100%|██████████| 40/40 [00:02<00:00, 14.27it/s]\n"
     ]
    },
    {
     "name": "stdout",
     "output_type": "stream",
     "text": [
      "                   all        636        949      0.995      0.979      0.994      0.741\n"
     ]
    },
    {
     "name": "stderr",
     "output_type": "stream",
     "text": [
      "\r",
      "  0%|          | 0/318 [00:00<?, ?it/s]\r",
      "     19/100      3.94G      0.406     0.2798     0.9689         42        640:   0%|          | 0/318 [00:00<?, ?it/s]\r",
      "     19/100      3.94G      0.406     0.2798     0.9689         42        640:   0%|          | 1/318 [00:00<01:02,  5.08it/s]"
     ]
    },
    {
     "name": "stdout",
     "output_type": "stream",
     "text": [
      "\n",
      "      Epoch    GPU_mem   box_loss   cls_loss   dfl_loss  Instances       Size\n"
     ]
    },
    {
     "name": "stderr",
     "output_type": "stream",
     "text": [
      "     19/100      3.95G     0.4587     0.2965      1.018         40        640: 100%|██████████| 318/318 [01:03<00:00,  4.98it/s]\n",
      "                 Class     Images  Instances      Box(P          R      mAP50  mAP50-95): 100%|██████████| 40/40 [00:02<00:00, 14.30it/s]\n"
     ]
    },
    {
     "name": "stdout",
     "output_type": "stream",
     "text": [
      "                   all        636        949      0.999      0.982      0.994      0.926\n",
      "\n",
      "      Epoch    GPU_mem   box_loss   cls_loss   dfl_loss  Instances       Size\n"
     ]
    },
    {
     "name": "stderr",
     "output_type": "stream",
     "text": [
      "     20/100      3.94G     0.4469      0.288      1.008         34        640: 100%|██████████| 318/318 [01:03<00:00,  4.98it/s]\n",
      "                 Class     Images  Instances      Box(P          R      mAP50  mAP50-95): 100%|██████████| 40/40 [00:02<00:00, 14.40it/s]\n"
     ]
    },
    {
     "name": "stdout",
     "output_type": "stream",
     "text": [
      "                   all        636        949      0.996      0.986      0.994      0.931\n",
      "\n",
      "      Epoch    GPU_mem   box_loss   cls_loss   dfl_loss  Instances       Size\n"
     ]
    },
    {
     "name": "stderr",
     "output_type": "stream",
     "text": [
      "     21/100      3.95G     0.4293     0.2821      1.003         34        640: 100%|██████████| 318/318 [01:03<00:00,  4.98it/s]\n",
      "                 Class     Images  Instances      Box(P          R      mAP50  mAP50-95): 100%|██████████| 40/40 [00:02<00:00, 14.31it/s]\n"
     ]
    },
    {
     "name": "stdout",
     "output_type": "stream",
     "text": [
      "                   all        636        949      0.999      0.986      0.994       0.93\n",
      "\n",
      "      Epoch    GPU_mem   box_loss   cls_loss   dfl_loss  Instances       Size\n"
     ]
    },
    {
     "name": "stderr",
     "output_type": "stream",
     "text": [
      "     22/100      3.93G     0.4297     0.2762      1.002         39        640: 100%|██████████| 318/318 [01:03<00:00,  4.98it/s]\n",
      "                 Class     Images  Instances      Box(P          R      mAP50  mAP50-95): 100%|██████████| 40/40 [00:02<00:00, 14.31it/s]\n"
     ]
    },
    {
     "name": "stdout",
     "output_type": "stream",
     "text": [
      "                   all        636        949      0.999      0.986      0.994      0.939\n",
      "\n",
      "      Epoch    GPU_mem   box_loss   cls_loss   dfl_loss  Instances       Size\n"
     ]
    },
    {
     "name": "stderr",
     "output_type": "stream",
     "text": [
      "     23/100      3.96G     0.4079     0.2672     0.9939         26        640: 100%|██████████| 318/318 [01:03<00:00,  4.98it/s]\n",
      "                 Class     Images  Instances      Box(P          R      mAP50  mAP50-95): 100%|██████████| 40/40 [00:02<00:00, 14.35it/s]\n"
     ]
    },
    {
     "name": "stdout",
     "output_type": "stream",
     "text": [
      "                   all        636        949      0.999      0.986      0.994      0.933\n",
      "\n",
      "      Epoch    GPU_mem   box_loss   cls_loss   dfl_loss  Instances       Size\n"
     ]
    },
    {
     "name": "stderr",
     "output_type": "stream",
     "text": [
      "     24/100      3.94G     0.4007      0.263     0.9765         33        640: 100%|██████████| 318/318 [01:03<00:00,  4.98it/s]\n",
      "                 Class     Images  Instances      Box(P          R      mAP50  mAP50-95): 100%|██████████| 40/40 [00:02<00:00, 14.37it/s]\n"
     ]
    },
    {
     "name": "stdout",
     "output_type": "stream",
     "text": [
      "                   all        636        949      0.999      0.986      0.994       0.94\n",
      "\n",
      "      Epoch    GPU_mem   box_loss   cls_loss   dfl_loss  Instances       Size\n"
     ]
    },
    {
     "name": "stderr",
     "output_type": "stream",
     "text": [
      "     25/100      3.93G     0.3923     0.2582      0.979         28        640: 100%|██████████| 318/318 [01:03<00:00,  4.98it/s]\n",
      "                 Class     Images  Instances      Box(P          R      mAP50  mAP50-95): 100%|██████████| 40/40 [00:02<00:00, 14.32it/s]\n"
     ]
    },
    {
     "name": "stdout",
     "output_type": "stream",
     "text": [
      "                   all        636        949      0.999      0.986      0.994      0.953\n",
      "\n",
      "      Epoch    GPU_mem   box_loss   cls_loss   dfl_loss  Instances       Size\n"
     ]
    },
    {
     "name": "stderr",
     "output_type": "stream",
     "text": [
      "     26/100      3.93G     0.3805     0.2535     0.9652         26        640: 100%|██████████| 318/318 [01:03<00:00,  4.98it/s]\n",
      "                 Class     Images  Instances      Box(P          R      mAP50  mAP50-95): 100%|██████████| 40/40 [00:02<00:00, 14.12it/s]\n"
     ]
    },
    {
     "name": "stdout",
     "output_type": "stream",
     "text": [
      "                   all        636        949      0.999      0.987      0.994      0.949\n",
      "\n",
      "      Epoch    GPU_mem   box_loss   cls_loss   dfl_loss  Instances       Size\n"
     ]
    },
    {
     "name": "stderr",
     "output_type": "stream",
     "text": [
      "     27/100      3.93G     0.3729     0.2485     0.9628         43        640: 100%|██████████| 318/318 [01:03<00:00,  4.98it/s]\n",
      "                 Class     Images  Instances      Box(P          R      mAP50  mAP50-95): 100%|██████████| 40/40 [00:02<00:00, 14.32it/s]\n"
     ]
    },
    {
     "name": "stdout",
     "output_type": "stream",
     "text": [
      "                   all        636        949          1      0.987      0.994      0.965\n",
      "\n",
      "      Epoch    GPU_mem   box_loss   cls_loss   dfl_loss  Instances       Size\n"
     ]
    },
    {
     "name": "stderr",
     "output_type": "stream",
     "text": [
      "     28/100      3.93G     0.3684     0.2454     0.9629         33        640: 100%|██████████| 318/318 [01:04<00:00,  4.97it/s]\n",
      "                 Class     Images  Instances      Box(P          R      mAP50  mAP50-95): 100%|██████████| 40/40 [00:02<00:00, 14.31it/s]\n"
     ]
    },
    {
     "name": "stdout",
     "output_type": "stream",
     "text": [
      "                   all        636        949          1      0.986      0.994      0.954\n",
      "\n",
      "      Epoch    GPU_mem   box_loss   cls_loss   dfl_loss  Instances       Size\n"
     ]
    },
    {
     "name": "stderr",
     "output_type": "stream",
     "text": [
      "     29/100      3.94G      0.355       0.24     0.9546         29        640: 100%|██████████| 318/318 [01:03<00:00,  4.98it/s]\n",
      "                 Class     Images  Instances      Box(P          R      mAP50  mAP50-95): 100%|██████████| 40/40 [00:02<00:00, 14.23it/s]\n"
     ]
    },
    {
     "name": "stdout",
     "output_type": "stream",
     "text": [
      "                   all        636        949          1      0.986      0.994      0.963\n",
      "\n",
      "      Epoch    GPU_mem   box_loss   cls_loss   dfl_loss  Instances       Size\n"
     ]
    },
    {
     "name": "stderr",
     "output_type": "stream",
     "text": [
      "     30/100      3.95G     0.3464     0.2346     0.9476         33        640: 100%|██████████| 318/318 [01:05<00:00,  4.88it/s]\n",
      "                 Class     Images  Instances      Box(P          R      mAP50  mAP50-95): 100%|██████████| 40/40 [00:02<00:00, 13.58it/s]\n"
     ]
    },
    {
     "name": "stdout",
     "output_type": "stream",
     "text": [
      "                   all        636        949          1      0.986      0.994      0.962\n",
      "\n",
      "      Epoch    GPU_mem   box_loss   cls_loss   dfl_loss  Instances       Size\n"
     ]
    },
    {
     "name": "stderr",
     "output_type": "stream",
     "text": [
      "     31/100      3.93G      0.343     0.2354      0.944         37        640: 100%|██████████| 318/318 [01:04<00:00,  4.97it/s]\n",
      "                 Class     Images  Instances      Box(P          R      mAP50  mAP50-95): 100%|██████████| 40/40 [00:02<00:00, 13.79it/s]\n"
     ]
    },
    {
     "name": "stdout",
     "output_type": "stream",
     "text": [
      "                   all        636        949          1      0.986      0.994      0.972\n",
      "\n",
      "      Epoch    GPU_mem   box_loss   cls_loss   dfl_loss  Instances       Size\n"
     ]
    },
    {
     "name": "stderr",
     "output_type": "stream",
     "text": [
      "     32/100      3.96G     0.3261     0.2275     0.9372         30        640: 100%|██████████| 318/318 [01:04<00:00,  4.97it/s]\n",
      "                 Class     Images  Instances      Box(P          R      mAP50  mAP50-95): 100%|██████████| 40/40 [00:02<00:00, 13.62it/s]\n"
     ]
    },
    {
     "name": "stdout",
     "output_type": "stream",
     "text": [
      "                   all        636        949          1      0.987      0.994      0.971\n",
      "\n",
      "      Epoch    GPU_mem   box_loss   cls_loss   dfl_loss  Instances       Size\n"
     ]
    },
    {
     "name": "stderr",
     "output_type": "stream",
     "text": [
      "     33/100      3.94G     0.3274     0.2252     0.9377         30        640: 100%|██████████| 318/318 [01:04<00:00,  4.96it/s]\n",
      "                 Class     Images  Instances      Box(P          R      mAP50  mAP50-95): 100%|██████████| 40/40 [00:02<00:00, 13.67it/s]\n"
     ]
    },
    {
     "name": "stdout",
     "output_type": "stream",
     "text": [
      "                   all        636        949          1      0.986      0.994      0.976\n",
      "\n",
      "      Epoch    GPU_mem   box_loss   cls_loss   dfl_loss  Instances       Size\n"
     ]
    },
    {
     "name": "stderr",
     "output_type": "stream",
     "text": [
      "     34/100      3.95G     0.3197     0.2198     0.9386         42        640: 100%|██████████| 318/318 [01:04<00:00,  4.97it/s]\n",
      "                 Class     Images  Instances      Box(P          R      mAP50  mAP50-95): 100%|██████████| 40/40 [00:02<00:00, 13.66it/s]\n"
     ]
    },
    {
     "name": "stdout",
     "output_type": "stream",
     "text": [
      "                   all        636        949          1      0.986      0.994      0.976\n",
      "\n",
      "      Epoch    GPU_mem   box_loss   cls_loss   dfl_loss  Instances       Size\n"
     ]
    },
    {
     "name": "stderr",
     "output_type": "stream",
     "text": [
      "     35/100      3.94G     0.3103     0.2158     0.9297         36        640: 100%|██████████| 318/318 [01:03<00:00,  4.97it/s]\n",
      "                 Class     Images  Instances      Box(P          R      mAP50  mAP50-95): 100%|██████████| 40/40 [00:02<00:00, 13.65it/s]\n"
     ]
    },
    {
     "name": "stdout",
     "output_type": "stream",
     "text": [
      "                   all        636        949          1      0.987      0.995      0.981\n",
      "\n",
      "      Epoch    GPU_mem   box_loss   cls_loss   dfl_loss  Instances       Size\n"
     ]
    },
    {
     "name": "stderr",
     "output_type": "stream",
     "text": [
      "     36/100      3.93G     0.3042      0.216     0.9267         36        640: 100%|██████████| 318/318 [01:04<00:00,  4.96it/s]\n",
      "                 Class     Images  Instances      Box(P          R      mAP50  mAP50-95): 100%|██████████| 40/40 [00:02<00:00, 13.59it/s]\n"
     ]
    },
    {
     "name": "stdout",
     "output_type": "stream",
     "text": [
      "                   all        636        949      0.999      0.987      0.994      0.975\n",
      "\n",
      "      Epoch    GPU_mem   box_loss   cls_loss   dfl_loss  Instances       Size\n"
     ]
    },
    {
     "name": "stderr",
     "output_type": "stream",
     "text": [
      "     37/100      3.94G     0.2983     0.2102     0.9249         36        640: 100%|██████████| 318/318 [01:03<00:00,  4.98it/s]\n",
      "                 Class     Images  Instances      Box(P          R      mAP50  mAP50-95): 100%|██████████| 40/40 [00:02<00:00, 13.58it/s]\n"
     ]
    },
    {
     "name": "stdout",
     "output_type": "stream",
     "text": [
      "                   all        636        949          1      0.986      0.994       0.98\n",
      "\n",
      "      Epoch    GPU_mem   box_loss   cls_loss   dfl_loss  Instances       Size\n"
     ]
    },
    {
     "name": "stderr",
     "output_type": "stream",
     "text": [
      "     38/100      3.96G      0.288     0.2067     0.9206         24        640: 100%|██████████| 318/318 [01:03<00:00,  4.97it/s]\n",
      "                 Class     Images  Instances      Box(P          R      mAP50  mAP50-95): 100%|██████████| 40/40 [00:02<00:00, 13.71it/s]\n"
     ]
    },
    {
     "name": "stdout",
     "output_type": "stream",
     "text": [
      "                   all        636        949          1      0.986      0.994      0.983\n",
      "\n",
      "      Epoch    GPU_mem   box_loss   cls_loss   dfl_loss  Instances       Size\n"
     ]
    },
    {
     "name": "stderr",
     "output_type": "stream",
     "text": [
      "     39/100      3.97G     0.2882     0.2046     0.9186         34        640: 100%|██████████| 318/318 [01:03<00:00,  4.97it/s]\n",
      "                 Class     Images  Instances      Box(P          R      mAP50  mAP50-95): 100%|██████████| 40/40 [00:02<00:00, 13.65it/s]\n"
     ]
    },
    {
     "name": "stdout",
     "output_type": "stream",
     "text": [
      "                   all        636        949      0.999      0.986      0.994      0.981\n",
      "\n",
      "      Epoch    GPU_mem   box_loss   cls_loss   dfl_loss  Instances       Size\n"
     ]
    },
    {
     "name": "stderr",
     "output_type": "stream",
     "text": [
      "     40/100      3.94G     0.2869     0.2068      0.918         32        640: 100%|██████████| 318/318 [01:03<00:00,  4.98it/s]\n",
      "                 Class     Images  Instances      Box(P          R      mAP50  mAP50-95): 100%|██████████| 40/40 [00:02<00:00, 13.75it/s]\n"
     ]
    },
    {
     "name": "stdout",
     "output_type": "stream",
     "text": [
      "                   all        636        949          1      0.987      0.994      0.986\n",
      "\n",
      "      Epoch    GPU_mem   box_loss   cls_loss   dfl_loss  Instances       Size\n"
     ]
    },
    {
     "name": "stderr",
     "output_type": "stream",
     "text": [
      "     41/100      3.96G     0.2754     0.1989     0.9126         33        640: 100%|██████████| 318/318 [01:03<00:00,  4.98it/s]\n",
      "                 Class     Images  Instances      Box(P          R      mAP50  mAP50-95): 100%|██████████| 40/40 [00:02<00:00, 13.64it/s]\n"
     ]
    },
    {
     "name": "stdout",
     "output_type": "stream",
     "text": [
      "                   all        636        949          1      0.986      0.994      0.981\n",
      "\n",
      "      Epoch    GPU_mem   box_loss   cls_loss   dfl_loss  Instances       Size\n"
     ]
    },
    {
     "name": "stderr",
     "output_type": "stream",
     "text": [
      "     42/100      3.94G     0.2683     0.1966     0.9054         24        640: 100%|██████████| 318/318 [01:04<00:00,  4.97it/s]\n",
      "                 Class     Images  Instances      Box(P          R      mAP50  mAP50-95): 100%|██████████| 40/40 [00:02<00:00, 13.66it/s]\n"
     ]
    },
    {
     "name": "stdout",
     "output_type": "stream",
     "text": [
      "                   all        636        949          1      0.986      0.995      0.988\n",
      "\n",
      "      Epoch    GPU_mem   box_loss   cls_loss   dfl_loss  Instances       Size\n"
     ]
    },
    {
     "name": "stderr",
     "output_type": "stream",
     "text": [
      "     43/100      3.94G     0.2712      0.199     0.9066         36        640: 100%|██████████| 318/318 [01:04<00:00,  4.96it/s]\n",
      "                 Class     Images  Instances      Box(P          R      mAP50  mAP50-95): 100%|██████████| 40/40 [00:02<00:00, 13.56it/s]\n"
     ]
    },
    {
     "name": "stdout",
     "output_type": "stream",
     "text": [
      "                   all        636        949      0.999      0.987      0.994      0.989\n",
      "\n",
      "      Epoch    GPU_mem   box_loss   cls_loss   dfl_loss  Instances       Size\n"
     ]
    },
    {
     "name": "stderr",
     "output_type": "stream",
     "text": [
      "     44/100      3.93G     0.2645     0.1939     0.9044         30        640: 100%|██████████| 318/318 [01:04<00:00,  4.97it/s]\n",
      "                 Class     Images  Instances      Box(P          R      mAP50  mAP50-95): 100%|██████████| 40/40 [00:02<00:00, 13.71it/s]\n"
     ]
    },
    {
     "name": "stdout",
     "output_type": "stream",
     "text": [
      "                   all        636        949          1      0.986      0.994      0.986\n",
      "\n",
      "      Epoch    GPU_mem   box_loss   cls_loss   dfl_loss  Instances       Size\n"
     ]
    },
    {
     "name": "stderr",
     "output_type": "stream",
     "text": [
      "     45/100      3.94G     0.2675     0.1953      0.908         38        640: 100%|██████████| 318/318 [01:04<00:00,  4.96it/s]\n",
      "                 Class     Images  Instances      Box(P          R      mAP50  mAP50-95): 100%|██████████| 40/40 [00:02<00:00, 13.80it/s]\n"
     ]
    },
    {
     "name": "stdout",
     "output_type": "stream",
     "text": [
      "                   all        636        949          1      0.986      0.994      0.987\n"
     ]
    },
    {
     "name": "stderr",
     "output_type": "stream",
     "text": [
      "\r",
      "  0%|          | 0/318 [00:00<?, ?it/s]"
     ]
    },
    {
     "name": "stdout",
     "output_type": "stream",
     "text": [
      "\n",
      "      Epoch    GPU_mem   box_loss   cls_loss   dfl_loss  Instances       Size\n"
     ]
    },
    {
     "name": "stderr",
     "output_type": "stream",
     "text": [
      "     46/100      3.94G     0.2596     0.1896     0.8973         32        640: 100%|██████████| 318/318 [01:03<00:00,  4.97it/s]\n",
      "                 Class     Images  Instances      Box(P          R      mAP50  mAP50-95): 100%|██████████| 40/40 [00:02<00:00, 13.65it/s]\n"
     ]
    },
    {
     "name": "stdout",
     "output_type": "stream",
     "text": [
      "                   all        636        949      0.999      0.986      0.994      0.988\n",
      "\n",
      "      Epoch    GPU_mem   box_loss   cls_loss   dfl_loss  Instances       Size\n"
     ]
    },
    {
     "name": "stderr",
     "output_type": "stream",
     "text": [
      "     47/100      3.94G      0.251     0.1856     0.8992         31        640: 100%|██████████| 318/318 [01:03<00:00,  4.97it/s]\n",
      "                 Class     Images  Instances      Box(P          R      mAP50  mAP50-95): 100%|██████████| 40/40 [00:02<00:00, 13.71it/s]\n"
     ]
    },
    {
     "name": "stdout",
     "output_type": "stream",
     "text": [
      "                   all        636        949          1      0.987      0.994      0.986\n",
      "\n",
      "      Epoch    GPU_mem   box_loss   cls_loss   dfl_loss  Instances       Size\n"
     ]
    },
    {
     "name": "stderr",
     "output_type": "stream",
     "text": [
      "     48/100      3.93G     0.2514     0.1863     0.9011         29        640: 100%|██████████| 318/318 [01:03<00:00,  4.98it/s]\n",
      "                 Class     Images  Instances      Box(P          R      mAP50  mAP50-95): 100%|██████████| 40/40 [00:02<00:00, 13.57it/s]\n"
     ]
    },
    {
     "name": "stdout",
     "output_type": "stream",
     "text": [
      "                   all        636        949          1      0.987      0.994      0.989\n",
      "\n",
      "      Epoch    GPU_mem   box_loss   cls_loss   dfl_loss  Instances       Size\n"
     ]
    },
    {
     "name": "stderr",
     "output_type": "stream",
     "text": [
      "     49/100      3.95G     0.2493     0.1829     0.9035         43        640: 100%|██████████| 318/318 [01:03<00:00,  4.97it/s]\n",
      "                 Class     Images  Instances      Box(P          R      mAP50  mAP50-95): 100%|██████████| 40/40 [00:02<00:00, 13.75it/s]\n"
     ]
    },
    {
     "name": "stdout",
     "output_type": "stream",
     "text": [
      "                   all        636        949      0.999      0.986      0.994      0.987\n"
     ]
    },
    {
     "name": "stderr",
     "output_type": "stream",
     "text": [
      "\r",
      "  0%|          | 0/318 [00:00<?, ?it/s]"
     ]
    },
    {
     "name": "stdout",
     "output_type": "stream",
     "text": [
      "\n",
      "      Epoch    GPU_mem   box_loss   cls_loss   dfl_loss  Instances       Size\n"
     ]
    },
    {
     "name": "stderr",
     "output_type": "stream",
     "text": [
      "     50/100      3.94G      0.241      0.181     0.8949         37        640: 100%|██████████| 318/318 [01:04<00:00,  4.97it/s]\n",
      "                 Class     Images  Instances      Box(P          R      mAP50  mAP50-95): 100%|██████████| 40/40 [00:02<00:00, 13.70it/s]\n"
     ]
    },
    {
     "name": "stdout",
     "output_type": "stream",
     "text": [
      "                   all        636        949          1      0.986      0.994      0.987\n",
      "\n",
      "      Epoch    GPU_mem   box_loss   cls_loss   dfl_loss  Instances       Size\n"
     ]
    },
    {
     "name": "stderr",
     "output_type": "stream",
     "text": [
      "     51/100      3.94G     0.2416      0.182     0.8973         28        640: 100%|██████████| 318/318 [01:03<00:00,  4.98it/s]\n",
      "                 Class     Images  Instances      Box(P          R      mAP50  mAP50-95): 100%|██████████| 40/40 [00:02<00:00, 13.65it/s]\n"
     ]
    },
    {
     "name": "stdout",
     "output_type": "stream",
     "text": [
      "                   all        636        949          1      0.986      0.995      0.975\n",
      "\n",
      "      Epoch    GPU_mem   box_loss   cls_loss   dfl_loss  Instances       Size\n"
     ]
    },
    {
     "name": "stderr",
     "output_type": "stream",
     "text": [
      "     52/100      3.94G     0.2429     0.1801     0.8952         29        640: 100%|██████████| 318/318 [01:04<00:00,  4.96it/s]\n",
      "                 Class     Images  Instances      Box(P          R      mAP50  mAP50-95): 100%|██████████| 40/40 [00:02<00:00, 13.60it/s]\n"
     ]
    },
    {
     "name": "stdout",
     "output_type": "stream",
     "text": [
      "                   all        636        949          1      0.987      0.994      0.988\n",
      "\n",
      "      Epoch    GPU_mem   box_loss   cls_loss   dfl_loss  Instances       Size\n"
     ]
    },
    {
     "name": "stderr",
     "output_type": "stream",
     "text": [
      "     53/100      3.96G     0.2413     0.1795     0.8967         40        640: 100%|██████████| 318/318 [01:03<00:00,  4.99it/s]\n",
      "                 Class     Images  Instances      Box(P          R      mAP50  mAP50-95): 100%|██████████| 40/40 [00:02<00:00, 13.70it/s]\n"
     ]
    },
    {
     "name": "stdout",
     "output_type": "stream",
     "text": [
      "                   all        636        949          1      0.987      0.995      0.989\n",
      "\n",
      "      Epoch    GPU_mem   box_loss   cls_loss   dfl_loss  Instances       Size\n"
     ]
    },
    {
     "name": "stderr",
     "output_type": "stream",
     "text": [
      "     54/100      3.95G     0.2293     0.1751      0.889         31        640: 100%|██████████| 318/318 [01:03<00:00,  4.97it/s]\n",
      "                 Class     Images  Instances      Box(P          R      mAP50  mAP50-95): 100%|██████████| 40/40 [00:02<00:00, 13.76it/s]\n"
     ]
    },
    {
     "name": "stdout",
     "output_type": "stream",
     "text": [
      "                   all        636        949          1      0.987      0.995      0.986\n",
      "\n",
      "      Epoch    GPU_mem   box_loss   cls_loss   dfl_loss  Instances       Size\n"
     ]
    },
    {
     "name": "stderr",
     "output_type": "stream",
     "text": [
      "     55/100      3.94G     0.2273     0.1741     0.8892         36        640: 100%|██████████| 318/318 [01:04<00:00,  4.97it/s]\n",
      "                 Class     Images  Instances      Box(P          R      mAP50  mAP50-95): 100%|██████████| 40/40 [00:02<00:00, 13.74it/s]\n"
     ]
    },
    {
     "name": "stdout",
     "output_type": "stream",
     "text": [
      "                   all        636        949          1      0.986      0.994      0.988\n",
      "\n",
      "      Epoch    GPU_mem   box_loss   cls_loss   dfl_loss  Instances       Size\n"
     ]
    },
    {
     "name": "stderr",
     "output_type": "stream",
     "text": [
      "     56/100      3.97G     0.2224     0.1711     0.8853         43        640: 100%|██████████| 318/318 [01:03<00:00,  4.97it/s]\n",
      "                 Class     Images  Instances      Box(P          R      mAP50  mAP50-95): 100%|██████████| 40/40 [00:02<00:00, 13.54it/s]\n"
     ]
    },
    {
     "name": "stdout",
     "output_type": "stream",
     "text": [
      "                   all        636        949          1      0.986      0.994       0.99\n",
      "\n",
      "      Epoch    GPU_mem   box_loss   cls_loss   dfl_loss  Instances       Size\n"
     ]
    },
    {
     "name": "stderr",
     "output_type": "stream",
     "text": [
      "     57/100      3.94G     0.2233     0.1681     0.8865         31        640: 100%|██████████| 318/318 [01:04<00:00,  4.95it/s]\n",
      "                 Class     Images  Instances      Box(P          R      mAP50  mAP50-95): 100%|██████████| 40/40 [00:02<00:00, 13.66it/s]\n"
     ]
    },
    {
     "name": "stdout",
     "output_type": "stream",
     "text": [
      "                   all        636        949          1      0.987      0.994      0.989\n",
      "\n",
      "      Epoch    GPU_mem   box_loss   cls_loss   dfl_loss  Instances       Size\n"
     ]
    },
    {
     "name": "stderr",
     "output_type": "stream",
     "text": [
      "     58/100      3.93G     0.2192     0.1676     0.8885         29        640: 100%|██████████| 318/318 [01:03<00:00,  4.97it/s]\n",
      "                 Class     Images  Instances      Box(P          R      mAP50  mAP50-95): 100%|██████████| 40/40 [00:02<00:00, 13.66it/s]\n"
     ]
    },
    {
     "name": "stdout",
     "output_type": "stream",
     "text": [
      "                   all        636        949      0.999      0.987      0.995      0.989\n",
      "\n",
      "      Epoch    GPU_mem   box_loss   cls_loss   dfl_loss  Instances       Size\n"
     ]
    },
    {
     "name": "stderr",
     "output_type": "stream",
     "text": [
      "     59/100      3.96G     0.2144     0.1666     0.8838         37        640: 100%|██████████| 318/318 [01:04<00:00,  4.97it/s]\n",
      "                 Class     Images  Instances      Box(P          R      mAP50  mAP50-95): 100%|██████████| 40/40 [00:02<00:00, 13.58it/s]\n"
     ]
    },
    {
     "name": "stdout",
     "output_type": "stream",
     "text": [
      "                   all        636        949          1      0.987      0.994      0.989\n"
     ]
    },
    {
     "name": "stderr",
     "output_type": "stream",
     "text": [
      "\r",
      "  0%|          | 0/318 [00:00<?, ?it/s]"
     ]
    },
    {
     "name": "stdout",
     "output_type": "stream",
     "text": [
      "\n",
      "      Epoch    GPU_mem   box_loss   cls_loss   dfl_loss  Instances       Size\n"
     ]
    },
    {
     "name": "stderr",
     "output_type": "stream",
     "text": [
      "     60/100      3.94G     0.2146     0.1655     0.8838         33        640: 100%|██████████| 318/318 [01:04<00:00,  4.96it/s]\n",
      "                 Class     Images  Instances      Box(P          R      mAP50  mAP50-95): 100%|██████████| 40/40 [00:02<00:00, 13.65it/s]\n"
     ]
    },
    {
     "name": "stdout",
     "output_type": "stream",
     "text": [
      "                   all        636        949      0.999      0.986      0.994       0.99\n",
      "\n",
      "      Epoch    GPU_mem   box_loss   cls_loss   dfl_loss  Instances       Size\n"
     ]
    },
    {
     "name": "stderr",
     "output_type": "stream",
     "text": [
      "     61/100      3.93G     0.2126     0.1636     0.8848         32        640: 100%|██████████| 318/318 [01:04<00:00,  4.96it/s]\n",
      "                 Class     Images  Instances      Box(P          R      mAP50  mAP50-95): 100%|██████████| 40/40 [00:02<00:00, 13.71it/s]\n"
     ]
    },
    {
     "name": "stdout",
     "output_type": "stream",
     "text": [
      "                   all        636        949          1      0.986      0.994      0.989\n",
      "\n",
      "      Epoch    GPU_mem   box_loss   cls_loss   dfl_loss  Instances       Size\n"
     ]
    },
    {
     "name": "stderr",
     "output_type": "stream",
     "text": [
      "     62/100      3.94G       0.21     0.1631     0.8804         36        640: 100%|██████████| 318/318 [01:04<00:00,  4.96it/s]\n",
      "                 Class     Images  Instances      Box(P          R      mAP50  mAP50-95): 100%|██████████| 40/40 [00:02<00:00, 13.63it/s]\n"
     ]
    },
    {
     "name": "stdout",
     "output_type": "stream",
     "text": [
      "                   all        636        949          1      0.987      0.994      0.989\n",
      "\n",
      "      Epoch    GPU_mem   box_loss   cls_loss   dfl_loss  Instances       Size\n"
     ]
    },
    {
     "name": "stderr",
     "output_type": "stream",
     "text": [
      "     63/100      3.95G     0.2106     0.1615     0.8848         31        640: 100%|██████████| 318/318 [01:03<00:00,  4.97it/s]\n",
      "                 Class     Images  Instances      Box(P          R      mAP50  mAP50-95): 100%|██████████| 40/40 [00:02<00:00, 13.62it/s]\n"
     ]
    },
    {
     "name": "stdout",
     "output_type": "stream",
     "text": [
      "                   all        636        949      0.999      0.986      0.994       0.99\n",
      "\n",
      "      Epoch    GPU_mem   box_loss   cls_loss   dfl_loss  Instances       Size\n"
     ]
    },
    {
     "name": "stderr",
     "output_type": "stream",
     "text": [
      "     64/100      3.94G      0.208     0.1624     0.8823         36        640: 100%|██████████| 318/318 [01:04<00:00,  4.96it/s]\n",
      "                 Class     Images  Instances      Box(P          R      mAP50  mAP50-95): 100%|██████████| 40/40 [00:02<00:00, 13.63it/s]\n"
     ]
    },
    {
     "name": "stdout",
     "output_type": "stream",
     "text": [
      "                   all        636        949          1      0.986      0.994      0.989\n",
      "\n",
      "      Epoch    GPU_mem   box_loss   cls_loss   dfl_loss  Instances       Size\n"
     ]
    },
    {
     "name": "stderr",
     "output_type": "stream",
     "text": [
      "     65/100      3.94G     0.2014     0.1562     0.8789         32        640: 100%|██████████| 318/318 [01:03<00:00,  4.97it/s]\n",
      "                 Class     Images  Instances      Box(P          R      mAP50  mAP50-95): 100%|██████████| 40/40 [00:02<00:00, 13.75it/s]\n"
     ]
    },
    {
     "name": "stdout",
     "output_type": "stream",
     "text": [
      "                   all        636        949          1      0.986      0.994      0.989\n",
      "\n",
      "      Epoch    GPU_mem   box_loss   cls_loss   dfl_loss  Instances       Size\n"
     ]
    },
    {
     "name": "stderr",
     "output_type": "stream",
     "text": [
      "     66/100      3.95G      0.199     0.1573     0.8756         32        640: 100%|██████████| 318/318 [01:04<00:00,  4.96it/s]\n",
      "                 Class     Images  Instances      Box(P          R      mAP50  mAP50-95): 100%|██████████| 40/40 [00:02<00:00, 13.42it/s]\n"
     ]
    },
    {
     "name": "stdout",
     "output_type": "stream",
     "text": [
      "                   all        636        949          1      0.986      0.994      0.988\n",
      "\n",
      "      Epoch    GPU_mem   box_loss   cls_loss   dfl_loss  Instances       Size\n"
     ]
    },
    {
     "name": "stderr",
     "output_type": "stream",
     "text": [
      "     67/100      3.95G     0.1982     0.1554     0.8776         32        640: 100%|██████████| 318/318 [01:04<00:00,  4.96it/s]\n",
      "                 Class     Images  Instances      Box(P          R      mAP50  mAP50-95): 100%|██████████| 40/40 [00:02<00:00, 13.72it/s]\n"
     ]
    },
    {
     "name": "stdout",
     "output_type": "stream",
     "text": [
      "                   all        636        949          1      0.986      0.994      0.989\n",
      "\n",
      "      Epoch    GPU_mem   box_loss   cls_loss   dfl_loss  Instances       Size\n"
     ]
    },
    {
     "name": "stderr",
     "output_type": "stream",
     "text": [
      "     68/100      3.95G      0.196     0.1543     0.8769         41        640: 100%|██████████| 318/318 [01:04<00:00,  4.97it/s]\n",
      "                 Class     Images  Instances      Box(P          R      mAP50  mAP50-95): 100%|██████████| 40/40 [00:02<00:00, 13.72it/s]\n"
     ]
    },
    {
     "name": "stdout",
     "output_type": "stream",
     "text": [
      "                   all        636        949      0.999      0.986      0.994       0.99\n",
      "\n",
      "      Epoch    GPU_mem   box_loss   cls_loss   dfl_loss  Instances       Size\n"
     ]
    },
    {
     "name": "stderr",
     "output_type": "stream",
     "text": [
      "     69/100      3.93G     0.1934     0.1507      0.877         29        640: 100%|██████████| 318/318 [01:03<00:00,  4.99it/s]\n",
      "                 Class     Images  Instances      Box(P          R      mAP50  mAP50-95): 100%|██████████| 40/40 [00:02<00:00, 13.53it/s]\n"
     ]
    },
    {
     "name": "stdout",
     "output_type": "stream",
     "text": [
      "                   all        636        949          1      0.986      0.994      0.989\n"
     ]
    },
    {
     "name": "stderr",
     "output_type": "stream",
     "text": [
      "\r",
      "  0%|          | 0/318 [00:00<?, ?it/s]"
     ]
    },
    {
     "name": "stdout",
     "output_type": "stream",
     "text": [
      "\n",
      "      Epoch    GPU_mem   box_loss   cls_loss   dfl_loss  Instances       Size\n"
     ]
    },
    {
     "name": "stderr",
     "output_type": "stream",
     "text": [
      "     70/100      3.93G     0.1925     0.1526     0.8748         28        640: 100%|██████████| 318/318 [01:03<00:00,  4.99it/s]\n",
      "                 Class     Images  Instances      Box(P          R      mAP50  mAP50-95): 100%|██████████| 40/40 [00:02<00:00, 13.68it/s]\n"
     ]
    },
    {
     "name": "stdout",
     "output_type": "stream",
     "text": [
      "                   all        636        949          1      0.986      0.994       0.99\n",
      "\n",
      "      Epoch    GPU_mem   box_loss   cls_loss   dfl_loss  Instances       Size\n"
     ]
    },
    {
     "name": "stderr",
     "output_type": "stream",
     "text": [
      "     71/100      3.94G     0.1884     0.1503     0.8707         40        640: 100%|██████████| 318/318 [01:03<00:00,  4.98it/s]\n",
      "                 Class     Images  Instances      Box(P          R      mAP50  mAP50-95): 100%|██████████| 40/40 [00:02<00:00, 13.84it/s]\n"
     ]
    },
    {
     "name": "stdout",
     "output_type": "stream",
     "text": [
      "                   all        636        949      0.999      0.986      0.994      0.989\n",
      "\n",
      "      Epoch    GPU_mem   box_loss   cls_loss   dfl_loss  Instances       Size\n"
     ]
    },
    {
     "name": "stderr",
     "output_type": "stream",
     "text": [
      "     72/100      3.93G     0.1889     0.1511     0.8762         29        640: 100%|██████████| 318/318 [01:03<00:00,  4.98it/s]\n",
      "                 Class     Images  Instances      Box(P          R      mAP50  mAP50-95): 100%|██████████| 40/40 [00:02<00:00, 13.46it/s]\n"
     ]
    },
    {
     "name": "stdout",
     "output_type": "stream",
     "text": [
      "                   all        636        949          1      0.987      0.994      0.989\n",
      "\n",
      "      Epoch    GPU_mem   box_loss   cls_loss   dfl_loss  Instances       Size\n"
     ]
    },
    {
     "name": "stderr",
     "output_type": "stream",
     "text": [
      "     73/100      3.93G     0.1873     0.1504     0.8747         30        640: 100%|██████████| 318/318 [01:03<00:00,  4.98it/s]\n",
      "                 Class     Images  Instances      Box(P          R      mAP50  mAP50-95): 100%|██████████| 40/40 [00:02<00:00, 13.77it/s]\n"
     ]
    },
    {
     "name": "stdout",
     "output_type": "stream",
     "text": [
      "                   all        636        949      0.999      0.986      0.994      0.989\n",
      "\n",
      "      Epoch    GPU_mem   box_loss   cls_loss   dfl_loss  Instances       Size\n"
     ]
    },
    {
     "name": "stderr",
     "output_type": "stream",
     "text": [
      "     74/100      3.94G      0.188     0.1523     0.8739         37        640: 100%|██████████| 318/318 [01:04<00:00,  4.97it/s]\n",
      "                 Class     Images  Instances      Box(P          R      mAP50  mAP50-95): 100%|██████████| 40/40 [00:02<00:00, 13.60it/s]\n"
     ]
    },
    {
     "name": "stdout",
     "output_type": "stream",
     "text": [
      "                   all        636        949          1      0.987      0.994       0.99\n",
      "\n",
      "      Epoch    GPU_mem   box_loss   cls_loss   dfl_loss  Instances       Size\n"
     ]
    },
    {
     "name": "stderr",
     "output_type": "stream",
     "text": [
      "     75/100      3.92G     0.1802      0.145     0.8674         37        640: 100%|██████████| 318/318 [01:03<00:00,  4.98it/s]\n",
      "                 Class     Images  Instances      Box(P          R      mAP50  mAP50-95): 100%|██████████| 40/40 [00:02<00:00, 13.50it/s]\n"
     ]
    },
    {
     "name": "stdout",
     "output_type": "stream",
     "text": [
      "                   all        636        949          1      0.987      0.994      0.989\n",
      "\n",
      "      Epoch    GPU_mem   box_loss   cls_loss   dfl_loss  Instances       Size\n"
     ]
    },
    {
     "name": "stderr",
     "output_type": "stream",
     "text": [
      "     76/100      3.95G     0.1752     0.1428     0.8702         35        640: 100%|██████████| 318/318 [01:04<00:00,  4.96it/s]\n",
      "                 Class     Images  Instances      Box(P          R      mAP50  mAP50-95): 100%|██████████| 40/40 [00:02<00:00, 13.55it/s]\n"
     ]
    },
    {
     "name": "stdout",
     "output_type": "stream",
     "text": [
      "                   all        636        949          1      0.987      0.994       0.99\n",
      "\n",
      "      Epoch    GPU_mem   box_loss   cls_loss   dfl_loss  Instances       Size\n"
     ]
    },
    {
     "name": "stderr",
     "output_type": "stream",
     "text": [
      "     77/100      3.93G     0.1815     0.1466     0.8724         34        640: 100%|██████████| 318/318 [01:04<00:00,  4.96it/s]\n",
      "                 Class     Images  Instances      Box(P          R      mAP50  mAP50-95): 100%|██████████| 40/40 [00:02<00:00, 13.67it/s]\n"
     ]
    },
    {
     "name": "stdout",
     "output_type": "stream",
     "text": [
      "                   all        636        949          1      0.986      0.994       0.99\n",
      "\n",
      "      Epoch    GPU_mem   box_loss   cls_loss   dfl_loss  Instances       Size\n"
     ]
    },
    {
     "name": "stderr",
     "output_type": "stream",
     "text": [
      "     78/100      3.93G     0.1742     0.1429     0.8689         34        640: 100%|██████████| 318/318 [01:03<00:00,  4.98it/s]\n",
      "                 Class     Images  Instances      Box(P          R      mAP50  mAP50-95): 100%|██████████| 40/40 [00:02<00:00, 13.45it/s]\n"
     ]
    },
    {
     "name": "stdout",
     "output_type": "stream",
     "text": [
      "                   all        636        949      0.999      0.986      0.994      0.989\n",
      "\n",
      "      Epoch    GPU_mem   box_loss   cls_loss   dfl_loss  Instances       Size\n"
     ]
    },
    {
     "name": "stderr",
     "output_type": "stream",
     "text": [
      "     79/100      3.93G     0.1763     0.1427     0.8713         30        640: 100%|██████████| 318/318 [01:03<00:00,  4.97it/s]\n",
      "                 Class     Images  Instances      Box(P          R      mAP50  mAP50-95): 100%|██████████| 40/40 [00:02<00:00, 13.66it/s]\n"
     ]
    },
    {
     "name": "stdout",
     "output_type": "stream",
     "text": [
      "                   all        636        949          1      0.987      0.994       0.99\n",
      "\n",
      "      Epoch    GPU_mem   box_loss   cls_loss   dfl_loss  Instances       Size\n"
     ]
    },
    {
     "name": "stderr",
     "output_type": "stream",
     "text": [
      "     80/100      3.96G     0.1797     0.1435     0.8739         32        640: 100%|██████████| 318/318 [01:04<00:00,  4.97it/s]\n",
      "                 Class     Images  Instances      Box(P          R      mAP50  mAP50-95): 100%|██████████| 40/40 [00:02<00:00, 13.58it/s]\n"
     ]
    },
    {
     "name": "stdout",
     "output_type": "stream",
     "text": [
      "                   all        636        949          1      0.986      0.994      0.989\n",
      "\n",
      "      Epoch    GPU_mem   box_loss   cls_loss   dfl_loss  Instances       Size\n"
     ]
    },
    {
     "name": "stderr",
     "output_type": "stream",
     "text": [
      "     81/100      3.93G     0.1709     0.1394     0.8665         31        640: 100%|██████████| 318/318 [01:03<00:00,  4.97it/s]\n",
      "                 Class     Images  Instances      Box(P          R      mAP50  mAP50-95): 100%|██████████| 40/40 [00:02<00:00, 13.61it/s]\n"
     ]
    },
    {
     "name": "stdout",
     "output_type": "stream",
     "text": [
      "                   all        636        949          1      0.986      0.994       0.99\n",
      "\n",
      "      Epoch    GPU_mem   box_loss   cls_loss   dfl_loss  Instances       Size\n"
     ]
    },
    {
     "name": "stderr",
     "output_type": "stream",
     "text": [
      "     82/100      3.93G     0.1685     0.1396     0.8676         31        640: 100%|██████████| 318/318 [01:03<00:00,  4.97it/s]\n",
      "                 Class     Images  Instances      Box(P          R      mAP50  mAP50-95): 100%|██████████| 40/40 [00:02<00:00, 13.58it/s]\n"
     ]
    },
    {
     "name": "stdout",
     "output_type": "stream",
     "text": [
      "                   all        636        949          1      0.986      0.994       0.99\n",
      "\n",
      "      Epoch    GPU_mem   box_loss   cls_loss   dfl_loss  Instances       Size\n"
     ]
    },
    {
     "name": "stderr",
     "output_type": "stream",
     "text": [
      "     83/100      3.93G     0.1661     0.1361     0.8668         39        640: 100%|██████████| 318/318 [01:03<00:00,  4.99it/s]\n",
      "                 Class     Images  Instances      Box(P          R      mAP50  mAP50-95): 100%|██████████| 40/40 [00:02<00:00, 13.62it/s]\n"
     ]
    },
    {
     "name": "stdout",
     "output_type": "stream",
     "text": [
      "                   all        636        949          1      0.987      0.994      0.989\n",
      "\n",
      "      Epoch    GPU_mem   box_loss   cls_loss   dfl_loss  Instances       Size\n"
     ]
    },
    {
     "name": "stderr",
     "output_type": "stream",
     "text": [
      "     84/100      3.95G     0.1605     0.1338     0.8637         34        640: 100%|██████████| 318/318 [01:04<00:00,  4.97it/s]\n",
      "                 Class     Images  Instances      Box(P          R      mAP50  mAP50-95): 100%|██████████| 40/40 [00:02<00:00, 13.63it/s]\n"
     ]
    },
    {
     "name": "stdout",
     "output_type": "stream",
     "text": [
      "                   all        636        949      0.999      0.986      0.994       0.99\n",
      "\n",
      "      Epoch    GPU_mem   box_loss   cls_loss   dfl_loss  Instances       Size\n"
     ]
    },
    {
     "name": "stderr",
     "output_type": "stream",
     "text": [
      "     85/100      3.94G     0.1637     0.1345      0.866         32        640: 100%|██████████| 318/318 [01:03<00:00,  4.98it/s]\n",
      "                 Class     Images  Instances      Box(P          R      mAP50  mAP50-95): 100%|██████████| 40/40 [00:02<00:00, 13.65it/s]\n"
     ]
    },
    {
     "name": "stdout",
     "output_type": "stream",
     "text": [
      "                   all        636        949          1      0.987      0.994       0.99\n",
      "\n",
      "      Epoch    GPU_mem   box_loss   cls_loss   dfl_loss  Instances       Size\n"
     ]
    },
    {
     "name": "stderr",
     "output_type": "stream",
     "text": [
      "     86/100      3.96G      0.162     0.1328     0.8658         33        640: 100%|██████████| 318/318 [01:04<00:00,  4.96it/s]\n",
      "                 Class     Images  Instances      Box(P          R      mAP50  mAP50-95): 100%|██████████| 40/40 [00:02<00:00, 13.56it/s]\n"
     ]
    },
    {
     "name": "stdout",
     "output_type": "stream",
     "text": [
      "                   all        636        949      0.999      0.986      0.994       0.99\n",
      "\n",
      "      Epoch    GPU_mem   box_loss   cls_loss   dfl_loss  Instances       Size\n"
     ]
    },
    {
     "name": "stderr",
     "output_type": "stream",
     "text": [
      "     87/100      3.93G     0.1556     0.1293     0.8619         31        640: 100%|██████████| 318/318 [01:03<00:00,  4.97it/s]\n",
      "                 Class     Images  Instances      Box(P          R      mAP50  mAP50-95): 100%|██████████| 40/40 [00:02<00:00, 13.54it/s]\n"
     ]
    },
    {
     "name": "stdout",
     "output_type": "stream",
     "text": [
      "                   all        636        949          1      0.986      0.994      0.989\n",
      "\n",
      "      Epoch    GPU_mem   box_loss   cls_loss   dfl_loss  Instances       Size\n"
     ]
    },
    {
     "name": "stderr",
     "output_type": "stream",
     "text": [
      "     88/100      3.94G     0.1581     0.1304     0.8643         29        640: 100%|██████████| 318/318 [01:03<00:00,  4.97it/s]\n",
      "                 Class     Images  Instances      Box(P          R      mAP50  mAP50-95): 100%|██████████| 40/40 [00:02<00:00, 13.58it/s]\n"
     ]
    },
    {
     "name": "stdout",
     "output_type": "stream",
     "text": [
      "                   all        636        949          1      0.986      0.994       0.99\n"
     ]
    },
    {
     "name": "stderr",
     "output_type": "stream",
     "text": [
      "\r",
      "  0%|          | 0/318 [00:00<?, ?it/s]\r",
      "     89/100      3.94G     0.1606     0.1333     0.8759         24        640:   0%|          | 0/318 [00:00<?, ?it/s]\r",
      "     89/100      3.94G     0.1606     0.1333     0.8759         24        640:   0%|          | 1/318 [00:00<01:02,  5.10it/s]"
     ]
    },
    {
     "name": "stdout",
     "output_type": "stream",
     "text": [
      "\n",
      "      Epoch    GPU_mem   box_loss   cls_loss   dfl_loss  Instances       Size\n"
     ]
    },
    {
     "name": "stderr",
     "output_type": "stream",
     "text": [
      "     89/100      3.95G     0.1542     0.1282     0.8619         32        640: 100%|██████████| 318/318 [01:03<00:00,  4.97it/s]\n",
      "                 Class     Images  Instances      Box(P          R      mAP50  mAP50-95): 100%|██████████| 40/40 [00:02<00:00, 13.60it/s]\n"
     ]
    },
    {
     "name": "stdout",
     "output_type": "stream",
     "text": [
      "                   all        636        949          1      0.986      0.994       0.99\n",
      "\n",
      "      Epoch    GPU_mem   box_loss   cls_loss   dfl_loss  Instances       Size\n"
     ]
    },
    {
     "name": "stderr",
     "output_type": "stream",
     "text": [
      "     90/100      3.94G     0.1559       0.13     0.8615         34        640: 100%|██████████| 318/318 [01:04<00:00,  4.97it/s]\n",
      "                 Class     Images  Instances      Box(P          R      mAP50  mAP50-95): 100%|██████████| 40/40 [00:02<00:00, 13.59it/s]\n"
     ]
    },
    {
     "name": "stdout",
     "output_type": "stream",
     "text": [
      "                   all        636        949      0.999      0.986      0.994       0.99\n",
      "Closing dataloader mosaic\n",
      "\n",
      "      Epoch    GPU_mem   box_loss   cls_loss   dfl_loss  Instances       Size\n"
     ]
    },
    {
     "name": "stderr",
     "output_type": "stream",
     "text": [
      "     91/100      3.96G     0.1347      0.113     0.8237         12        640: 100%|██████████| 318/318 [01:04<00:00,  4.96it/s]\n",
      "                 Class     Images  Instances      Box(P          R      mAP50  mAP50-95): 100%|██████████| 40/40 [00:02<00:00, 13.64it/s]\n"
     ]
    },
    {
     "name": "stdout",
     "output_type": "stream",
     "text": [
      "                   all        636        949      0.999      0.986      0.994      0.989\n",
      "\n",
      "      Epoch    GPU_mem   box_loss   cls_loss   dfl_loss  Instances       Size\n"
     ]
    },
    {
     "name": "stderr",
     "output_type": "stream",
     "text": [
      "     92/100      3.95G     0.1258     0.1077     0.8223         12        640: 100%|██████████| 318/318 [01:03<00:00,  4.98it/s]\n",
      "                 Class     Images  Instances      Box(P          R      mAP50  mAP50-95): 100%|██████████| 40/40 [00:02<00:00, 13.49it/s]\n"
     ]
    },
    {
     "name": "stdout",
     "output_type": "stream",
     "text": [
      "                   all        636        949      0.999      0.987      0.994      0.989\n",
      "\n",
      "      Epoch    GPU_mem   box_loss   cls_loss   dfl_loss  Instances       Size\n"
     ]
    },
    {
     "name": "stderr",
     "output_type": "stream",
     "text": [
      "     93/100      3.96G     0.1211      0.104     0.8202         12        640: 100%|██████████| 318/318 [01:03<00:00,  4.99it/s]\n",
      "                 Class     Images  Instances      Box(P          R      mAP50  mAP50-95): 100%|██████████| 40/40 [00:02<00:00, 13.61it/s]\n"
     ]
    },
    {
     "name": "stdout",
     "output_type": "stream",
     "text": [
      "                   all        636        949      0.999      0.986      0.994      0.991\n",
      "\n",
      "      Epoch    GPU_mem   box_loss   cls_loss   dfl_loss  Instances       Size\n"
     ]
    },
    {
     "name": "stderr",
     "output_type": "stream",
     "text": [
      "     94/100      3.94G     0.1217     0.1064     0.8247         14        640: 100%|██████████| 318/318 [01:03<00:00,  4.98it/s]\n",
      "                 Class     Images  Instances      Box(P          R      mAP50  mAP50-95): 100%|██████████| 40/40 [00:02<00:00, 13.70it/s]\n"
     ]
    },
    {
     "name": "stdout",
     "output_type": "stream",
     "text": [
      "                   all        636        949      0.999      0.986      0.994      0.989\n",
      "\n",
      "      Epoch    GPU_mem   box_loss   cls_loss   dfl_loss  Instances       Size\n"
     ]
    },
    {
     "name": "stderr",
     "output_type": "stream",
     "text": [
      "     95/100      3.93G     0.1216     0.1048     0.8228         15        640: 100%|██████████| 318/318 [01:03<00:00,  5.00it/s]\n",
      "                 Class     Images  Instances      Box(P          R      mAP50  mAP50-95): 100%|██████████| 40/40 [00:02<00:00, 13.60it/s]\n"
     ]
    },
    {
     "name": "stdout",
     "output_type": "stream",
     "text": [
      "                   all        636        949          1      0.987      0.994       0.99\n",
      "\n",
      "      Epoch    GPU_mem   box_loss   cls_loss   dfl_loss  Instances       Size\n"
     ]
    },
    {
     "name": "stderr",
     "output_type": "stream",
     "text": [
      "     96/100      3.93G     0.1154     0.1017     0.8136         13        640: 100%|██████████| 318/318 [01:03<00:00,  4.98it/s]\n",
      "                 Class     Images  Instances      Box(P          R      mAP50  mAP50-95): 100%|██████████| 40/40 [00:02<00:00, 13.57it/s]\n"
     ]
    },
    {
     "name": "stdout",
     "output_type": "stream",
     "text": [
      "                   all        636        949      0.999      0.986      0.994      0.989\n",
      "\n",
      "      Epoch    GPU_mem   box_loss   cls_loss   dfl_loss  Instances       Size\n"
     ]
    },
    {
     "name": "stderr",
     "output_type": "stream",
     "text": [
      "     97/100      3.95G     0.1103     0.0996     0.8167         11        640: 100%|██████████| 318/318 [01:03<00:00,  4.99it/s]\n",
      "                 Class     Images  Instances      Box(P          R      mAP50  mAP50-95): 100%|██████████| 40/40 [00:02<00:00, 13.46it/s]\n"
     ]
    },
    {
     "name": "stdout",
     "output_type": "stream",
     "text": [
      "                   all        636        949      0.999      0.986      0.994      0.989\n",
      "\n",
      "      Epoch    GPU_mem   box_loss   cls_loss   dfl_loss  Instances       Size\n"
     ]
    },
    {
     "name": "stderr",
     "output_type": "stream",
     "text": [
      "     98/100      3.95G     0.1126     0.1007     0.8186         14        640: 100%|██████████| 318/318 [01:03<00:00,  4.99it/s]\n",
      "                 Class     Images  Instances      Box(P          R      mAP50  mAP50-95): 100%|██████████| 40/40 [00:02<00:00, 13.48it/s]\n"
     ]
    },
    {
     "name": "stdout",
     "output_type": "stream",
     "text": [
      "                   all        636        949      0.999      0.986      0.994       0.99\n",
      "\n",
      "      Epoch    GPU_mem   box_loss   cls_loss   dfl_loss  Instances       Size\n"
     ]
    },
    {
     "name": "stderr",
     "output_type": "stream",
     "text": [
      "     99/100      3.94G     0.1077    0.09727     0.8193         12        640: 100%|██████████| 318/318 [01:03<00:00,  4.99it/s]\n",
      "                 Class     Images  Instances      Box(P          R      mAP50  mAP50-95): 100%|██████████| 40/40 [00:02<00:00, 13.64it/s]\n"
     ]
    },
    {
     "name": "stdout",
     "output_type": "stream",
     "text": [
      "                   all        636        949      0.999      0.986      0.994       0.99\n",
      "\n",
      "      Epoch    GPU_mem   box_loss   cls_loss   dfl_loss  Instances       Size\n"
     ]
    },
    {
     "name": "stderr",
     "output_type": "stream",
     "text": [
      "    100/100      3.95G     0.1074    0.09639     0.8174         11        640: 100%|██████████| 318/318 [01:03<00:00,  4.99it/s]\n",
      "                 Class     Images  Instances      Box(P          R      mAP50  mAP50-95): 100%|██████████| 40/40 [00:02<00:00, 13.61it/s]\n"
     ]
    },
    {
     "name": "stdout",
     "output_type": "stream",
     "text": [
      "                   all        636        949          1      0.987      0.994       0.99\n",
      "\n",
      "100 epochs completed in 1.932 hours.\n",
      "Optimizer stripped from runs/detect/train7/weights/last.pt, 52.0MB\n",
      "Optimizer stripped from runs/detect/train7/weights/best.pt, 52.0MB\n",
      "\n",
      "Validating runs/detect/train7/weights/best.pt...\n",
      "Ultralytics YOLOv8.1.47 🚀 Python-3.12.2 torch-2.2.2+cu118 CUDA:0 (NVIDIA GeForce RTX 3080, 10001MiB)\n",
      "                                                           CUDA:1 (NVIDIA GeForce RTX 3080, 10009MiB)\n",
      "YOLOv8m summary (fused): 218 layers, 25841497 parameters, 0 gradients, 78.7 GFLOPs\n"
     ]
    },
    {
     "name": "stderr",
     "output_type": "stream",
     "text": [
      "                 Class     Images  Instances      Box(P          R      mAP50  mAP50-95): 100%|██████████| 40/40 [00:02<00:00, 13.63it/s]\n"
     ]
    },
    {
     "name": "stdout",
     "output_type": "stream",
     "text": [
      "                   all        636        949      0.999      0.986      0.994      0.991\n",
      "                person        636        636      0.999          1      0.995      0.992\n",
      "                   gun        636        313          1      0.971      0.993      0.989\n",
      "Speed: 0.4ms preprocess, 2.0ms inference, 0.0ms loss, 0.5ms postprocess per image\n",
      "Results saved to \u001b[1mruns/detect/train7\u001b[0m\n"
     ]
    }
   ],
   "source": [
    "\n",
    "results = model.train(data='data.yaml', epochs=100, imgsz=640, device=[0, 1])"
   ]
  },
  {
   "cell_type": "code",
   "execution_count": 6,
   "metadata": {},
   "outputs": [
    {
     "name": "stdout",
     "output_type": "stream",
     "text": [
      "Ultralytics YOLOv8.1.47 🚀 Python-3.12.2 torch-2.2.2+cu118 CUDA:0 (NVIDIA GeForce RTX 3080, 10001MiB)\n",
      "Found http://localhost:8888/edit/Desktop/khalid_weapon_temper_weiner_m/best.pt locally at best.pt\n",
      "YOLOv8n summary (fused): 168 layers, 3006233 parameters, 0 gradients, 8.1 GFLOPs\n",
      "\u001b[34m\u001b[1mval: \u001b[0mScanning /home/ijaz/Desktop/khalid_weapon_temper_weiner_m/val_dataset/label\u001b[0m\n",
      "                 Class     Images  Instances      Box(P          R      mAP50  m\n",
      "                   all        636        949      0.999      0.986      0.994      0.981\n",
      "                person        636        636          1          1      0.995      0.991\n",
      "                   gun        636        313      0.999      0.971      0.994      0.971\n",
      "Speed: 0.5ms preprocess, 1.0ms inference, 0.0ms loss, 1.4ms postprocess per image\n",
      "Results saved to \u001b[1mruns/detect/val3\u001b[0m\n",
      "💡 Learn more at https://docs.ultralytics.com/modes/val\n"
     ]
    }
   ],
   "source": [
    "!yolo task=detect mode=val model='http://localhost:8888/edit/Desktop/khalid_weapon_temper_weiner_m/best.pt' data=data.yaml"
   ]
  },
  {
   "cell_type": "code",
   "execution_count": 6,
   "metadata": {},
   "outputs": [
    {
     "name": "stdout",
     "output_type": "stream",
     "text": [
      "Ultralytics YOLOv8.2.101 ðŸš€ Python-3.9.19 torch-2.4.1+cpu CPU (Intel Core(TM) i7-9750H 2.60GHz)\n",
      "YOLOv8n summary (fused): 168 layers, 3,006,233 parameters, 0 gradients, 8.1 GFLOPs\n",
      "\n",
      "image 1/636 C:\\Users\\Khalid\\Desktop\\khalid_weapon_temper_weiner_m\\test_dataset\\images\\5725.jpg: 640x288 1 person, 62.5ms\n",
      "image 2/636 C:\\Users\\Khalid\\Desktop\\khalid_weapon_temper_weiner_m\\test_dataset\\images\\5726.jpg: 640x288 1 person, 46.9ms\n",
      "image 3/636 C:\\Users\\Khalid\\Desktop\\khalid_weapon_temper_weiner_m\\test_dataset\\images\\5727.jpg: 640x288 1 person, 1 gun, 46.9ms\n",
      "image 4/636 C:\\Users\\Khalid\\Desktop\\khalid_weapon_temper_weiner_m\\test_dataset\\images\\5728.jpg: 640x288 1 person, 1 gun, 46.9ms\n",
      "image 5/636 C:\\Users\\Khalid\\Desktop\\khalid_weapon_temper_weiner_m\\test_dataset\\images\\5729.jpg: 640x288 1 person, 1 gun, 31.4ms\n",
      "image 6/636 C:\\Users\\Khalid\\Desktop\\khalid_weapon_temper_weiner_m\\test_dataset\\images\\5730.jpg: 640x288 1 person, 1 gun, 47.2ms\n",
      "image 7/636 C:\\Users\\Khalid\\Desktop\\khalid_weapon_temper_weiner_m\\test_dataset\\images\\5731.jpg: 640x288 1 person, 1 gun, 46.9ms\n",
      "image 8/636 C:\\Users\\Khalid\\Desktop\\khalid_weapon_temper_weiner_m\\test_dataset\\images\\5732.jpg: 640x288 1 person, 54.3ms\n",
      "image 9/636 C:\\Users\\Khalid\\Desktop\\khalid_weapon_temper_weiner_m\\test_dataset\\images\\5733.jpg: 640x288 1 person, 33.0ms\n",
      "image 10/636 C:\\Users\\Khalid\\Desktop\\khalid_weapon_temper_weiner_m\\test_dataset\\images\\5734.jpg: 640x288 1 person, 31.2ms\n",
      "image 11/636 C:\\Users\\Khalid\\Desktop\\khalid_weapon_temper_weiner_m\\test_dataset\\images\\5735.jpg: 640x288 1 person, 38.1ms\n",
      "image 12/636 C:\\Users\\Khalid\\Desktop\\khalid_weapon_temper_weiner_m\\test_dataset\\images\\5736.jpg: 640x288 1 person, 47.0ms\n",
      "image 13/636 C:\\Users\\Khalid\\Desktop\\khalid_weapon_temper_weiner_m\\test_dataset\\images\\5737.jpg: 640x288 1 person, 1 gun, 47.1ms\n",
      "image 14/636 C:\\Users\\Khalid\\Desktop\\khalid_weapon_temper_weiner_m\\test_dataset\\images\\5738.jpg: 640x288 1 person, 32.0ms\n",
      "image 15/636 C:\\Users\\Khalid\\Desktop\\khalid_weapon_temper_weiner_m\\test_dataset\\images\\5739.jpg: 640x288 1 person, 46.9ms\n",
      "image 16/636 C:\\Users\\Khalid\\Desktop\\khalid_weapon_temper_weiner_m\\test_dataset\\images\\5740.jpg: 640x288 1 person, 46.9ms\n",
      "image 17/636 C:\\Users\\Khalid\\Desktop\\khalid_weapon_temper_weiner_m\\test_dataset\\images\\5741.jpg: 640x288 1 person, 1 gun, 31.3ms\n",
      "image 18/636 C:\\Users\\Khalid\\Desktop\\khalid_weapon_temper_weiner_m\\test_dataset\\images\\5742.jpg: 640x288 1 person, 31.5ms\n",
      "image 19/636 C:\\Users\\Khalid\\Desktop\\khalid_weapon_temper_weiner_m\\test_dataset\\images\\5743.jpg: 640x288 1 person, 31.2ms\n",
      "image 20/636 C:\\Users\\Khalid\\Desktop\\khalid_weapon_temper_weiner_m\\test_dataset\\images\\5744.jpg: 640x288 1 person, 1 gun, 31.7ms\n",
      "image 21/636 C:\\Users\\Khalid\\Desktop\\khalid_weapon_temper_weiner_m\\test_dataset\\images\\5745.jpg: 640x288 1 person, 1 gun, 47.0ms\n",
      "image 22/636 C:\\Users\\Khalid\\Desktop\\khalid_weapon_temper_weiner_m\\test_dataset\\images\\5746.jpg: 640x288 1 person, 46.9ms\n",
      "image 23/636 C:\\Users\\Khalid\\Desktop\\khalid_weapon_temper_weiner_m\\test_dataset\\images\\5747.jpg: 640x288 1 person, 31.2ms\n",
      "image 24/636 C:\\Users\\Khalid\\Desktop\\khalid_weapon_temper_weiner_m\\test_dataset\\images\\5748.jpg: 640x288 1 person, 31.7ms\n",
      "image 25/636 C:\\Users\\Khalid\\Desktop\\khalid_weapon_temper_weiner_m\\test_dataset\\images\\5749.jpg: 640x288 1 person, 31.7ms\n",
      "image 26/636 C:\\Users\\Khalid\\Desktop\\khalid_weapon_temper_weiner_m\\test_dataset\\images\\5750.jpg: 640x288 1 person, 1 gun, 31.2ms\n",
      "image 27/636 C:\\Users\\Khalid\\Desktop\\khalid_weapon_temper_weiner_m\\test_dataset\\images\\5751.jpg: 640x288 1 person, 1 gun, 31.2ms\n",
      "image 28/636 C:\\Users\\Khalid\\Desktop\\khalid_weapon_temper_weiner_m\\test_dataset\\images\\5752.jpg: 640x288 1 person, 31.2ms\n",
      "image 29/636 C:\\Users\\Khalid\\Desktop\\khalid_weapon_temper_weiner_m\\test_dataset\\images\\5753.jpg: 640x288 1 person, 31.2ms\n",
      "image 30/636 C:\\Users\\Khalid\\Desktop\\khalid_weapon_temper_weiner_m\\test_dataset\\images\\5754.jpg: 640x288 1 person, 31.2ms\n",
      "image 31/636 C:\\Users\\Khalid\\Desktop\\khalid_weapon_temper_weiner_m\\test_dataset\\images\\5755.jpg: 640x288 1 person, 47.6ms\n",
      "image 32/636 C:\\Users\\Khalid\\Desktop\\khalid_weapon_temper_weiner_m\\test_dataset\\images\\5756.jpg: 640x288 1 person, 53.3ms\n",
      "image 33/636 C:\\Users\\Khalid\\Desktop\\khalid_weapon_temper_weiner_m\\test_dataset\\images\\5757.jpg: 640x288 1 person, 1 gun, 31.2ms\n",
      "image 34/636 C:\\Users\\Khalid\\Desktop\\khalid_weapon_temper_weiner_m\\test_dataset\\images\\5758.jpg: 640x288 1 person, 1 gun, 47.0ms\n",
      "image 35/636 C:\\Users\\Khalid\\Desktop\\khalid_weapon_temper_weiner_m\\test_dataset\\images\\5759.jpg: 640x288 1 person, 1 gun, 46.9ms\n",
      "image 36/636 C:\\Users\\Khalid\\Desktop\\khalid_weapon_temper_weiner_m\\test_dataset\\images\\5760.jpg: 640x288 1 person, 1 gun, 31.2ms\n",
      "image 37/636 C:\\Users\\Khalid\\Desktop\\khalid_weapon_temper_weiner_m\\test_dataset\\images\\5761.jpg: 640x288 1 person, 1 gun, 31.2ms\n",
      "image 38/636 C:\\Users\\Khalid\\Desktop\\khalid_weapon_temper_weiner_m\\test_dataset\\images\\5762.jpg: 640x288 1 person, 1 gun, 31.2ms\n",
      "image 39/636 C:\\Users\\Khalid\\Desktop\\khalid_weapon_temper_weiner_m\\test_dataset\\images\\5763.jpg: 640x288 1 person, 31.3ms\n",
      "image 40/636 C:\\Users\\Khalid\\Desktop\\khalid_weapon_temper_weiner_m\\test_dataset\\images\\5764.jpg: 640x288 1 person, 1 gun, 37.3ms\n",
      "image 41/636 C:\\Users\\Khalid\\Desktop\\khalid_weapon_temper_weiner_m\\test_dataset\\images\\5765.jpg: 640x288 1 person, 46.9ms\n",
      "image 42/636 C:\\Users\\Khalid\\Desktop\\khalid_weapon_temper_weiner_m\\test_dataset\\images\\5766.jpg: 640x288 1 person, 1 gun, 46.9ms\n",
      "image 43/636 C:\\Users\\Khalid\\Desktop\\khalid_weapon_temper_weiner_m\\test_dataset\\images\\5767.jpg: 640x288 1 person, 31.2ms\n",
      "image 44/636 C:\\Users\\Khalid\\Desktop\\khalid_weapon_temper_weiner_m\\test_dataset\\images\\5768.jpg: 640x288 1 person, 31.2ms\n",
      "image 45/636 C:\\Users\\Khalid\\Desktop\\khalid_weapon_temper_weiner_m\\test_dataset\\images\\5769.jpg: 640x288 1 person, 1 gun, 47.5ms\n",
      "image 46/636 C:\\Users\\Khalid\\Desktop\\khalid_weapon_temper_weiner_m\\test_dataset\\images\\5770.jpg: 640x288 1 person, 1 gun, 31.4ms\n",
      "image 47/636 C:\\Users\\Khalid\\Desktop\\khalid_weapon_temper_weiner_m\\test_dataset\\images\\5771.jpg: 640x288 1 person, 46.8ms\n",
      "image 48/636 C:\\Users\\Khalid\\Desktop\\khalid_weapon_temper_weiner_m\\test_dataset\\images\\5772.jpg: 640x288 1 person, 31.2ms\n",
      "image 49/636 C:\\Users\\Khalid\\Desktop\\khalid_weapon_temper_weiner_m\\test_dataset\\images\\5773.jpg: 640x288 1 person, 47.0ms\n",
      "image 50/636 C:\\Users\\Khalid\\Desktop\\khalid_weapon_temper_weiner_m\\test_dataset\\images\\5774.jpg: 640x288 1 person, 1 gun, 46.9ms\n",
      "image 51/636 C:\\Users\\Khalid\\Desktop\\khalid_weapon_temper_weiner_m\\test_dataset\\images\\5775.jpg: 640x288 1 person, 46.9ms\n",
      "image 52/636 C:\\Users\\Khalid\\Desktop\\khalid_weapon_temper_weiner_m\\test_dataset\\images\\5776.jpg: 640x288 1 person, 51.7ms\n",
      "image 53/636 C:\\Users\\Khalid\\Desktop\\khalid_weapon_temper_weiner_m\\test_dataset\\images\\5777.jpg: 640x288 1 person, 1 gun, 39.7ms\n",
      "image 54/636 C:\\Users\\Khalid\\Desktop\\khalid_weapon_temper_weiner_m\\test_dataset\\images\\5778.jpg: 640x288 1 person, 47.3ms\n",
      "image 55/636 C:\\Users\\Khalid\\Desktop\\khalid_weapon_temper_weiner_m\\test_dataset\\images\\5779.jpg: 640x288 1 person, 1 gun, 31.2ms\n",
      "image 56/636 C:\\Users\\Khalid\\Desktop\\khalid_weapon_temper_weiner_m\\test_dataset\\images\\5780.jpg: 640x288 1 person, 1 gun, 46.9ms\n",
      "image 57/636 C:\\Users\\Khalid\\Desktop\\khalid_weapon_temper_weiner_m\\test_dataset\\images\\5781.jpg: 640x288 1 person, 1 gun, 46.9ms\n",
      "image 58/636 C:\\Users\\Khalid\\Desktop\\khalid_weapon_temper_weiner_m\\test_dataset\\images\\5782.jpg: 640x288 1 person, 1 gun, 31.2ms\n",
      "image 59/636 C:\\Users\\Khalid\\Desktop\\khalid_weapon_temper_weiner_m\\test_dataset\\images\\5783.jpg: 640x288 1 person, 46.9ms\n",
      "image 60/636 C:\\Users\\Khalid\\Desktop\\khalid_weapon_temper_weiner_m\\test_dataset\\images\\5784.jpg: 640x288 1 person, 1 gun, 46.9ms\n",
      "image 61/636 C:\\Users\\Khalid\\Desktop\\khalid_weapon_temper_weiner_m\\test_dataset\\images\\5785.jpg: 640x288 1 person, 1 gun, 31.2ms\n",
      "image 62/636 C:\\Users\\Khalid\\Desktop\\khalid_weapon_temper_weiner_m\\test_dataset\\images\\5786.jpg: 640x288 1 person, 31.2ms\n",
      "image 63/636 C:\\Users\\Khalid\\Desktop\\khalid_weapon_temper_weiner_m\\test_dataset\\images\\5787.jpg: 640x288 1 person, 31.2ms\n",
      "image 64/636 C:\\Users\\Khalid\\Desktop\\khalid_weapon_temper_weiner_m\\test_dataset\\images\\5788.jpg: 640x288 1 person, 1 gun, 31.2ms\n",
      "image 65/636 C:\\Users\\Khalid\\Desktop\\khalid_weapon_temper_weiner_m\\test_dataset\\images\\5789.jpg: 640x288 1 person, 31.2ms\n",
      "image 66/636 C:\\Users\\Khalid\\Desktop\\khalid_weapon_temper_weiner_m\\test_dataset\\images\\5790.jpg: 640x288 1 person, 1 gun, 31.2ms\n",
      "image 67/636 C:\\Users\\Khalid\\Desktop\\khalid_weapon_temper_weiner_m\\test_dataset\\images\\5791.jpg: 640x288 1 person, 46.9ms\n",
      "image 68/636 C:\\Users\\Khalid\\Desktop\\khalid_weapon_temper_weiner_m\\test_dataset\\images\\5792.jpg: 640x288 1 person, 47.2ms\n",
      "image 69/636 C:\\Users\\Khalid\\Desktop\\khalid_weapon_temper_weiner_m\\test_dataset\\images\\5793.jpg: 640x288 1 person, 1 gun, 46.9ms\n",
      "image 70/636 C:\\Users\\Khalid\\Desktop\\khalid_weapon_temper_weiner_m\\test_dataset\\images\\5794.jpg: 640x288 1 person, 46.7ms\n",
      "image 71/636 C:\\Users\\Khalid\\Desktop\\khalid_weapon_temper_weiner_m\\test_dataset\\images\\5795.jpg: 640x288 1 person, 43.4ms\n",
      "image 72/636 C:\\Users\\Khalid\\Desktop\\khalid_weapon_temper_weiner_m\\test_dataset\\images\\5796.jpg: 640x288 1 person, 1 gun, 31.2ms\n",
      "image 73/636 C:\\Users\\Khalid\\Desktop\\khalid_weapon_temper_weiner_m\\test_dataset\\images\\5797.jpg: 640x288 1 person, 1 gun, 20.5ms\n",
      "image 74/636 C:\\Users\\Khalid\\Desktop\\khalid_weapon_temper_weiner_m\\test_dataset\\images\\5798.jpg: 640x288 1 person, 31.4ms\n",
      "image 75/636 C:\\Users\\Khalid\\Desktop\\khalid_weapon_temper_weiner_m\\test_dataset\\images\\5799.jpg: 640x288 1 person, 1 gun, 31.3ms\n",
      "image 76/636 C:\\Users\\Khalid\\Desktop\\khalid_weapon_temper_weiner_m\\test_dataset\\images\\5800.jpg: 640x288 1 person, 31.2ms\n",
      "image 77/636 C:\\Users\\Khalid\\Desktop\\khalid_weapon_temper_weiner_m\\test_dataset\\images\\5801.jpg: 640x288 1 person, 1 gun, 47.2ms\n",
      "image 78/636 C:\\Users\\Khalid\\Desktop\\khalid_weapon_temper_weiner_m\\test_dataset\\images\\5802.jpg: 640x288 1 person, 1 gun, 46.9ms\n",
      "image 79/636 C:\\Users\\Khalid\\Desktop\\khalid_weapon_temper_weiner_m\\test_dataset\\images\\5803.jpg: 640x288 1 person, 46.9ms\n",
      "image 80/636 C:\\Users\\Khalid\\Desktop\\khalid_weapon_temper_weiner_m\\test_dataset\\images\\5804.jpg: 640x288 1 person, 51.7ms\n",
      "image 81/636 C:\\Users\\Khalid\\Desktop\\khalid_weapon_temper_weiner_m\\test_dataset\\images\\5805.jpg: 640x288 1 person, 1 gun, 50.1ms\n",
      "image 82/636 C:\\Users\\Khalid\\Desktop\\khalid_weapon_temper_weiner_m\\test_dataset\\images\\5806.jpg: 640x288 1 person, 1 gun, 47.3ms\n",
      "image 83/636 C:\\Users\\Khalid\\Desktop\\khalid_weapon_temper_weiner_m\\test_dataset\\images\\5807.jpg: 640x288 1 person, 47.3ms\n",
      "image 84/636 C:\\Users\\Khalid\\Desktop\\khalid_weapon_temper_weiner_m\\test_dataset\\images\\5808.jpg: 640x288 1 person, 1 gun, 46.9ms\n",
      "image 85/636 C:\\Users\\Khalid\\Desktop\\khalid_weapon_temper_weiner_m\\test_dataset\\images\\5809.jpg: 640x288 1 person, 46.9ms\n",
      "image 86/636 C:\\Users\\Khalid\\Desktop\\khalid_weapon_temper_weiner_m\\test_dataset\\images\\5810.jpg: 640x288 1 person, 1 gun, 31.2ms\n",
      "image 87/636 C:\\Users\\Khalid\\Desktop\\khalid_weapon_temper_weiner_m\\test_dataset\\images\\5811.jpg: 640x288 1 person, 46.9ms\n",
      "image 88/636 C:\\Users\\Khalid\\Desktop\\khalid_weapon_temper_weiner_m\\test_dataset\\images\\5812.jpg: 640x288 1 person, 46.9ms\n",
      "image 89/636 C:\\Users\\Khalid\\Desktop\\khalid_weapon_temper_weiner_m\\test_dataset\\images\\5813.jpg: 640x288 1 person, 1 gun, 46.9ms\n",
      "image 90/636 C:\\Users\\Khalid\\Desktop\\khalid_weapon_temper_weiner_m\\test_dataset\\images\\5814.jpg: 640x288 1 person, 1 gun, 62.9ms\n",
      "image 91/636 C:\\Users\\Khalid\\Desktop\\khalid_weapon_temper_weiner_m\\test_dataset\\images\\5815.jpg: 640x288 1 person, 1 gun, 59.7ms\n",
      "image 92/636 C:\\Users\\Khalid\\Desktop\\khalid_weapon_temper_weiner_m\\test_dataset\\images\\5816.jpg: 640x288 1 person, 1 gun, 46.9ms\n",
      "image 93/636 C:\\Users\\Khalid\\Desktop\\khalid_weapon_temper_weiner_m\\test_dataset\\images\\5817.jpg: 640x288 1 person, 46.9ms\n",
      "image 94/636 C:\\Users\\Khalid\\Desktop\\khalid_weapon_temper_weiner_m\\test_dataset\\images\\5818.jpg: 640x288 1 person, 1 gun, 47.3ms\n",
      "image 95/636 C:\\Users\\Khalid\\Desktop\\khalid_weapon_temper_weiner_m\\test_dataset\\images\\5819.jpg: 640x288 1 person, 1 gun, 31.2ms\n",
      "image 96/636 C:\\Users\\Khalid\\Desktop\\khalid_weapon_temper_weiner_m\\test_dataset\\images\\5820.jpg: 640x288 1 person, 1 gun, 46.9ms\n",
      "image 97/636 C:\\Users\\Khalid\\Desktop\\khalid_weapon_temper_weiner_m\\test_dataset\\images\\5821.jpg: 640x288 1 person, 1 gun, 46.9ms\n",
      "image 98/636 C:\\Users\\Khalid\\Desktop\\khalid_weapon_temper_weiner_m\\test_dataset\\images\\5822.jpg: 640x288 1 person, 47.1ms\n",
      "image 99/636 C:\\Users\\Khalid\\Desktop\\khalid_weapon_temper_weiner_m\\test_dataset\\images\\5823.jpg: 640x288 1 person, 46.9ms\n",
      "image 100/636 C:\\Users\\Khalid\\Desktop\\khalid_weapon_temper_weiner_m\\test_dataset\\images\\5824.jpg: 640x288 1 person, 31.2ms\n",
      "image 101/636 C:\\Users\\Khalid\\Desktop\\khalid_weapon_temper_weiner_m\\test_dataset\\images\\5825.jpg: 640x288 1 person, 1 gun, 46.9ms\n",
      "image 102/636 C:\\Users\\Khalid\\Desktop\\khalid_weapon_temper_weiner_m\\test_dataset\\images\\5826.jpg: 640x288 1 person, 1 gun, 47.1ms\n",
      "image 103/636 C:\\Users\\Khalid\\Desktop\\khalid_weapon_temper_weiner_m\\test_dataset\\images\\5827.jpg: 640x288 1 person, 1 gun, 38.4ms\n",
      "image 104/636 C:\\Users\\Khalid\\Desktop\\khalid_weapon_temper_weiner_m\\test_dataset\\images\\5828.jpg: 640x288 1 person, 32.9ms\n",
      "image 105/636 C:\\Users\\Khalid\\Desktop\\khalid_weapon_temper_weiner_m\\test_dataset\\images\\5829.jpg: 640x288 1 person, 1 gun, 33.3ms\n",
      "image 106/636 C:\\Users\\Khalid\\Desktop\\khalid_weapon_temper_weiner_m\\test_dataset\\images\\5830.jpg: 640x288 1 person, 31.2ms\n",
      "image 107/636 C:\\Users\\Khalid\\Desktop\\khalid_weapon_temper_weiner_m\\test_dataset\\images\\5831.jpg: 640x288 1 person, 31.2ms\n",
      "image 108/636 C:\\Users\\Khalid\\Desktop\\khalid_weapon_temper_weiner_m\\test_dataset\\images\\5832.jpg: 640x288 1 person, 1 gun, 46.9ms\n",
      "image 109/636 C:\\Users\\Khalid\\Desktop\\khalid_weapon_temper_weiner_m\\test_dataset\\images\\5833.jpg: 640x288 1 person, 31.2ms\n",
      "image 110/636 C:\\Users\\Khalid\\Desktop\\khalid_weapon_temper_weiner_m\\test_dataset\\images\\5834.jpg: 640x288 1 person, 31.2ms\n",
      "image 111/636 C:\\Users\\Khalid\\Desktop\\khalid_weapon_temper_weiner_m\\test_dataset\\images\\5835.jpg: 640x288 1 person, 51.8ms\n",
      "image 112/636 C:\\Users\\Khalid\\Desktop\\khalid_weapon_temper_weiner_m\\test_dataset\\images\\5836.jpg: 640x288 1 person, 1 gun, 46.9ms\n",
      "image 113/636 C:\\Users\\Khalid\\Desktop\\khalid_weapon_temper_weiner_m\\test_dataset\\images\\5837.jpg: 640x288 1 person, 46.9ms\n",
      "image 114/636 C:\\Users\\Khalid\\Desktop\\khalid_weapon_temper_weiner_m\\test_dataset\\images\\5838.jpg: 640x288 1 person, 31.6ms\n",
      "image 115/636 C:\\Users\\Khalid\\Desktop\\khalid_weapon_temper_weiner_m\\test_dataset\\images\\5839.jpg: 640x288 1 person, 31.3ms\n",
      "image 116/636 C:\\Users\\Khalid\\Desktop\\khalid_weapon_temper_weiner_m\\test_dataset\\images\\5840.jpg: 640x288 1 person, 46.9ms\n",
      "image 117/636 C:\\Users\\Khalid\\Desktop\\khalid_weapon_temper_weiner_m\\test_dataset\\images\\5841.jpg: 640x288 1 person, 1 gun, 46.9ms\n",
      "image 118/636 C:\\Users\\Khalid\\Desktop\\khalid_weapon_temper_weiner_m\\test_dataset\\images\\5842.jpg: 640x288 1 person, 49.2ms\n",
      "image 119/636 C:\\Users\\Khalid\\Desktop\\khalid_weapon_temper_weiner_m\\test_dataset\\images\\5843.jpg: 640x288 1 person, 40.3ms\n",
      "image 120/636 C:\\Users\\Khalid\\Desktop\\khalid_weapon_temper_weiner_m\\test_dataset\\images\\5844.jpg: 640x288 1 person, 46.9ms\n",
      "image 121/636 C:\\Users\\Khalid\\Desktop\\khalid_weapon_temper_weiner_m\\test_dataset\\images\\5845.jpg: 640x288 1 person, 31.2ms\n",
      "image 122/636 C:\\Users\\Khalid\\Desktop\\khalid_weapon_temper_weiner_m\\test_dataset\\images\\5846.jpg: 640x288 1 person, 1 gun, 31.2ms\n",
      "image 123/636 C:\\Users\\Khalid\\Desktop\\khalid_weapon_temper_weiner_m\\test_dataset\\images\\5847.jpg: 640x288 1 person, 1 gun, 31.2ms\n",
      "image 124/636 C:\\Users\\Khalid\\Desktop\\khalid_weapon_temper_weiner_m\\test_dataset\\images\\5848.jpg: 640x288 1 person, 1 gun, 31.2ms\n",
      "image 125/636 C:\\Users\\Khalid\\Desktop\\khalid_weapon_temper_weiner_m\\test_dataset\\images\\5849.jpg: 640x288 1 person, 1 gun, 46.9ms\n",
      "image 126/636 C:\\Users\\Khalid\\Desktop\\khalid_weapon_temper_weiner_m\\test_dataset\\images\\5850.jpg: 640x288 1 person, 1 gun, 46.9ms\n",
      "image 127/636 C:\\Users\\Khalid\\Desktop\\khalid_weapon_temper_weiner_m\\test_dataset\\images\\5851.jpg: 640x288 1 person, 37.3ms\n",
      "image 128/636 C:\\Users\\Khalid\\Desktop\\khalid_weapon_temper_weiner_m\\test_dataset\\images\\5852.jpg: 640x288 1 person, 1 gun, 46.9ms\n",
      "image 129/636 C:\\Users\\Khalid\\Desktop\\khalid_weapon_temper_weiner_m\\test_dataset\\images\\5853.jpg: 640x288 1 person, 47.0ms\n",
      "image 130/636 C:\\Users\\Khalid\\Desktop\\khalid_weapon_temper_weiner_m\\test_dataset\\images\\5854.jpg: 640x288 1 person, 45.5ms\n",
      "image 131/636 C:\\Users\\Khalid\\Desktop\\khalid_weapon_temper_weiner_m\\test_dataset\\images\\5855.jpg: 640x288 1 person, 1 gun, 28.8ms\n",
      "image 132/636 C:\\Users\\Khalid\\Desktop\\khalid_weapon_temper_weiner_m\\test_dataset\\images\\5856.jpg: 640x288 1 person, 47.1ms\n",
      "image 133/636 C:\\Users\\Khalid\\Desktop\\khalid_weapon_temper_weiner_m\\test_dataset\\images\\5857.jpg: 640x288 1 person, 1 gun, 46.9ms\n",
      "image 134/636 C:\\Users\\Khalid\\Desktop\\khalid_weapon_temper_weiner_m\\test_dataset\\images\\5858.jpg: 640x288 1 person, 1 gun, 31.2ms\n",
      "image 135/636 C:\\Users\\Khalid\\Desktop\\khalid_weapon_temper_weiner_m\\test_dataset\\images\\5859.jpg: 640x288 1 person, 46.9ms\n",
      "image 136/636 C:\\Users\\Khalid\\Desktop\\khalid_weapon_temper_weiner_m\\test_dataset\\images\\5860.jpg: 640x288 1 person, 46.9ms\n",
      "image 137/636 C:\\Users\\Khalid\\Desktop\\khalid_weapon_temper_weiner_m\\test_dataset\\images\\5861.jpg: 640x288 1 person, 1 gun, 31.2ms\n",
      "image 138/636 C:\\Users\\Khalid\\Desktop\\khalid_weapon_temper_weiner_m\\test_dataset\\images\\5862.jpg: 640x288 1 person, 47.3ms\n",
      "image 139/636 C:\\Users\\Khalid\\Desktop\\khalid_weapon_temper_weiner_m\\test_dataset\\images\\5863.jpg: 640x288 1 person, 31.2ms\n",
      "image 140/636 C:\\Users\\Khalid\\Desktop\\khalid_weapon_temper_weiner_m\\test_dataset\\images\\5864.jpg: 640x288 1 person, 1 gun, 31.2ms\n",
      "image 141/636 C:\\Users\\Khalid\\Desktop\\khalid_weapon_temper_weiner_m\\test_dataset\\images\\5865.jpg: 640x288 1 person, 1 gun, 46.9ms\n",
      "image 142/636 C:\\Users\\Khalid\\Desktop\\khalid_weapon_temper_weiner_m\\test_dataset\\images\\5866.jpg: 640x288 1 person, 46.9ms\n",
      "image 143/636 C:\\Users\\Khalid\\Desktop\\khalid_weapon_temper_weiner_m\\test_dataset\\images\\5867.jpg: 640x288 1 person, 1 gun, 31.2ms\n",
      "image 144/636 C:\\Users\\Khalid\\Desktop\\khalid_weapon_temper_weiner_m\\test_dataset\\images\\5868.jpg: 640x288 1 person, 47.4ms\n",
      "image 145/636 C:\\Users\\Khalid\\Desktop\\khalid_weapon_temper_weiner_m\\test_dataset\\images\\5869.jpg: 640x288 1 person, 1 gun, 47.6ms\n",
      "image 146/636 C:\\Users\\Khalid\\Desktop\\khalid_weapon_temper_weiner_m\\test_dataset\\images\\5870.jpg: 640x288 1 person, 1 gun, 47.6ms\n",
      "image 147/636 C:\\Users\\Khalid\\Desktop\\khalid_weapon_temper_weiner_m\\test_dataset\\images\\5871.jpg: 640x288 1 person, 47.3ms\n",
      "image 148/636 C:\\Users\\Khalid\\Desktop\\khalid_weapon_temper_weiner_m\\test_dataset\\images\\5872.jpg: 640x288 1 person, 47.3ms\n",
      "image 149/636 C:\\Users\\Khalid\\Desktop\\khalid_weapon_temper_weiner_m\\test_dataset\\images\\5873.jpg: 640x288 1 person, 1 gun, 43.5ms\n",
      "image 150/636 C:\\Users\\Khalid\\Desktop\\khalid_weapon_temper_weiner_m\\test_dataset\\images\\5874.jpg: 640x288 1 person, 1 gun, 46.9ms\n",
      "image 151/636 C:\\Users\\Khalid\\Desktop\\khalid_weapon_temper_weiner_m\\test_dataset\\images\\5875.jpg: 640x288 1 person, 47.1ms\n",
      "image 152/636 C:\\Users\\Khalid\\Desktop\\khalid_weapon_temper_weiner_m\\test_dataset\\images\\5876.jpg: 640x288 1 person, 47.3ms\n",
      "image 153/636 C:\\Users\\Khalid\\Desktop\\khalid_weapon_temper_weiner_m\\test_dataset\\images\\5877.jpg: 640x288 1 person, 1 gun, 31.8ms\n",
      "image 154/636 C:\\Users\\Khalid\\Desktop\\khalid_weapon_temper_weiner_m\\test_dataset\\images\\5878.jpg: 640x288 1 person, 31.2ms\n",
      "image 155/636 C:\\Users\\Khalid\\Desktop\\khalid_weapon_temper_weiner_m\\test_dataset\\images\\5879.jpg: 640x288 1 person, 31.2ms\n",
      "image 156/636 C:\\Users\\Khalid\\Desktop\\khalid_weapon_temper_weiner_m\\test_dataset\\images\\5880.jpg: 640x288 1 person, 31.3ms\n",
      "image 157/636 C:\\Users\\Khalid\\Desktop\\khalid_weapon_temper_weiner_m\\test_dataset\\images\\5881.jpg: 640x288 1 person, 31.7ms\n",
      "image 158/636 C:\\Users\\Khalid\\Desktop\\khalid_weapon_temper_weiner_m\\test_dataset\\images\\5882.jpg: 640x288 1 person, 45.7ms\n",
      "image 159/636 C:\\Users\\Khalid\\Desktop\\khalid_weapon_temper_weiner_m\\test_dataset\\images\\5883.jpg: 640x288 1 person, 1 gun, 31.2ms\n",
      "image 160/636 C:\\Users\\Khalid\\Desktop\\khalid_weapon_temper_weiner_m\\test_dataset\\images\\5884.jpg: 640x288 1 person, 47.4ms\n",
      "image 161/636 C:\\Users\\Khalid\\Desktop\\khalid_weapon_temper_weiner_m\\test_dataset\\images\\5885.jpg: 640x288 1 person, 1 gun, 31.2ms\n",
      "image 162/636 C:\\Users\\Khalid\\Desktop\\khalid_weapon_temper_weiner_m\\test_dataset\\images\\5886.jpg: 640x288 1 person, 47.5ms\n",
      "image 163/636 C:\\Users\\Khalid\\Desktop\\khalid_weapon_temper_weiner_m\\test_dataset\\images\\5887.jpg: 640x288 1 person, 1 gun, 46.9ms\n",
      "image 164/636 C:\\Users\\Khalid\\Desktop\\khalid_weapon_temper_weiner_m\\test_dataset\\images\\5888.jpg: 640x288 1 person, 46.9ms\n",
      "image 165/636 C:\\Users\\Khalid\\Desktop\\khalid_weapon_temper_weiner_m\\test_dataset\\images\\5889.jpg: 640x288 1 person, 31.2ms\n",
      "image 166/636 C:\\Users\\Khalid\\Desktop\\khalid_weapon_temper_weiner_m\\test_dataset\\images\\5890.jpg: 640x288 1 person, 1 gun, 46.9ms\n",
      "image 167/636 C:\\Users\\Khalid\\Desktop\\khalid_weapon_temper_weiner_m\\test_dataset\\images\\5891.jpg: 640x288 1 person, 46.9ms\n",
      "image 168/636 C:\\Users\\Khalid\\Desktop\\khalid_weapon_temper_weiner_m\\test_dataset\\images\\5892.jpg: 640x288 1 person, 1 gun, 51.3ms\n",
      "image 169/636 C:\\Users\\Khalid\\Desktop\\khalid_weapon_temper_weiner_m\\test_dataset\\images\\5893.jpg: 640x288 1 person, 34.5ms\n",
      "image 170/636 C:\\Users\\Khalid\\Desktop\\khalid_weapon_temper_weiner_m\\test_dataset\\images\\5894.jpg: 640x288 1 person, 1 gun, 31.2ms\n",
      "image 171/636 C:\\Users\\Khalid\\Desktop\\khalid_weapon_temper_weiner_m\\test_dataset\\images\\5895.jpg: 640x288 1 person, 1 gun, 46.9ms\n",
      "image 172/636 C:\\Users\\Khalid\\Desktop\\khalid_weapon_temper_weiner_m\\test_dataset\\images\\5896.jpg: 640x288 1 person, 31.2ms\n",
      "image 173/636 C:\\Users\\Khalid\\Desktop\\khalid_weapon_temper_weiner_m\\test_dataset\\images\\5897.jpg: 640x288 1 person, 46.9ms\n",
      "image 174/636 C:\\Users\\Khalid\\Desktop\\khalid_weapon_temper_weiner_m\\test_dataset\\images\\5898.jpg: 640x288 1 person, 1 gun, 46.9ms\n",
      "image 175/636 C:\\Users\\Khalid\\Desktop\\khalid_weapon_temper_weiner_m\\test_dataset\\images\\5899.jpg: 640x288 1 person, 31.4ms\n",
      "image 176/636 C:\\Users\\Khalid\\Desktop\\khalid_weapon_temper_weiner_m\\test_dataset\\images\\5900.jpg: 640x288 1 person, 1 gun, 31.2ms\n",
      "image 177/636 C:\\Users\\Khalid\\Desktop\\khalid_weapon_temper_weiner_m\\test_dataset\\images\\5901.jpg: 640x288 1 person, 1 gun, 31.2ms\n",
      "image 178/636 C:\\Users\\Khalid\\Desktop\\khalid_weapon_temper_weiner_m\\test_dataset\\images\\5902.jpg: 640x288 1 person, 1 gun, 46.9ms\n",
      "image 179/636 C:\\Users\\Khalid\\Desktop\\khalid_weapon_temper_weiner_m\\test_dataset\\images\\5903.jpg: 640x288 1 person, 1 gun, 31.2ms\n",
      "image 180/636 C:\\Users\\Khalid\\Desktop\\khalid_weapon_temper_weiner_m\\test_dataset\\images\\5904.jpg: 640x288 1 person, 1 gun, 31.2ms\n",
      "image 181/636 C:\\Users\\Khalid\\Desktop\\khalid_weapon_temper_weiner_m\\test_dataset\\images\\5905.jpg: 640x288 1 person, 46.9ms\n",
      "image 182/636 C:\\Users\\Khalid\\Desktop\\khalid_weapon_temper_weiner_m\\test_dataset\\images\\5906.jpg: 640x288 1 person, 47.2ms\n",
      "image 183/636 C:\\Users\\Khalid\\Desktop\\khalid_weapon_temper_weiner_m\\test_dataset\\images\\5907.jpg: 640x288 1 person, 46.9ms\n",
      "image 184/636 C:\\Users\\Khalid\\Desktop\\khalid_weapon_temper_weiner_m\\test_dataset\\images\\5908.jpg: 640x288 1 person, 46.9ms\n",
      "image 185/636 C:\\Users\\Khalid\\Desktop\\khalid_weapon_temper_weiner_m\\test_dataset\\images\\5909.jpg: 640x288 1 person, 1 gun, 47.2ms\n",
      "image 186/636 C:\\Users\\Khalid\\Desktop\\khalid_weapon_temper_weiner_m\\test_dataset\\images\\5910.jpg: 640x288 1 person, 1 gun, 31.3ms\n",
      "image 187/636 C:\\Users\\Khalid\\Desktop\\khalid_weapon_temper_weiner_m\\test_dataset\\images\\5911.jpg: 640x288 1 person, 1 gun, 31.2ms\n",
      "image 188/636 C:\\Users\\Khalid\\Desktop\\khalid_weapon_temper_weiner_m\\test_dataset\\images\\5912.jpg: 640x288 1 person, 31.2ms\n",
      "image 189/636 C:\\Users\\Khalid\\Desktop\\khalid_weapon_temper_weiner_m\\test_dataset\\images\\5913.jpg: 640x288 1 person, 1 gun, 47.4ms\n",
      "image 190/636 C:\\Users\\Khalid\\Desktop\\khalid_weapon_temper_weiner_m\\test_dataset\\images\\5914.jpg: 640x288 1 person, 1 gun, 31.4ms\n",
      "image 191/636 C:\\Users\\Khalid\\Desktop\\khalid_weapon_temper_weiner_m\\test_dataset\\images\\5915.jpg: 640x288 1 person, 1 gun, 46.9ms\n",
      "image 192/636 C:\\Users\\Khalid\\Desktop\\khalid_weapon_temper_weiner_m\\test_dataset\\images\\5916.jpg: 640x288 1 person, 46.9ms\n",
      "image 193/636 C:\\Users\\Khalid\\Desktop\\khalid_weapon_temper_weiner_m\\test_dataset\\images\\5917.jpg: 640x288 1 person, 31.2ms\n",
      "image 194/636 C:\\Users\\Khalid\\Desktop\\khalid_weapon_temper_weiner_m\\test_dataset\\images\\5918.jpg: 640x288 1 person, 1 gun, 31.2ms\n",
      "image 195/636 C:\\Users\\Khalid\\Desktop\\khalid_weapon_temper_weiner_m\\test_dataset\\images\\5919.jpg: 640x288 1 person, 1 gun, 46.9ms\n",
      "image 196/636 C:\\Users\\Khalid\\Desktop\\khalid_weapon_temper_weiner_m\\test_dataset\\images\\5920.jpg: 640x288 1 person, 47.4ms\n",
      "image 197/636 C:\\Users\\Khalid\\Desktop\\khalid_weapon_temper_weiner_m\\test_dataset\\images\\5921.jpg: 640x288 1 person, 1 gun, 40.7ms\n",
      "image 198/636 C:\\Users\\Khalid\\Desktop\\khalid_weapon_temper_weiner_m\\test_dataset\\images\\5922.jpg: 640x288 1 person, 1 gun, 46.3ms\n",
      "image 199/636 C:\\Users\\Khalid\\Desktop\\khalid_weapon_temper_weiner_m\\test_dataset\\images\\5923.jpg: 640x288 1 person, 46.9ms\n",
      "image 200/636 C:\\Users\\Khalid\\Desktop\\khalid_weapon_temper_weiner_m\\test_dataset\\images\\5924.jpg: 640x288 1 person, 1 gun, 47.4ms\n",
      "image 201/636 C:\\Users\\Khalid\\Desktop\\khalid_weapon_temper_weiner_m\\test_dataset\\images\\5925.jpg: 640x288 1 person, 1 gun, 31.2ms\n",
      "image 202/636 C:\\Users\\Khalid\\Desktop\\khalid_weapon_temper_weiner_m\\test_dataset\\images\\5926.jpg: 640x288 1 person, 31.3ms\n",
      "image 203/636 C:\\Users\\Khalid\\Desktop\\khalid_weapon_temper_weiner_m\\test_dataset\\images\\5927.jpg: 640x288 1 person, 46.9ms\n",
      "image 204/636 C:\\Users\\Khalid\\Desktop\\khalid_weapon_temper_weiner_m\\test_dataset\\images\\5928.jpg: 640x288 1 person, 46.9ms\n",
      "image 205/636 C:\\Users\\Khalid\\Desktop\\khalid_weapon_temper_weiner_m\\test_dataset\\images\\5929.jpg: 640x288 1 person, 1 gun, 31.2ms\n",
      "image 206/636 C:\\Users\\Khalid\\Desktop\\khalid_weapon_temper_weiner_m\\test_dataset\\images\\5930.jpg: 640x288 1 person, 1 gun, 31.2ms\n",
      "image 207/636 C:\\Users\\Khalid\\Desktop\\khalid_weapon_temper_weiner_m\\test_dataset\\images\\5931.jpg: 640x288 1 person, 1 gun, 47.1ms\n",
      "image 208/636 C:\\Users\\Khalid\\Desktop\\khalid_weapon_temper_weiner_m\\test_dataset\\images\\5932.jpg: 640x288 1 person, 54.3ms\n",
      "image 209/636 C:\\Users\\Khalid\\Desktop\\khalid_weapon_temper_weiner_m\\test_dataset\\images\\5933.jpg: 640x288 1 person, 46.3ms\n",
      "image 210/636 C:\\Users\\Khalid\\Desktop\\khalid_weapon_temper_weiner_m\\test_dataset\\images\\5934.jpg: 640x288 1 person, 46.9ms\n",
      "image 211/636 C:\\Users\\Khalid\\Desktop\\khalid_weapon_temper_weiner_m\\test_dataset\\images\\5935.jpg: 640x288 1 person, 46.9ms\n",
      "image 212/636 C:\\Users\\Khalid\\Desktop\\khalid_weapon_temper_weiner_m\\test_dataset\\images\\5936.jpg: 640x288 1 person, 31.2ms\n",
      "image 213/636 C:\\Users\\Khalid\\Desktop\\khalid_weapon_temper_weiner_m\\test_dataset\\images\\5937.jpg: 640x288 1 person, 46.9ms\n",
      "image 214/636 C:\\Users\\Khalid\\Desktop\\khalid_weapon_temper_weiner_m\\test_dataset\\images\\5938.jpg: 640x288 1 person, 78.1ms\n",
      "image 215/636 C:\\Users\\Khalid\\Desktop\\khalid_weapon_temper_weiner_m\\test_dataset\\images\\5939.jpg: 640x288 1 person, 46.9ms\n",
      "image 216/636 C:\\Users\\Khalid\\Desktop\\khalid_weapon_temper_weiner_m\\test_dataset\\images\\5940.jpg: 640x288 1 person, 62.5ms\n",
      "image 217/636 C:\\Users\\Khalid\\Desktop\\khalid_weapon_temper_weiner_m\\test_dataset\\images\\5941.jpg: 640x288 1 person, 1 gun, 46.9ms\n",
      "image 218/636 C:\\Users\\Khalid\\Desktop\\khalid_weapon_temper_weiner_m\\test_dataset\\images\\5942.jpg: 640x288 1 person, 32.3ms\n",
      "image 219/636 C:\\Users\\Khalid\\Desktop\\khalid_weapon_temper_weiner_m\\test_dataset\\images\\5943.jpg: 640x288 1 person, 46.9ms\n",
      "image 220/636 C:\\Users\\Khalid\\Desktop\\khalid_weapon_temper_weiner_m\\test_dataset\\images\\5944.jpg: 640x288 1 person, 1 gun, 31.3ms\n",
      "image 221/636 C:\\Users\\Khalid\\Desktop\\khalid_weapon_temper_weiner_m\\test_dataset\\images\\5945.jpg: 640x288 1 person, 47.7ms\n",
      "image 222/636 C:\\Users\\Khalid\\Desktop\\khalid_weapon_temper_weiner_m\\test_dataset\\images\\5946.jpg: 640x288 1 person, 31.4ms\n",
      "image 223/636 C:\\Users\\Khalid\\Desktop\\khalid_weapon_temper_weiner_m\\test_dataset\\images\\5947.jpg: 640x288 1 person, 31.2ms\n",
      "image 224/636 C:\\Users\\Khalid\\Desktop\\khalid_weapon_temper_weiner_m\\test_dataset\\images\\5948.jpg: 640x288 1 person, 1 gun, 31.2ms\n",
      "image 225/636 C:\\Users\\Khalid\\Desktop\\khalid_weapon_temper_weiner_m\\test_dataset\\images\\5949.jpg: 640x288 1 person, 46.9ms\n",
      "image 226/636 C:\\Users\\Khalid\\Desktop\\khalid_weapon_temper_weiner_m\\test_dataset\\images\\5950.jpg: 640x288 1 person, 46.9ms\n",
      "image 227/636 C:\\Users\\Khalid\\Desktop\\khalid_weapon_temper_weiner_m\\test_dataset\\images\\5951.jpg: 640x288 1 person, 27.4ms\n",
      "image 228/636 C:\\Users\\Khalid\\Desktop\\khalid_weapon_temper_weiner_m\\test_dataset\\images\\5952.jpg: 640x288 1 person, 1 gun, 46.9ms\n",
      "image 229/636 C:\\Users\\Khalid\\Desktop\\khalid_weapon_temper_weiner_m\\test_dataset\\images\\5953.jpg: 640x288 1 person, 46.9ms\n",
      "image 230/636 C:\\Users\\Khalid\\Desktop\\khalid_weapon_temper_weiner_m\\test_dataset\\images\\5954.jpg: 640x288 1 person, 1 gun, 46.9ms\n",
      "image 231/636 C:\\Users\\Khalid\\Desktop\\khalid_weapon_temper_weiner_m\\test_dataset\\images\\5955.jpg: 640x288 1 person, 1 gun, 31.2ms\n",
      "image 232/636 C:\\Users\\Khalid\\Desktop\\khalid_weapon_temper_weiner_m\\test_dataset\\images\\5956.jpg: 640x288 1 person, 31.2ms\n",
      "image 233/636 C:\\Users\\Khalid\\Desktop\\khalid_weapon_temper_weiner_m\\test_dataset\\images\\5957.jpg: 640x288 1 person, 31.5ms\n",
      "image 234/636 C:\\Users\\Khalid\\Desktop\\khalid_weapon_temper_weiner_m\\test_dataset\\images\\5958.jpg: 640x288 1 person, 1 gun, 31.2ms\n",
      "image 235/636 C:\\Users\\Khalid\\Desktop\\khalid_weapon_temper_weiner_m\\test_dataset\\images\\5959.jpg: 640x288 1 person, 40.0ms\n",
      "image 236/636 C:\\Users\\Khalid\\Desktop\\khalid_weapon_temper_weiner_m\\test_dataset\\images\\5960.jpg: 640x288 1 person, 31.3ms\n",
      "image 237/636 C:\\Users\\Khalid\\Desktop\\khalid_weapon_temper_weiner_m\\test_dataset\\images\\5961.jpg: 640x288 1 person, 1 gun, 46.9ms\n",
      "image 238/636 C:\\Users\\Khalid\\Desktop\\khalid_weapon_temper_weiner_m\\test_dataset\\images\\5962.jpg: 640x288 1 person, 1 gun, 31.2ms\n",
      "image 239/636 C:\\Users\\Khalid\\Desktop\\khalid_weapon_temper_weiner_m\\test_dataset\\images\\5963.jpg: 640x288 1 person, 31.2ms\n",
      "image 240/636 C:\\Users\\Khalid\\Desktop\\khalid_weapon_temper_weiner_m\\test_dataset\\images\\5964.jpg: 640x288 1 person, 31.8ms\n",
      "image 241/636 C:\\Users\\Khalid\\Desktop\\khalid_weapon_temper_weiner_m\\test_dataset\\images\\5965.jpg: 640x288 1 person, 31.2ms\n",
      "image 242/636 C:\\Users\\Khalid\\Desktop\\khalid_weapon_temper_weiner_m\\test_dataset\\images\\5966.jpg: 640x288 1 person, 1 gun, 31.2ms\n",
      "image 243/636 C:\\Users\\Khalid\\Desktop\\khalid_weapon_temper_weiner_m\\test_dataset\\images\\5967.jpg: 640x288 1 person, 1 gun, 46.9ms\n",
      "image 244/636 C:\\Users\\Khalid\\Desktop\\khalid_weapon_temper_weiner_m\\test_dataset\\images\\5968.jpg: 640x288 1 person, 31.2ms\n",
      "image 245/636 C:\\Users\\Khalid\\Desktop\\khalid_weapon_temper_weiner_m\\test_dataset\\images\\5969.jpg: 640x288 1 person, 1 gun, 31.2ms\n",
      "image 246/636 C:\\Users\\Khalid\\Desktop\\khalid_weapon_temper_weiner_m\\test_dataset\\images\\5970.jpg: 640x288 1 person, 46.9ms\n",
      "image 247/636 C:\\Users\\Khalid\\Desktop\\khalid_weapon_temper_weiner_m\\test_dataset\\images\\5971.jpg: 640x288 1 person, 47.3ms\n",
      "image 248/636 C:\\Users\\Khalid\\Desktop\\khalid_weapon_temper_weiner_m\\test_dataset\\images\\5972.jpg: 640x288 1 person, 35.5ms\n",
      "image 249/636 C:\\Users\\Khalid\\Desktop\\khalid_weapon_temper_weiner_m\\test_dataset\\images\\5973.jpg: 640x288 1 person, 46.9ms\n",
      "image 250/636 C:\\Users\\Khalid\\Desktop\\khalid_weapon_temper_weiner_m\\test_dataset\\images\\5974.jpg: 640x288 1 person, 1 gun, 46.9ms\n",
      "image 251/636 C:\\Users\\Khalid\\Desktop\\khalid_weapon_temper_weiner_m\\test_dataset\\images\\5975.jpg: 640x288 1 person, 1 gun, 31.6ms\n",
      "image 252/636 C:\\Users\\Khalid\\Desktop\\khalid_weapon_temper_weiner_m\\test_dataset\\images\\5976.jpg: 640x288 1 person, 46.9ms\n",
      "image 253/636 C:\\Users\\Khalid\\Desktop\\khalid_weapon_temper_weiner_m\\test_dataset\\images\\5977.jpg: 640x288 1 person, 1 gun, 31.2ms\n",
      "image 254/636 C:\\Users\\Khalid\\Desktop\\khalid_weapon_temper_weiner_m\\test_dataset\\images\\5978.jpg: 640x288 1 person, 1 gun, 31.5ms\n",
      "image 255/636 C:\\Users\\Khalid\\Desktop\\khalid_weapon_temper_weiner_m\\test_dataset\\images\\5979.jpg: 640x288 1 person, 31.2ms\n",
      "image 256/636 C:\\Users\\Khalid\\Desktop\\khalid_weapon_temper_weiner_m\\test_dataset\\images\\5980.jpg: 640x288 1 person, 31.2ms\n",
      "image 257/636 C:\\Users\\Khalid\\Desktop\\khalid_weapon_temper_weiner_m\\test_dataset\\images\\5981.jpg: 640x288 1 person, 1 gun, 46.9ms\n",
      "image 258/636 C:\\Users\\Khalid\\Desktop\\khalid_weapon_temper_weiner_m\\test_dataset\\images\\5982.jpg: 640x288 1 person, 31.2ms\n",
      "image 259/636 C:\\Users\\Khalid\\Desktop\\khalid_weapon_temper_weiner_m\\test_dataset\\images\\5983.jpg: 640x288 1 person, 46.9ms\n",
      "image 260/636 C:\\Users\\Khalid\\Desktop\\khalid_weapon_temper_weiner_m\\test_dataset\\images\\5984.jpg: 640x288 1 person, 1 gun, 31.2ms\n",
      "image 261/636 C:\\Users\\Khalid\\Desktop\\khalid_weapon_temper_weiner_m\\test_dataset\\images\\5985.jpg: 640x288 1 person, 1 gun, 31.2ms\n",
      "image 262/636 C:\\Users\\Khalid\\Desktop\\khalid_weapon_temper_weiner_m\\test_dataset\\images\\5986.jpg: 640x288 1 person, 31.2ms\n",
      "image 263/636 C:\\Users\\Khalid\\Desktop\\khalid_weapon_temper_weiner_m\\test_dataset\\images\\5987.jpg: 640x288 1 person, 1 gun, 31.2ms\n",
      "image 264/636 C:\\Users\\Khalid\\Desktop\\khalid_weapon_temper_weiner_m\\test_dataset\\images\\5988.jpg: 640x288 1 person, 1 gun, 46.9ms\n",
      "image 265/636 C:\\Users\\Khalid\\Desktop\\khalid_weapon_temper_weiner_m\\test_dataset\\images\\5989.jpg: 640x288 1 person, 1 gun, 46.9ms\n",
      "image 266/636 C:\\Users\\Khalid\\Desktop\\khalid_weapon_temper_weiner_m\\test_dataset\\images\\5990.jpg: 640x288 1 person, 1 gun, 46.9ms\n",
      "image 267/636 C:\\Users\\Khalid\\Desktop\\khalid_weapon_temper_weiner_m\\test_dataset\\images\\5991.jpg: 640x288 1 person, 1 gun, 40.0ms\n",
      "image 268/636 C:\\Users\\Khalid\\Desktop\\khalid_weapon_temper_weiner_m\\test_dataset\\images\\5992.jpg: 640x288 1 person, 1 gun, 31.2ms\n",
      "image 269/636 C:\\Users\\Khalid\\Desktop\\khalid_weapon_temper_weiner_m\\test_dataset\\images\\5993.jpg: 640x288 1 person, 1 gun, 50.3ms\n",
      "image 270/636 C:\\Users\\Khalid\\Desktop\\khalid_weapon_temper_weiner_m\\test_dataset\\images\\5994.jpg: 640x288 1 person, 27.9ms\n",
      "image 271/636 C:\\Users\\Khalid\\Desktop\\khalid_weapon_temper_weiner_m\\test_dataset\\images\\5995.jpg: 640x288 1 person, 1 gun, 31.2ms\n",
      "image 272/636 C:\\Users\\Khalid\\Desktop\\khalid_weapon_temper_weiner_m\\test_dataset\\images\\5996.jpg: 640x288 1 person, 1 gun, 46.9ms\n",
      "image 273/636 C:\\Users\\Khalid\\Desktop\\khalid_weapon_temper_weiner_m\\test_dataset\\images\\5997.jpg: 640x288 1 person, 46.9ms\n",
      "image 274/636 C:\\Users\\Khalid\\Desktop\\khalid_weapon_temper_weiner_m\\test_dataset\\images\\5998.jpg: 640x288 1 person, 31.4ms\n",
      "image 275/636 C:\\Users\\Khalid\\Desktop\\khalid_weapon_temper_weiner_m\\test_dataset\\images\\5999.jpg: 640x288 1 person, 1 gun, 31.2ms\n",
      "image 276/636 C:\\Users\\Khalid\\Desktop\\khalid_weapon_temper_weiner_m\\test_dataset\\images\\6000.jpg: 640x288 1 person, 1 gun, 33.3ms\n",
      "image 277/636 C:\\Users\\Khalid\\Desktop\\khalid_weapon_temper_weiner_m\\test_dataset\\images\\6001.jpg: 640x288 1 person, 31.3ms\n",
      "image 278/636 C:\\Users\\Khalid\\Desktop\\khalid_weapon_temper_weiner_m\\test_dataset\\images\\6002.jpg: 640x288 1 person, 1 gun, 54.1ms\n",
      "image 279/636 C:\\Users\\Khalid\\Desktop\\khalid_weapon_temper_weiner_m\\test_dataset\\images\\6003.jpg: 640x288 1 person, 37.1ms\n",
      "image 280/636 C:\\Users\\Khalid\\Desktop\\khalid_weapon_temper_weiner_m\\test_dataset\\images\\6004.jpg: 640x288 1 person, 1 gun, 42.1ms\n",
      "image 281/636 C:\\Users\\Khalid\\Desktop\\khalid_weapon_temper_weiner_m\\test_dataset\\images\\6005.jpg: 640x288 1 person, 40.2ms\n",
      "image 282/636 C:\\Users\\Khalid\\Desktop\\khalid_weapon_temper_weiner_m\\test_dataset\\images\\6006.jpg: 640x288 1 person, 1 gun, 56.6ms\n",
      "image 283/636 C:\\Users\\Khalid\\Desktop\\khalid_weapon_temper_weiner_m\\test_dataset\\images\\6007.jpg: 640x288 1 person, 53.9ms\n",
      "image 284/636 C:\\Users\\Khalid\\Desktop\\khalid_weapon_temper_weiner_m\\test_dataset\\images\\6008.jpg: 640x288 1 person, 1 gun, 56.1ms\n",
      "image 285/636 C:\\Users\\Khalid\\Desktop\\khalid_weapon_temper_weiner_m\\test_dataset\\images\\6009.jpg: 640x288 1 person, 43.3ms\n",
      "image 286/636 C:\\Users\\Khalid\\Desktop\\khalid_weapon_temper_weiner_m\\test_dataset\\images\\6010.jpg: 640x288 1 person, 1 gun, 50.0ms\n",
      "image 287/636 C:\\Users\\Khalid\\Desktop\\khalid_weapon_temper_weiner_m\\test_dataset\\images\\6011.jpg: 640x288 1 person, 1 gun, 35.9ms\n",
      "image 288/636 C:\\Users\\Khalid\\Desktop\\khalid_weapon_temper_weiner_m\\test_dataset\\images\\6012.jpg: 640x288 1 person, 43.6ms\n",
      "image 289/636 C:\\Users\\Khalid\\Desktop\\khalid_weapon_temper_weiner_m\\test_dataset\\images\\6013.jpg: 640x288 1 person, 40.0ms\n",
      "image 290/636 C:\\Users\\Khalid\\Desktop\\khalid_weapon_temper_weiner_m\\test_dataset\\images\\6014.jpg: 640x288 1 person, 1 gun, 35.3ms\n",
      "image 291/636 C:\\Users\\Khalid\\Desktop\\khalid_weapon_temper_weiner_m\\test_dataset\\images\\6015.jpg: 640x288 1 person, 35.2ms\n",
      "image 292/636 C:\\Users\\Khalid\\Desktop\\khalid_weapon_temper_weiner_m\\test_dataset\\images\\6016.jpg: 640x288 1 person, 1 gun, 42.0ms\n",
      "image 293/636 C:\\Users\\Khalid\\Desktop\\khalid_weapon_temper_weiner_m\\test_dataset\\images\\6017.jpg: 640x288 1 person, 1 gun, 42.2ms\n",
      "image 294/636 C:\\Users\\Khalid\\Desktop\\khalid_weapon_temper_weiner_m\\test_dataset\\images\\6018.jpg: 640x288 1 person, 38.7ms\n",
      "image 295/636 C:\\Users\\Khalid\\Desktop\\khalid_weapon_temper_weiner_m\\test_dataset\\images\\6019.jpg: 640x288 1 person, 46.9ms\n",
      "image 296/636 C:\\Users\\Khalid\\Desktop\\khalid_weapon_temper_weiner_m\\test_dataset\\images\\6020.jpg: 640x288 1 person, 46.9ms\n",
      "image 297/636 C:\\Users\\Khalid\\Desktop\\khalid_weapon_temper_weiner_m\\test_dataset\\images\\6021.jpg: 640x288 1 person, 31.2ms\n",
      "image 298/636 C:\\Users\\Khalid\\Desktop\\khalid_weapon_temper_weiner_m\\test_dataset\\images\\6022.jpg: 640x288 1 person, 1 gun, 46.9ms\n",
      "image 299/636 C:\\Users\\Khalid\\Desktop\\khalid_weapon_temper_weiner_m\\test_dataset\\images\\6023.jpg: 640x288 1 person, 31.4ms\n",
      "image 300/636 C:\\Users\\Khalid\\Desktop\\khalid_weapon_temper_weiner_m\\test_dataset\\images\\6024.jpg: 640x288 1 person, 1 gun, 51.4ms\n",
      "image 301/636 C:\\Users\\Khalid\\Desktop\\khalid_weapon_temper_weiner_m\\test_dataset\\images\\6025.jpg: 640x288 1 person, 34.7ms\n",
      "image 302/636 C:\\Users\\Khalid\\Desktop\\khalid_weapon_temper_weiner_m\\test_dataset\\images\\6026.jpg: 640x288 1 person, 46.9ms\n",
      "image 303/636 C:\\Users\\Khalid\\Desktop\\khalid_weapon_temper_weiner_m\\test_dataset\\images\\6027.jpg: 640x288 1 person, 46.9ms\n",
      "image 304/636 C:\\Users\\Khalid\\Desktop\\khalid_weapon_temper_weiner_m\\test_dataset\\images\\6028.jpg: 640x288 1 person, 31.2ms\n",
      "image 305/636 C:\\Users\\Khalid\\Desktop\\khalid_weapon_temper_weiner_m\\test_dataset\\images\\6029.jpg: 640x288 1 person, 31.7ms\n",
      "image 306/636 C:\\Users\\Khalid\\Desktop\\khalid_weapon_temper_weiner_m\\test_dataset\\images\\6030.jpg: 640x288 1 person, 46.9ms\n",
      "image 307/636 C:\\Users\\Khalid\\Desktop\\khalid_weapon_temper_weiner_m\\test_dataset\\images\\6031.jpg: 640x288 1 person, 1 gun, 46.9ms\n",
      "image 308/636 C:\\Users\\Khalid\\Desktop\\khalid_weapon_temper_weiner_m\\test_dataset\\images\\6032.jpg: 640x288 1 person, 46.9ms\n",
      "image 309/636 C:\\Users\\Khalid\\Desktop\\khalid_weapon_temper_weiner_m\\test_dataset\\images\\6033.jpg: 640x288 1 person, 1 gun, 46.9ms\n",
      "image 310/636 C:\\Users\\Khalid\\Desktop\\khalid_weapon_temper_weiner_m\\test_dataset\\images\\6034.jpg: 640x288 1 person, 46.9ms\n",
      "image 311/636 C:\\Users\\Khalid\\Desktop\\khalid_weapon_temper_weiner_m\\test_dataset\\images\\6035.jpg: 640x288 1 person, 58.7ms\n",
      "image 312/636 C:\\Users\\Khalid\\Desktop\\khalid_weapon_temper_weiner_m\\test_dataset\\images\\6036.jpg: 640x288 1 person, 1 gun, 32.2ms\n",
      "image 313/636 C:\\Users\\Khalid\\Desktop\\khalid_weapon_temper_weiner_m\\test_dataset\\images\\6037.jpg: 640x288 1 person, 50.4ms\n",
      "image 314/636 C:\\Users\\Khalid\\Desktop\\khalid_weapon_temper_weiner_m\\test_dataset\\images\\6038.jpg: 640x288 1 person, 1 gun, 46.9ms\n",
      "image 315/636 C:\\Users\\Khalid\\Desktop\\khalid_weapon_temper_weiner_m\\test_dataset\\images\\6039.jpg: 640x288 1 person, 46.9ms\n",
      "image 316/636 C:\\Users\\Khalid\\Desktop\\khalid_weapon_temper_weiner_m\\test_dataset\\images\\6040.jpg: 640x288 1 person, 1 gun, 47.0ms\n",
      "image 317/636 C:\\Users\\Khalid\\Desktop\\khalid_weapon_temper_weiner_m\\test_dataset\\images\\6041.jpg: 640x288 1 person, 46.9ms\n",
      "image 318/636 C:\\Users\\Khalid\\Desktop\\khalid_weapon_temper_weiner_m\\test_dataset\\images\\6042.jpg: 640x288 1 person, 31.2ms\n",
      "image 319/636 C:\\Users\\Khalid\\Desktop\\khalid_weapon_temper_weiner_m\\test_dataset\\images\\6043.jpg: 640x288 1 person, 1 gun, 31.2ms\n",
      "image 320/636 C:\\Users\\Khalid\\Desktop\\khalid_weapon_temper_weiner_m\\test_dataset\\images\\6044.jpg: 640x288 1 person, 47.2ms\n",
      "image 321/636 C:\\Users\\Khalid\\Desktop\\khalid_weapon_temper_weiner_m\\test_dataset\\images\\6045.jpg: 640x288 1 person, 46.9ms\n",
      "image 322/636 C:\\Users\\Khalid\\Desktop\\khalid_weapon_temper_weiner_m\\test_dataset\\images\\6046.jpg: 640x288 1 person, 1 gun, 31.6ms\n",
      "image 323/636 C:\\Users\\Khalid\\Desktop\\khalid_weapon_temper_weiner_m\\test_dataset\\images\\6047.jpg: 640x288 1 person, 31.2ms\n",
      "image 324/636 C:\\Users\\Khalid\\Desktop\\khalid_weapon_temper_weiner_m\\test_dataset\\images\\6048.jpg: 640x288 1 person, 49.3ms\n",
      "image 325/636 C:\\Users\\Khalid\\Desktop\\khalid_weapon_temper_weiner_m\\test_dataset\\images\\6049.jpg: 640x288 1 person, 22.8ms\n",
      "image 326/636 C:\\Users\\Khalid\\Desktop\\khalid_weapon_temper_weiner_m\\test_dataset\\images\\6050.jpg: 640x288 1 person, 31.3ms\n",
      "image 327/636 C:\\Users\\Khalid\\Desktop\\khalid_weapon_temper_weiner_m\\test_dataset\\images\\6051.jpg: 640x288 1 person, 31.2ms\n",
      "image 328/636 C:\\Users\\Khalid\\Desktop\\khalid_weapon_temper_weiner_m\\test_dataset\\images\\6052.jpg: 640x288 1 person, 1 gun, 46.9ms\n",
      "image 329/636 C:\\Users\\Khalid\\Desktop\\khalid_weapon_temper_weiner_m\\test_dataset\\images\\6053.jpg: 640x288 1 person, 46.9ms\n",
      "image 330/636 C:\\Users\\Khalid\\Desktop\\khalid_weapon_temper_weiner_m\\test_dataset\\images\\6054.jpg: 640x288 1 person, 1 gun, 31.2ms\n",
      "image 331/636 C:\\Users\\Khalid\\Desktop\\khalid_weapon_temper_weiner_m\\test_dataset\\images\\6055.jpg: 640x288 1 person, 1 gun, 46.9ms\n",
      "image 332/636 C:\\Users\\Khalid\\Desktop\\khalid_weapon_temper_weiner_m\\test_dataset\\images\\6056.jpg: 640x288 1 person, 1 gun, 46.9ms\n",
      "image 333/636 C:\\Users\\Khalid\\Desktop\\khalid_weapon_temper_weiner_m\\test_dataset\\images\\6057.jpg: 640x288 1 person, 1 gun, 46.9ms\n",
      "image 334/636 C:\\Users\\Khalid\\Desktop\\khalid_weapon_temper_weiner_m\\test_dataset\\images\\6058.jpg: 640x288 1 person, 31.6ms\n",
      "image 335/636 C:\\Users\\Khalid\\Desktop\\khalid_weapon_temper_weiner_m\\test_dataset\\images\\6059.jpg: 640x288 1 person, 1 gun, 31.2ms\n",
      "image 336/636 C:\\Users\\Khalid\\Desktop\\khalid_weapon_temper_weiner_m\\test_dataset\\images\\6060.jpg: 640x288 1 person, 1 gun, 31.2ms\n",
      "image 337/636 C:\\Users\\Khalid\\Desktop\\khalid_weapon_temper_weiner_m\\test_dataset\\images\\6061.jpg: 640x288 1 person, 1 gun, 46.9ms\n",
      "image 338/636 C:\\Users\\Khalid\\Desktop\\khalid_weapon_temper_weiner_m\\test_dataset\\images\\6062.jpg: 640x288 1 person, 1 gun, 31.2ms\n",
      "image 339/636 C:\\Users\\Khalid\\Desktop\\khalid_weapon_temper_weiner_m\\test_dataset\\images\\6063.jpg: 640x288 1 person, 31.2ms\n",
      "image 340/636 C:\\Users\\Khalid\\Desktop\\khalid_weapon_temper_weiner_m\\test_dataset\\images\\6064.jpg: 640x288 1 person, 1 gun, 31.2ms\n",
      "image 341/636 C:\\Users\\Khalid\\Desktop\\khalid_weapon_temper_weiner_m\\test_dataset\\images\\6065.jpg: 640x288 1 person, 48.5ms\n",
      "image 342/636 C:\\Users\\Khalid\\Desktop\\khalid_weapon_temper_weiner_m\\test_dataset\\images\\6066.jpg: 640x288 1 person, 1 gun, 35.3ms\n",
      "image 343/636 C:\\Users\\Khalid\\Desktop\\khalid_weapon_temper_weiner_m\\test_dataset\\images\\6067.jpg: 640x288 1 person, 1 gun, 46.9ms\n",
      "image 344/636 C:\\Users\\Khalid\\Desktop\\khalid_weapon_temper_weiner_m\\test_dataset\\images\\6068.jpg: 640x288 1 person, 42.1ms\n",
      "image 345/636 C:\\Users\\Khalid\\Desktop\\khalid_weapon_temper_weiner_m\\test_dataset\\images\\6069.jpg: 640x288 1 person, 33.6ms\n",
      "image 346/636 C:\\Users\\Khalid\\Desktop\\khalid_weapon_temper_weiner_m\\test_dataset\\images\\6070.jpg: 640x288 1 person, 47.3ms\n",
      "image 347/636 C:\\Users\\Khalid\\Desktop\\khalid_weapon_temper_weiner_m\\test_dataset\\images\\6071.jpg: 640x288 1 person, 62.7ms\n",
      "image 348/636 C:\\Users\\Khalid\\Desktop\\khalid_weapon_temper_weiner_m\\test_dataset\\images\\6072.jpg: 640x288 1 person, 1 gun, 46.9ms\n",
      "image 349/636 C:\\Users\\Khalid\\Desktop\\khalid_weapon_temper_weiner_m\\test_dataset\\images\\6073.jpg: 640x288 1 person, 47.9ms\n",
      "image 350/636 C:\\Users\\Khalid\\Desktop\\khalid_weapon_temper_weiner_m\\test_dataset\\images\\6074.jpg: 640x288 1 person, 1 gun, 46.9ms\n",
      "image 351/636 C:\\Users\\Khalid\\Desktop\\khalid_weapon_temper_weiner_m\\test_dataset\\images\\6075.jpg: 640x288 1 person, 1 gun, 31.2ms\n",
      "image 352/636 C:\\Users\\Khalid\\Desktop\\khalid_weapon_temper_weiner_m\\test_dataset\\images\\6076.jpg: 640x288 1 person, 1 gun, 83.3ms\n",
      "image 353/636 C:\\Users\\Khalid\\Desktop\\khalid_weapon_temper_weiner_m\\test_dataset\\images\\6077.jpg: 640x288 1 person, 1 gun, 47.4ms\n",
      "image 354/636 C:\\Users\\Khalid\\Desktop\\khalid_weapon_temper_weiner_m\\test_dataset\\images\\6078.jpg: 640x288 1 person, 1 gun, 46.9ms\n",
      "image 355/636 C:\\Users\\Khalid\\Desktop\\khalid_weapon_temper_weiner_m\\test_dataset\\images\\6079.jpg: 640x288 1 person, 1 gun, 47.3ms\n",
      "image 356/636 C:\\Users\\Khalid\\Desktop\\khalid_weapon_temper_weiner_m\\test_dataset\\images\\6080.jpg: 640x288 1 person, 62.8ms\n",
      "image 357/636 C:\\Users\\Khalid\\Desktop\\khalid_weapon_temper_weiner_m\\test_dataset\\images\\6081.jpg: 640x288 1 person, 46.9ms\n",
      "image 358/636 C:\\Users\\Khalid\\Desktop\\khalid_weapon_temper_weiner_m\\test_dataset\\images\\6082.jpg: 640x288 1 person, 46.9ms\n",
      "image 359/636 C:\\Users\\Khalid\\Desktop\\khalid_weapon_temper_weiner_m\\test_dataset\\images\\6083.jpg: 640x288 1 person, 46.9ms\n",
      "image 360/636 C:\\Users\\Khalid\\Desktop\\khalid_weapon_temper_weiner_m\\test_dataset\\images\\6084.jpg: 640x288 1 person, 46.9ms\n",
      "image 361/636 C:\\Users\\Khalid\\Desktop\\khalid_weapon_temper_weiner_m\\test_dataset\\images\\6085.jpg: 640x288 1 person, 31.2ms\n",
      "image 362/636 C:\\Users\\Khalid\\Desktop\\khalid_weapon_temper_weiner_m\\test_dataset\\images\\6086.jpg: 640x288 1 person, 55.7ms\n",
      "image 363/636 C:\\Users\\Khalid\\Desktop\\khalid_weapon_temper_weiner_m\\test_dataset\\images\\6087.jpg: 640x288 1 person, 1 gun, 46.3ms\n",
      "image 364/636 C:\\Users\\Khalid\\Desktop\\khalid_weapon_temper_weiner_m\\test_dataset\\images\\6088.jpg: 640x288 1 person, 1 gun, 46.9ms\n",
      "image 365/636 C:\\Users\\Khalid\\Desktop\\khalid_weapon_temper_weiner_m\\test_dataset\\images\\6089.jpg: 640x288 1 person, 46.9ms\n",
      "image 366/636 C:\\Users\\Khalid\\Desktop\\khalid_weapon_temper_weiner_m\\test_dataset\\images\\6090.jpg: 640x288 1 person, 1 gun, 47.2ms\n",
      "image 367/636 C:\\Users\\Khalid\\Desktop\\khalid_weapon_temper_weiner_m\\test_dataset\\images\\6091.jpg: 640x288 1 person, 31.2ms\n",
      "image 368/636 C:\\Users\\Khalid\\Desktop\\khalid_weapon_temper_weiner_m\\test_dataset\\images\\6092.jpg: 640x288 1 person, 31.2ms\n",
      "image 369/636 C:\\Users\\Khalid\\Desktop\\khalid_weapon_temper_weiner_m\\test_dataset\\images\\6093.jpg: 640x288 1 person, 46.9ms\n",
      "image 370/636 C:\\Users\\Khalid\\Desktop\\khalid_weapon_temper_weiner_m\\test_dataset\\images\\6094.jpg: 640x288 1 person, 46.9ms\n",
      "image 371/636 C:\\Users\\Khalid\\Desktop\\khalid_weapon_temper_weiner_m\\test_dataset\\images\\6095.jpg: 640x288 1 person, 47.7ms\n",
      "image 372/636 C:\\Users\\Khalid\\Desktop\\khalid_weapon_temper_weiner_m\\test_dataset\\images\\6096.jpg: 640x288 1 person, 46.9ms\n",
      "image 373/636 C:\\Users\\Khalid\\Desktop\\khalid_weapon_temper_weiner_m\\test_dataset\\images\\6097.jpg: 640x288 1 person, 46.9ms\n",
      "image 374/636 C:\\Users\\Khalid\\Desktop\\khalid_weapon_temper_weiner_m\\test_dataset\\images\\6098.jpg: 640x288 1 person, 1 gun, 46.9ms\n",
      "image 375/636 C:\\Users\\Khalid\\Desktop\\khalid_weapon_temper_weiner_m\\test_dataset\\images\\6099.jpg: 640x288 1 person, 31.4ms\n",
      "image 376/636 C:\\Users\\Khalid\\Desktop\\khalid_weapon_temper_weiner_m\\test_dataset\\images\\6100.jpg: 640x288 1 person, 1 gun, 31.2ms\n",
      "image 377/636 C:\\Users\\Khalid\\Desktop\\khalid_weapon_temper_weiner_m\\test_dataset\\images\\6101.jpg: 640x288 1 person, 1 gun, 31.2ms\n",
      "image 378/636 C:\\Users\\Khalid\\Desktop\\khalid_weapon_temper_weiner_m\\test_dataset\\images\\6102.jpg: 640x288 1 person, 31.2ms\n",
      "image 379/636 C:\\Users\\Khalid\\Desktop\\khalid_weapon_temper_weiner_m\\test_dataset\\images\\6103.jpg: 640x288 1 person, 47.0ms\n",
      "image 380/636 C:\\Users\\Khalid\\Desktop\\khalid_weapon_temper_weiner_m\\test_dataset\\images\\6104.jpg: 640x288 1 person, 1 gun, 56.4ms\n",
      "image 381/636 C:\\Users\\Khalid\\Desktop\\khalid_weapon_temper_weiner_m\\test_dataset\\images\\6105.jpg: 640x288 1 person, 1 gun, 25.3ms\n",
      "image 382/636 C:\\Users\\Khalid\\Desktop\\khalid_weapon_temper_weiner_m\\test_dataset\\images\\6106.jpg: 640x288 1 person, 1 gun, 31.2ms\n",
      "image 383/636 C:\\Users\\Khalid\\Desktop\\khalid_weapon_temper_weiner_m\\test_dataset\\images\\6107.jpg: 640x288 1 person, 46.9ms\n",
      "image 384/636 C:\\Users\\Khalid\\Desktop\\khalid_weapon_temper_weiner_m\\test_dataset\\images\\6108.jpg: 640x288 1 person, 1 gun, 46.9ms\n",
      "image 385/636 C:\\Users\\Khalid\\Desktop\\khalid_weapon_temper_weiner_m\\test_dataset\\images\\6109.jpg: 640x288 1 person, 31.2ms\n",
      "image 386/636 C:\\Users\\Khalid\\Desktop\\khalid_weapon_temper_weiner_m\\test_dataset\\images\\6110.jpg: 640x288 1 person, 1 gun, 31.2ms\n",
      "image 387/636 C:\\Users\\Khalid\\Desktop\\khalid_weapon_temper_weiner_m\\test_dataset\\images\\6111.jpg: 640x288 1 person, 31.2ms\n",
      "image 388/636 C:\\Users\\Khalid\\Desktop\\khalid_weapon_temper_weiner_m\\test_dataset\\images\\6112.jpg: 640x288 1 person, 1 gun, 46.9ms\n",
      "image 389/636 C:\\Users\\Khalid\\Desktop\\khalid_weapon_temper_weiner_m\\test_dataset\\images\\6113.jpg: 640x288 1 person, 1 gun, 47.2ms\n",
      "image 390/636 C:\\Users\\Khalid\\Desktop\\khalid_weapon_temper_weiner_m\\test_dataset\\images\\6114.jpg: 640x288 1 person, 1 gun, 54.9ms\n",
      "image 391/636 C:\\Users\\Khalid\\Desktop\\khalid_weapon_temper_weiner_m\\test_dataset\\images\\6115.jpg: 640x288 1 person, 31.1ms\n",
      "image 392/636 C:\\Users\\Khalid\\Desktop\\khalid_weapon_temper_weiner_m\\test_dataset\\images\\6116.jpg: 640x288 1 person, 46.9ms\n",
      "image 393/636 C:\\Users\\Khalid\\Desktop\\khalid_weapon_temper_weiner_m\\test_dataset\\images\\6117.jpg: 640x288 1 person, 31.2ms\n",
      "image 394/636 C:\\Users\\Khalid\\Desktop\\khalid_weapon_temper_weiner_m\\test_dataset\\images\\6118.jpg: 640x288 1 person, 1 gun, 46.9ms\n",
      "image 395/636 C:\\Users\\Khalid\\Desktop\\khalid_weapon_temper_weiner_m\\test_dataset\\images\\6119.jpg: 640x288 1 person, 46.9ms\n",
      "image 396/636 C:\\Users\\Khalid\\Desktop\\khalid_weapon_temper_weiner_m\\test_dataset\\images\\6120.jpg: 640x288 1 person, 46.9ms\n",
      "image 397/636 C:\\Users\\Khalid\\Desktop\\khalid_weapon_temper_weiner_m\\test_dataset\\images\\6121.jpg: 640x288 1 person, 1 gun, 46.9ms\n",
      "image 398/636 C:\\Users\\Khalid\\Desktop\\khalid_weapon_temper_weiner_m\\test_dataset\\images\\6122.jpg: 640x288 1 person, 47.5ms\n",
      "image 399/636 C:\\Users\\Khalid\\Desktop\\khalid_weapon_temper_weiner_m\\test_dataset\\images\\6123.jpg: 640x288 1 person, 47.1ms\n",
      "image 400/636 C:\\Users\\Khalid\\Desktop\\khalid_weapon_temper_weiner_m\\test_dataset\\images\\6124.jpg: 640x288 1 person, 51.4ms\n",
      "image 401/636 C:\\Users\\Khalid\\Desktop\\khalid_weapon_temper_weiner_m\\test_dataset\\images\\6125.jpg: 640x288 1 person, 1 gun, 20.1ms\n",
      "image 402/636 C:\\Users\\Khalid\\Desktop\\khalid_weapon_temper_weiner_m\\test_dataset\\images\\6126.jpg: 640x288 1 person, 1 gun, 31.2ms\n",
      "image 403/636 C:\\Users\\Khalid\\Desktop\\khalid_weapon_temper_weiner_m\\test_dataset\\images\\6127.jpg: 640x288 1 person, 1 gun, 31.3ms\n",
      "image 404/636 C:\\Users\\Khalid\\Desktop\\khalid_weapon_temper_weiner_m\\test_dataset\\images\\6128.jpg: 640x288 1 person, 31.2ms\n",
      "image 405/636 C:\\Users\\Khalid\\Desktop\\khalid_weapon_temper_weiner_m\\test_dataset\\images\\6129.jpg: 640x288 1 person, 46.9ms\n",
      "image 406/636 C:\\Users\\Khalid\\Desktop\\khalid_weapon_temper_weiner_m\\test_dataset\\images\\6130.jpg: 640x288 1 person, 1 gun, 46.9ms\n",
      "image 407/636 C:\\Users\\Khalid\\Desktop\\khalid_weapon_temper_weiner_m\\test_dataset\\images\\6131.jpg: 640x288 1 person, 31.3ms\n",
      "image 408/636 C:\\Users\\Khalid\\Desktop\\khalid_weapon_temper_weiner_m\\test_dataset\\images\\6132.jpg: 640x288 1 person, 1 gun, 31.2ms\n",
      "image 409/636 C:\\Users\\Khalid\\Desktop\\khalid_weapon_temper_weiner_m\\test_dataset\\images\\6133.jpg: 640x288 1 person, 31.2ms\n",
      "image 410/636 C:\\Users\\Khalid\\Desktop\\khalid_weapon_temper_weiner_m\\test_dataset\\images\\6134.jpg: 640x288 1 person, 47.2ms\n",
      "image 411/636 C:\\Users\\Khalid\\Desktop\\khalid_weapon_temper_weiner_m\\test_dataset\\images\\6135.jpg: 640x288 1 person, 31.2ms\n",
      "image 412/636 C:\\Users\\Khalid\\Desktop\\khalid_weapon_temper_weiner_m\\test_dataset\\images\\6136.jpg: 640x288 1 person, 1 gun, 31.2ms\n",
      "image 413/636 C:\\Users\\Khalid\\Desktop\\khalid_weapon_temper_weiner_m\\test_dataset\\images\\6137.jpg: 640x288 1 person, 1 gun, 46.9ms\n",
      "image 414/636 C:\\Users\\Khalid\\Desktop\\khalid_weapon_temper_weiner_m\\test_dataset\\images\\6138.jpg: 640x288 1 person, 47.2ms\n",
      "image 415/636 C:\\Users\\Khalid\\Desktop\\khalid_weapon_temper_weiner_m\\test_dataset\\images\\6139.jpg: 640x288 1 person, 62.5ms\n",
      "image 416/636 C:\\Users\\Khalid\\Desktop\\khalid_weapon_temper_weiner_m\\test_dataset\\images\\6140.jpg: 640x288 1 person, 1 gun, 46.9ms\n",
      "image 417/636 C:\\Users\\Khalid\\Desktop\\khalid_weapon_temper_weiner_m\\test_dataset\\images\\6141.jpg: 640x288 1 person, 47.3ms\n",
      "image 418/636 C:\\Users\\Khalid\\Desktop\\khalid_weapon_temper_weiner_m\\test_dataset\\images\\6142.jpg: 640x288 1 person, 31.2ms\n",
      "image 419/636 C:\\Users\\Khalid\\Desktop\\khalid_weapon_temper_weiner_m\\test_dataset\\images\\6143.jpg: 640x288 1 person, 1 gun, 31.2ms\n",
      "image 420/636 C:\\Users\\Khalid\\Desktop\\khalid_weapon_temper_weiner_m\\test_dataset\\images\\6144.jpg: 640x288 1 person, 60.1ms\n",
      "image 421/636 C:\\Users\\Khalid\\Desktop\\khalid_weapon_temper_weiner_m\\test_dataset\\images\\6145.jpg: 640x288 1 person, 1 gun, 47.0ms\n",
      "image 422/636 C:\\Users\\Khalid\\Desktop\\khalid_weapon_temper_weiner_m\\test_dataset\\images\\6146.jpg: 640x288 1 person, 1 gun, 46.9ms\n",
      "image 423/636 C:\\Users\\Khalid\\Desktop\\khalid_weapon_temper_weiner_m\\test_dataset\\images\\6147.jpg: 640x288 1 person, 1 gun, 47.1ms\n",
      "image 424/636 C:\\Users\\Khalid\\Desktop\\khalid_weapon_temper_weiner_m\\test_dataset\\images\\6148.jpg: 640x288 1 person, 46.9ms\n",
      "image 425/636 C:\\Users\\Khalid\\Desktop\\khalid_weapon_temper_weiner_m\\test_dataset\\images\\6149.jpg: 640x288 1 person, 47.5ms\n",
      "image 426/636 C:\\Users\\Khalid\\Desktop\\khalid_weapon_temper_weiner_m\\test_dataset\\images\\6150.jpg: 640x288 1 person, 31.2ms\n",
      "image 427/636 C:\\Users\\Khalid\\Desktop\\khalid_weapon_temper_weiner_m\\test_dataset\\images\\6151.jpg: 640x288 1 person, 1 gun, 31.5ms\n",
      "image 428/636 C:\\Users\\Khalid\\Desktop\\khalid_weapon_temper_weiner_m\\test_dataset\\images\\6152.jpg: 640x288 1 person, 46.9ms\n",
      "image 429/636 C:\\Users\\Khalid\\Desktop\\khalid_weapon_temper_weiner_m\\test_dataset\\images\\6153.jpg: 640x288 1 person, 29.8ms\n",
      "image 430/636 C:\\Users\\Khalid\\Desktop\\khalid_weapon_temper_weiner_m\\test_dataset\\images\\6154.jpg: 640x288 1 person, 1 gun, 46.9ms\n",
      "image 431/636 C:\\Users\\Khalid\\Desktop\\khalid_weapon_temper_weiner_m\\test_dataset\\images\\6155.jpg: 640x288 1 person, 1 gun, 46.9ms\n",
      "image 432/636 C:\\Users\\Khalid\\Desktop\\khalid_weapon_temper_weiner_m\\test_dataset\\images\\6156.jpg: 640x288 1 person, 47.5ms\n",
      "image 433/636 C:\\Users\\Khalid\\Desktop\\khalid_weapon_temper_weiner_m\\test_dataset\\images\\6157.jpg: 640x288 1 person, 31.7ms\n",
      "image 434/636 C:\\Users\\Khalid\\Desktop\\khalid_weapon_temper_weiner_m\\test_dataset\\images\\6158.jpg: 640x288 1 person, 1 gun, 31.2ms\n",
      "image 435/636 C:\\Users\\Khalid\\Desktop\\khalid_weapon_temper_weiner_m\\test_dataset\\images\\6159.jpg: 640x288 1 person, 46.9ms\n",
      "image 436/636 C:\\Users\\Khalid\\Desktop\\khalid_weapon_temper_weiner_m\\test_dataset\\images\\6160.jpg: 640x288 1 person, 47.4ms\n",
      "image 437/636 C:\\Users\\Khalid\\Desktop\\khalid_weapon_temper_weiner_m\\test_dataset\\images\\6161.jpg: 640x288 1 person, 1 gun, 31.2ms\n",
      "image 438/636 C:\\Users\\Khalid\\Desktop\\khalid_weapon_temper_weiner_m\\test_dataset\\images\\6162.jpg: 640x288 1 person, 1 gun, 31.2ms\n",
      "image 439/636 C:\\Users\\Khalid\\Desktop\\khalid_weapon_temper_weiner_m\\test_dataset\\images\\6163.jpg: 640x288 1 person, 1 gun, 43.0ms\n",
      "image 440/636 C:\\Users\\Khalid\\Desktop\\khalid_weapon_temper_weiner_m\\test_dataset\\images\\6164.jpg: 640x288 1 person, 46.8ms\n",
      "image 441/636 C:\\Users\\Khalid\\Desktop\\khalid_weapon_temper_weiner_m\\test_dataset\\images\\6165.jpg: 640x288 1 person, 31.2ms\n",
      "image 442/636 C:\\Users\\Khalid\\Desktop\\khalid_weapon_temper_weiner_m\\test_dataset\\images\\6166.jpg: 640x288 1 person, 1 gun, 31.3ms\n",
      "image 443/636 C:\\Users\\Khalid\\Desktop\\khalid_weapon_temper_weiner_m\\test_dataset\\images\\6167.jpg: 640x288 1 person, 31.2ms\n",
      "image 444/636 C:\\Users\\Khalid\\Desktop\\khalid_weapon_temper_weiner_m\\test_dataset\\images\\6168.jpg: 640x288 1 person, 1 gun, 46.9ms\n",
      "image 445/636 C:\\Users\\Khalid\\Desktop\\khalid_weapon_temper_weiner_m\\test_dataset\\images\\6169.jpg: 640x288 1 person, 46.9ms\n",
      "image 446/636 C:\\Users\\Khalid\\Desktop\\khalid_weapon_temper_weiner_m\\test_dataset\\images\\6170.jpg: 640x288 1 person, 1 gun, 31.2ms\n",
      "image 447/636 C:\\Users\\Khalid\\Desktop\\khalid_weapon_temper_weiner_m\\test_dataset\\images\\6171.jpg: 640x288 1 person, 47.3ms\n",
      "image 448/636 C:\\Users\\Khalid\\Desktop\\khalid_weapon_temper_weiner_m\\test_dataset\\images\\6172.jpg: 640x288 1 person, 31.2ms\n",
      "image 449/636 C:\\Users\\Khalid\\Desktop\\khalid_weapon_temper_weiner_m\\test_dataset\\images\\6173.jpg: 640x288 1 person, 46.9ms\n",
      "image 450/636 C:\\Users\\Khalid\\Desktop\\khalid_weapon_temper_weiner_m\\test_dataset\\images\\6174.jpg: 640x288 1 person, 31.3ms\n",
      "image 451/636 C:\\Users\\Khalid\\Desktop\\khalid_weapon_temper_weiner_m\\test_dataset\\images\\6175.jpg: 640x288 1 person, 1 gun, 46.9ms\n",
      "image 452/636 C:\\Users\\Khalid\\Desktop\\khalid_weapon_temper_weiner_m\\test_dataset\\images\\6176.jpg: 640x288 1 person, 31.2ms\n",
      "image 453/636 C:\\Users\\Khalid\\Desktop\\khalid_weapon_temper_weiner_m\\test_dataset\\images\\6177.jpg: 640x288 1 person, 1 gun, 46.9ms\n",
      "image 454/636 C:\\Users\\Khalid\\Desktop\\khalid_weapon_temper_weiner_m\\test_dataset\\images\\6178.jpg: 640x288 1 person, 1 gun, 31.2ms\n",
      "image 455/636 C:\\Users\\Khalid\\Desktop\\khalid_weapon_temper_weiner_m\\test_dataset\\images\\6179.jpg: 640x288 1 person, 47.3ms\n",
      "image 456/636 C:\\Users\\Khalid\\Desktop\\khalid_weapon_temper_weiner_m\\test_dataset\\images\\6180.jpg: 640x288 1 person, 1 gun, 47.3ms\n",
      "image 457/636 C:\\Users\\Khalid\\Desktop\\khalid_weapon_temper_weiner_m\\test_dataset\\images\\6181.jpg: 640x288 1 person, 31.2ms\n",
      "image 458/636 C:\\Users\\Khalid\\Desktop\\khalid_weapon_temper_weiner_m\\test_dataset\\images\\6182.jpg: 640x288 1 person, 45.4ms\n",
      "image 459/636 C:\\Users\\Khalid\\Desktop\\khalid_weapon_temper_weiner_m\\test_dataset\\images\\6183.jpg: 640x288 1 person, 1 gun, 21.0ms\n",
      "image 460/636 C:\\Users\\Khalid\\Desktop\\khalid_weapon_temper_weiner_m\\test_dataset\\images\\6184.jpg: 640x288 1 person, 1 gun, 31.2ms\n",
      "image 461/636 C:\\Users\\Khalid\\Desktop\\khalid_weapon_temper_weiner_m\\test_dataset\\images\\6185.jpg: 640x288 1 person, 1 gun, 46.9ms\n",
      "image 462/636 C:\\Users\\Khalid\\Desktop\\khalid_weapon_temper_weiner_m\\test_dataset\\images\\6186.jpg: 640x288 1 person, 1 gun, 31.2ms\n",
      "image 463/636 C:\\Users\\Khalid\\Desktop\\khalid_weapon_temper_weiner_m\\test_dataset\\images\\6187.jpg: 640x288 1 person, 1 gun, 31.2ms\n",
      "image 464/636 C:\\Users\\Khalid\\Desktop\\khalid_weapon_temper_weiner_m\\test_dataset\\images\\6188.jpg: 640x288 1 person, 1 gun, 31.6ms\n",
      "image 465/636 C:\\Users\\Khalid\\Desktop\\khalid_weapon_temper_weiner_m\\test_dataset\\images\\6189.jpg: 640x288 1 person, 1 gun, 46.9ms\n",
      "image 466/636 C:\\Users\\Khalid\\Desktop\\khalid_weapon_temper_weiner_m\\test_dataset\\images\\6190.jpg: 640x288 1 person, 1 gun, 31.2ms\n",
      "image 467/636 C:\\Users\\Khalid\\Desktop\\khalid_weapon_temper_weiner_m\\test_dataset\\images\\6191.jpg: 640x288 1 person, 1 gun, 46.9ms\n",
      "image 468/636 C:\\Users\\Khalid\\Desktop\\khalid_weapon_temper_weiner_m\\test_dataset\\images\\6192.jpg: 640x288 1 person, 31.2ms\n",
      "image 469/636 C:\\Users\\Khalid\\Desktop\\khalid_weapon_temper_weiner_m\\test_dataset\\images\\6193.jpg: 640x288 1 person, 47.3ms\n",
      "image 470/636 C:\\Users\\Khalid\\Desktop\\khalid_weapon_temper_weiner_m\\test_dataset\\images\\6194.jpg: 640x288 1 person, 1 gun, 46.3ms\n",
      "image 471/636 C:\\Users\\Khalid\\Desktop\\khalid_weapon_temper_weiner_m\\test_dataset\\images\\6195.jpg: 640x288 1 person, 1 gun, 31.2ms\n",
      "image 472/636 C:\\Users\\Khalid\\Desktop\\khalid_weapon_temper_weiner_m\\test_dataset\\images\\6196.jpg: 640x288 1 person, 31.2ms\n",
      "image 473/636 C:\\Users\\Khalid\\Desktop\\khalid_weapon_temper_weiner_m\\test_dataset\\images\\6197.jpg: 640x288 1 person, 1 gun, 31.3ms\n",
      "image 474/636 C:\\Users\\Khalid\\Desktop\\khalid_weapon_temper_weiner_m\\test_dataset\\images\\6198.jpg: 640x288 1 person, 31.2ms\n",
      "image 475/636 C:\\Users\\Khalid\\Desktop\\khalid_weapon_temper_weiner_m\\test_dataset\\images\\6199.jpg: 640x288 1 person, 31.2ms\n",
      "image 476/636 C:\\Users\\Khalid\\Desktop\\khalid_weapon_temper_weiner_m\\test_dataset\\images\\6200.jpg: 640x288 1 person, 31.2ms\n",
      "image 477/636 C:\\Users\\Khalid\\Desktop\\khalid_weapon_temper_weiner_m\\test_dataset\\images\\6201.jpg: 640x288 1 person, 1 gun, 31.2ms\n",
      "image 478/636 C:\\Users\\Khalid\\Desktop\\khalid_weapon_temper_weiner_m\\test_dataset\\images\\6202.jpg: 640x288 1 person, 31.2ms\n",
      "image 479/636 C:\\Users\\Khalid\\Desktop\\khalid_weapon_temper_weiner_m\\test_dataset\\images\\6203.jpg: 640x288 1 person, 1 gun, 31.2ms\n",
      "image 480/636 C:\\Users\\Khalid\\Desktop\\khalid_weapon_temper_weiner_m\\test_dataset\\images\\6204.jpg: 640x288 1 person, 47.5ms\n",
      "image 481/636 C:\\Users\\Khalid\\Desktop\\khalid_weapon_temper_weiner_m\\test_dataset\\images\\6205.jpg: 640x288 1 person, 30.6ms\n",
      "image 482/636 C:\\Users\\Khalid\\Desktop\\khalid_weapon_temper_weiner_m\\test_dataset\\images\\6206.jpg: 640x288 1 person, 47.2ms\n",
      "image 483/636 C:\\Users\\Khalid\\Desktop\\khalid_weapon_temper_weiner_m\\test_dataset\\images\\6207.jpg: 640x288 1 person, 31.2ms\n",
      "image 484/636 C:\\Users\\Khalid\\Desktop\\khalid_weapon_temper_weiner_m\\test_dataset\\images\\6208.jpg: 640x288 1 person, 1 gun, 46.9ms\n",
      "image 485/636 C:\\Users\\Khalid\\Desktop\\khalid_weapon_temper_weiner_m\\test_dataset\\images\\6209.jpg: 640x288 1 person, 1 gun, 46.9ms\n",
      "image 486/636 C:\\Users\\Khalid\\Desktop\\khalid_weapon_temper_weiner_m\\test_dataset\\images\\6210.jpg: 640x288 1 person, 46.9ms\n",
      "image 487/636 C:\\Users\\Khalid\\Desktop\\khalid_weapon_temper_weiner_m\\test_dataset\\images\\6211.jpg: 640x288 1 person, 1 gun, 31.2ms\n",
      "image 488/636 C:\\Users\\Khalid\\Desktop\\khalid_weapon_temper_weiner_m\\test_dataset\\images\\6212.jpg: 640x288 1 person, 46.9ms\n",
      "image 489/636 C:\\Users\\Khalid\\Desktop\\khalid_weapon_temper_weiner_m\\test_dataset\\images\\6213.jpg: 640x288 1 person, 1 gun, 31.2ms\n",
      "image 490/636 C:\\Users\\Khalid\\Desktop\\khalid_weapon_temper_weiner_m\\test_dataset\\images\\6214.jpg: 640x288 1 person, 1 gun, 46.9ms\n",
      "image 491/636 C:\\Users\\Khalid\\Desktop\\khalid_weapon_temper_weiner_m\\test_dataset\\images\\6215.jpg: 640x288 1 person, 1 gun, 62.5ms\n",
      "image 492/636 C:\\Users\\Khalid\\Desktop\\khalid_weapon_temper_weiner_m\\test_dataset\\images\\6216.jpg: 640x288 1 person, 1 gun, 46.9ms\n",
      "image 493/636 C:\\Users\\Khalid\\Desktop\\khalid_weapon_temper_weiner_m\\test_dataset\\images\\6217.jpg: 640x288 1 person, 1 gun, 47.1ms\n",
      "image 494/636 C:\\Users\\Khalid\\Desktop\\khalid_weapon_temper_weiner_m\\test_dataset\\images\\6218.jpg: 640x288 1 person, 47.3ms\n",
      "image 495/636 C:\\Users\\Khalid\\Desktop\\khalid_weapon_temper_weiner_m\\test_dataset\\images\\6219.jpg: 640x288 1 person, 1 gun, 47.2ms\n",
      "image 496/636 C:\\Users\\Khalid\\Desktop\\khalid_weapon_temper_weiner_m\\test_dataset\\images\\6220.jpg: 640x288 1 person, 46.9ms\n",
      "image 497/636 C:\\Users\\Khalid\\Desktop\\khalid_weapon_temper_weiner_m\\test_dataset\\images\\6221.jpg: 640x288 1 person, 1 gun, 53.0ms\n",
      "image 498/636 C:\\Users\\Khalid\\Desktop\\khalid_weapon_temper_weiner_m\\test_dataset\\images\\6222.jpg: 640x288 1 person, 27.7ms\n",
      "image 499/636 C:\\Users\\Khalid\\Desktop\\khalid_weapon_temper_weiner_m\\test_dataset\\images\\6223.jpg: 640x288 1 person, 46.9ms\n",
      "image 500/636 C:\\Users\\Khalid\\Desktop\\khalid_weapon_temper_weiner_m\\test_dataset\\images\\6224.jpg: 640x288 1 person, 46.9ms\n",
      "image 501/636 C:\\Users\\Khalid\\Desktop\\khalid_weapon_temper_weiner_m\\test_dataset\\images\\6225.jpg: 640x288 1 person, 46.9ms\n",
      "image 502/636 C:\\Users\\Khalid\\Desktop\\khalid_weapon_temper_weiner_m\\test_dataset\\images\\6226.jpg: 640x288 1 person, 1 gun, 46.9ms\n",
      "image 503/636 C:\\Users\\Khalid\\Desktop\\khalid_weapon_temper_weiner_m\\test_dataset\\images\\6227.jpg: 640x288 1 person, 46.9ms\n",
      "image 504/636 C:\\Users\\Khalid\\Desktop\\khalid_weapon_temper_weiner_m\\test_dataset\\images\\6228.jpg: 640x288 1 person, 1 gun, 46.9ms\n",
      "image 505/636 C:\\Users\\Khalid\\Desktop\\khalid_weapon_temper_weiner_m\\test_dataset\\images\\6229.jpg: 640x288 1 person, 1 gun, 46.9ms\n",
      "image 506/636 C:\\Users\\Khalid\\Desktop\\khalid_weapon_temper_weiner_m\\test_dataset\\images\\6230.jpg: 640x288 1 person, 1 gun, 46.9ms\n",
      "image 507/636 C:\\Users\\Khalid\\Desktop\\khalid_weapon_temper_weiner_m\\test_dataset\\images\\6231.jpg: 640x288 1 person, 28.5ms\n",
      "image 508/636 C:\\Users\\Khalid\\Desktop\\khalid_weapon_temper_weiner_m\\test_dataset\\images\\6232.jpg: 640x288 1 person, 46.9ms\n",
      "image 509/636 C:\\Users\\Khalid\\Desktop\\khalid_weapon_temper_weiner_m\\test_dataset\\images\\6233.jpg: 640x288 1 person, 1 gun, 31.2ms\n",
      "image 510/636 C:\\Users\\Khalid\\Desktop\\khalid_weapon_temper_weiner_m\\test_dataset\\images\\6234.jpg: 640x288 1 person, 31.2ms\n",
      "image 511/636 C:\\Users\\Khalid\\Desktop\\khalid_weapon_temper_weiner_m\\test_dataset\\images\\6235.jpg: 640x288 1 person, 1 gun, 46.9ms\n",
      "image 512/636 C:\\Users\\Khalid\\Desktop\\khalid_weapon_temper_weiner_m\\test_dataset\\images\\6236.jpg: 640x288 1 person, 46.9ms\n",
      "image 513/636 C:\\Users\\Khalid\\Desktop\\khalid_weapon_temper_weiner_m\\test_dataset\\images\\6237.jpg: 640x288 1 person, 46.9ms\n",
      "image 514/636 C:\\Users\\Khalid\\Desktop\\khalid_weapon_temper_weiner_m\\test_dataset\\images\\6238.jpg: 640x288 1 person, 46.9ms\n",
      "image 515/636 C:\\Users\\Khalid\\Desktop\\khalid_weapon_temper_weiner_m\\test_dataset\\images\\6239.jpg: 640x288 1 person, 47.3ms\n",
      "image 516/636 C:\\Users\\Khalid\\Desktop\\khalid_weapon_temper_weiner_m\\test_dataset\\images\\6240.jpg: 640x288 1 person, 46.0ms\n",
      "image 517/636 C:\\Users\\Khalid\\Desktop\\khalid_weapon_temper_weiner_m\\test_dataset\\images\\6241.jpg: 640x288 1 person, 1 gun, 46.9ms\n",
      "image 518/636 C:\\Users\\Khalid\\Desktop\\khalid_weapon_temper_weiner_m\\test_dataset\\images\\6242.jpg: 640x288 1 person, 46.9ms\n",
      "image 519/636 C:\\Users\\Khalid\\Desktop\\khalid_weapon_temper_weiner_m\\test_dataset\\images\\6243.jpg: 640x288 1 person, 1 gun, 46.9ms\n",
      "image 520/636 C:\\Users\\Khalid\\Desktop\\khalid_weapon_temper_weiner_m\\test_dataset\\images\\6244.jpg: 640x288 1 person, 1 gun, 62.5ms\n",
      "image 521/636 C:\\Users\\Khalid\\Desktop\\khalid_weapon_temper_weiner_m\\test_dataset\\images\\6245.jpg: 640x288 1 person, 1 gun, 47.1ms\n",
      "image 522/636 C:\\Users\\Khalid\\Desktop\\khalid_weapon_temper_weiner_m\\test_dataset\\images\\6246.jpg: 640x288 1 person, 46.9ms\n",
      "image 523/636 C:\\Users\\Khalid\\Desktop\\khalid_weapon_temper_weiner_m\\test_dataset\\images\\6247.jpg: 640x288 1 person, 1 gun, 47.1ms\n",
      "image 524/636 C:\\Users\\Khalid\\Desktop\\khalid_weapon_temper_weiner_m\\test_dataset\\images\\6248.jpg: 640x288 1 person, 1 gun, 46.9ms\n",
      "image 525/636 C:\\Users\\Khalid\\Desktop\\khalid_weapon_temper_weiner_m\\test_dataset\\images\\6249.jpg: 640x288 1 person, 1 gun, 47.0ms\n",
      "image 526/636 C:\\Users\\Khalid\\Desktop\\khalid_weapon_temper_weiner_m\\test_dataset\\images\\6250.jpg: 640x288 1 person, 1 gun, 47.7ms\n",
      "image 527/636 C:\\Users\\Khalid\\Desktop\\khalid_weapon_temper_weiner_m\\test_dataset\\images\\6251.jpg: 640x288 1 person, 1 gun, 46.8ms\n",
      "image 528/636 C:\\Users\\Khalid\\Desktop\\khalid_weapon_temper_weiner_m\\test_dataset\\images\\6252.jpg: 640x288 1 person, 1 gun, 46.9ms\n",
      "image 529/636 C:\\Users\\Khalid\\Desktop\\khalid_weapon_temper_weiner_m\\test_dataset\\images\\6253.jpg: 640x288 1 person, 1 gun, 46.9ms\n",
      "image 530/636 C:\\Users\\Khalid\\Desktop\\khalid_weapon_temper_weiner_m\\test_dataset\\images\\6254.jpg: 640x288 1 person, 46.9ms\n",
      "image 531/636 C:\\Users\\Khalid\\Desktop\\khalid_weapon_temper_weiner_m\\test_dataset\\images\\6255.jpg: 640x288 1 person, 46.9ms\n",
      "image 532/636 C:\\Users\\Khalid\\Desktop\\khalid_weapon_temper_weiner_m\\test_dataset\\images\\6256.jpg: 640x288 1 person, 31.2ms\n",
      "image 533/636 C:\\Users\\Khalid\\Desktop\\khalid_weapon_temper_weiner_m\\test_dataset\\images\\6257.jpg: 640x288 1 person, 31.2ms\n",
      "image 534/636 C:\\Users\\Khalid\\Desktop\\khalid_weapon_temper_weiner_m\\test_dataset\\images\\6258.jpg: 640x288 1 person, 1 gun, 41.6ms\n",
      "image 535/636 C:\\Users\\Khalid\\Desktop\\khalid_weapon_temper_weiner_m\\test_dataset\\images\\6259.jpg: 640x288 1 person, 1 gun, 46.9ms\n",
      "image 536/636 C:\\Users\\Khalid\\Desktop\\khalid_weapon_temper_weiner_m\\test_dataset\\images\\6260.jpg: 640x288 1 person, 1 gun, 31.2ms\n",
      "image 537/636 C:\\Users\\Khalid\\Desktop\\khalid_weapon_temper_weiner_m\\test_dataset\\images\\6261.jpg: 640x288 1 person, 47.3ms\n",
      "image 538/636 C:\\Users\\Khalid\\Desktop\\khalid_weapon_temper_weiner_m\\test_dataset\\images\\6262.jpg: 640x288 1 person, 46.9ms\n",
      "image 539/636 C:\\Users\\Khalid\\Desktop\\khalid_weapon_temper_weiner_m\\test_dataset\\images\\6263.jpg: 640x288 1 person, 1 gun, 31.3ms\n",
      "image 540/636 C:\\Users\\Khalid\\Desktop\\khalid_weapon_temper_weiner_m\\test_dataset\\images\\6264.jpg: 640x288 1 person, 1 gun, 31.3ms\n",
      "image 541/636 C:\\Users\\Khalid\\Desktop\\khalid_weapon_temper_weiner_m\\test_dataset\\images\\6265.jpg: 640x288 1 person, 31.3ms\n",
      "image 542/636 C:\\Users\\Khalid\\Desktop\\khalid_weapon_temper_weiner_m\\test_dataset\\images\\6266.jpg: 640x288 1 person, 46.9ms\n",
      "image 543/636 C:\\Users\\Khalid\\Desktop\\khalid_weapon_temper_weiner_m\\test_dataset\\images\\6267.jpg: 640x288 1 person, 47.4ms\n",
      "image 544/636 C:\\Users\\Khalid\\Desktop\\khalid_weapon_temper_weiner_m\\test_dataset\\images\\6268.jpg: 640x288 1 person, 1 gun, 35.3ms\n",
      "image 545/636 C:\\Users\\Khalid\\Desktop\\khalid_weapon_temper_weiner_m\\test_dataset\\images\\6269.jpg: 640x288 1 person, 46.9ms\n",
      "image 546/636 C:\\Users\\Khalid\\Desktop\\khalid_weapon_temper_weiner_m\\test_dataset\\images\\6270.jpg: 640x288 1 person, 47.1ms\n",
      "image 547/636 C:\\Users\\Khalid\\Desktop\\khalid_weapon_temper_weiner_m\\test_dataset\\images\\6271.jpg: 640x288 1 person, 1 gun, 47.1ms\n",
      "image 548/636 C:\\Users\\Khalid\\Desktop\\khalid_weapon_temper_weiner_m\\test_dataset\\images\\6272.jpg: 640x288 1 person, 44.7ms\n",
      "image 549/636 C:\\Users\\Khalid\\Desktop\\khalid_weapon_temper_weiner_m\\test_dataset\\images\\6273.jpg: 640x288 1 person, 1 gun, 58.2ms\n",
      "image 550/636 C:\\Users\\Khalid\\Desktop\\khalid_weapon_temper_weiner_m\\test_dataset\\images\\6274.jpg: 640x288 1 person, 52.0ms\n",
      "image 551/636 C:\\Users\\Khalid\\Desktop\\khalid_weapon_temper_weiner_m\\test_dataset\\images\\6275.jpg: 640x288 1 person, 40.1ms\n",
      "image 552/636 C:\\Users\\Khalid\\Desktop\\khalid_weapon_temper_weiner_m\\test_dataset\\images\\6276.jpg: 640x288 1 person, 44.1ms\n",
      "image 553/636 C:\\Users\\Khalid\\Desktop\\khalid_weapon_temper_weiner_m\\test_dataset\\images\\6277.jpg: 640x288 1 person, 34.7ms\n",
      "image 554/636 C:\\Users\\Khalid\\Desktop\\khalid_weapon_temper_weiner_m\\test_dataset\\images\\6278.jpg: 640x288 1 person, 62.5ms\n",
      "image 555/636 C:\\Users\\Khalid\\Desktop\\khalid_weapon_temper_weiner_m\\test_dataset\\images\\6279.jpg: 640x288 1 person, 62.8ms\n",
      "image 556/636 C:\\Users\\Khalid\\Desktop\\khalid_weapon_temper_weiner_m\\test_dataset\\images\\6280.jpg: 640x288 1 person, 62.6ms\n",
      "image 557/636 C:\\Users\\Khalid\\Desktop\\khalid_weapon_temper_weiner_m\\test_dataset\\images\\6281.jpg: 640x288 1 person, 62.9ms\n",
      "image 558/636 C:\\Users\\Khalid\\Desktop\\khalid_weapon_temper_weiner_m\\test_dataset\\images\\6282.jpg: 640x288 1 person, 1 gun, 78.1ms\n",
      "image 559/636 C:\\Users\\Khalid\\Desktop\\khalid_weapon_temper_weiner_m\\test_dataset\\images\\6283.jpg: 640x288 1 person, 55.0ms\n",
      "image 560/636 C:\\Users\\Khalid\\Desktop\\khalid_weapon_temper_weiner_m\\test_dataset\\images\\6284.jpg: 640x288 1 person, 43.0ms\n",
      "image 561/636 C:\\Users\\Khalid\\Desktop\\khalid_weapon_temper_weiner_m\\test_dataset\\images\\6285.jpg: 640x288 1 person, 47.9ms\n",
      "image 562/636 C:\\Users\\Khalid\\Desktop\\khalid_weapon_temper_weiner_m\\test_dataset\\images\\6286.jpg: 640x288 1 person, 1 gun, 51.6ms\n",
      "image 563/636 C:\\Users\\Khalid\\Desktop\\khalid_weapon_temper_weiner_m\\test_dataset\\images\\6287.jpg: 640x288 1 person, 40.2ms\n",
      "image 564/636 C:\\Users\\Khalid\\Desktop\\khalid_weapon_temper_weiner_m\\test_dataset\\images\\6288.jpg: 640x288 1 person, 46.9ms\n",
      "image 565/636 C:\\Users\\Khalid\\Desktop\\khalid_weapon_temper_weiner_m\\test_dataset\\images\\6289.jpg: 640x288 1 person, 61.8ms\n",
      "image 566/636 C:\\Users\\Khalid\\Desktop\\khalid_weapon_temper_weiner_m\\test_dataset\\images\\6290.jpg: 640x288 1 person, 1 gun, 45.7ms\n",
      "image 567/636 C:\\Users\\Khalid\\Desktop\\khalid_weapon_temper_weiner_m\\test_dataset\\images\\6291.jpg: 640x288 1 person, 56.8ms\n",
      "image 568/636 C:\\Users\\Khalid\\Desktop\\khalid_weapon_temper_weiner_m\\test_dataset\\images\\6292.jpg: 640x288 1 person, 47.5ms\n",
      "image 569/636 C:\\Users\\Khalid\\Desktop\\khalid_weapon_temper_weiner_m\\test_dataset\\images\\6293.jpg: 640x288 1 person, 31.2ms\n",
      "image 570/636 C:\\Users\\Khalid\\Desktop\\khalid_weapon_temper_weiner_m\\test_dataset\\images\\6294.jpg: 640x288 1 person, 46.9ms\n",
      "image 571/636 C:\\Users\\Khalid\\Desktop\\khalid_weapon_temper_weiner_m\\test_dataset\\images\\6295.jpg: 640x288 1 person, 1 gun, 31.2ms\n",
      "image 572/636 C:\\Users\\Khalid\\Desktop\\khalid_weapon_temper_weiner_m\\test_dataset\\images\\6296.jpg: 640x288 1 person, 46.9ms\n",
      "image 573/636 C:\\Users\\Khalid\\Desktop\\khalid_weapon_temper_weiner_m\\test_dataset\\images\\6297.jpg: 640x288 1 person, 46.9ms\n",
      "image 574/636 C:\\Users\\Khalid\\Desktop\\khalid_weapon_temper_weiner_m\\test_dataset\\images\\6298.jpg: 640x288 1 person, 1 gun, 46.9ms\n",
      "image 575/636 C:\\Users\\Khalid\\Desktop\\khalid_weapon_temper_weiner_m\\test_dataset\\images\\6299.jpg: 640x288 1 person, 46.9ms\n",
      "image 576/636 C:\\Users\\Khalid\\Desktop\\khalid_weapon_temper_weiner_m\\test_dataset\\images\\6300.jpg: 640x288 1 person, 63.8ms\n",
      "image 577/636 C:\\Users\\Khalid\\Desktop\\khalid_weapon_temper_weiner_m\\test_dataset\\images\\6301.jpg: 640x288 1 person, 1 gun, 50.9ms\n",
      "image 578/636 C:\\Users\\Khalid\\Desktop\\khalid_weapon_temper_weiner_m\\test_dataset\\images\\6302.jpg: 640x288 1 person, 1 gun, 46.9ms\n",
      "image 579/636 C:\\Users\\Khalid\\Desktop\\khalid_weapon_temper_weiner_m\\test_dataset\\images\\6303.jpg: 640x288 1 person, 31.2ms\n",
      "image 580/636 C:\\Users\\Khalid\\Desktop\\khalid_weapon_temper_weiner_m\\test_dataset\\images\\6304.jpg: 640x288 1 person, 46.9ms\n",
      "image 581/636 C:\\Users\\Khalid\\Desktop\\khalid_weapon_temper_weiner_m\\test_dataset\\images\\6305.jpg: 640x288 1 person, 1 gun, 60.2ms\n",
      "image 582/636 C:\\Users\\Khalid\\Desktop\\khalid_weapon_temper_weiner_m\\test_dataset\\images\\6306.jpg: 640x288 1 person, 49.5ms\n",
      "image 583/636 C:\\Users\\Khalid\\Desktop\\khalid_weapon_temper_weiner_m\\test_dataset\\images\\6307.jpg: 640x288 1 person, 1 gun, 46.9ms\n",
      "image 584/636 C:\\Users\\Khalid\\Desktop\\khalid_weapon_temper_weiner_m\\test_dataset\\images\\6308.jpg: 640x288 1 person, 67.7ms\n",
      "image 585/636 C:\\Users\\Khalid\\Desktop\\khalid_weapon_temper_weiner_m\\test_dataset\\images\\6309.jpg: 640x288 1 person, 1 gun, 47.4ms\n",
      "image 586/636 C:\\Users\\Khalid\\Desktop\\khalid_weapon_temper_weiner_m\\test_dataset\\images\\6310.jpg: 640x288 1 person, 1 gun, 31.2ms\n",
      "image 587/636 C:\\Users\\Khalid\\Desktop\\khalid_weapon_temper_weiner_m\\test_dataset\\images\\6311.jpg: 640x288 1 person, 1 gun, 47.7ms\n",
      "image 588/636 C:\\Users\\Khalid\\Desktop\\khalid_weapon_temper_weiner_m\\test_dataset\\images\\6312.jpg: 640x288 1 person, 62.6ms\n",
      "image 589/636 C:\\Users\\Khalid\\Desktop\\khalid_weapon_temper_weiner_m\\test_dataset\\images\\6313.jpg: 640x288 1 person, 47.0ms\n",
      "image 590/636 C:\\Users\\Khalid\\Desktop\\khalid_weapon_temper_weiner_m\\test_dataset\\images\\6314.jpg: 640x288 1 person, 63.0ms\n",
      "image 591/636 C:\\Users\\Khalid\\Desktop\\khalid_weapon_temper_weiner_m\\test_dataset\\images\\6315.jpg: 640x288 1 person, 62.5ms\n",
      "image 592/636 C:\\Users\\Khalid\\Desktop\\khalid_weapon_temper_weiner_m\\test_dataset\\images\\6316.jpg: 640x288 1 person, 47.2ms\n",
      "image 593/636 C:\\Users\\Khalid\\Desktop\\khalid_weapon_temper_weiner_m\\test_dataset\\images\\6317.jpg: 640x288 1 person, 1 gun, 47.1ms\n",
      "image 594/636 C:\\Users\\Khalid\\Desktop\\khalid_weapon_temper_weiner_m\\test_dataset\\images\\6318.jpg: 640x288 1 person, 1 gun, 50.5ms\n",
      "image 595/636 C:\\Users\\Khalid\\Desktop\\khalid_weapon_temper_weiner_m\\test_dataset\\images\\6319.jpg: 640x288 1 person, 40.0ms\n",
      "image 596/636 C:\\Users\\Khalid\\Desktop\\khalid_weapon_temper_weiner_m\\test_dataset\\images\\6320.jpg: 640x288 1 person, 46.9ms\n",
      "image 597/636 C:\\Users\\Khalid\\Desktop\\khalid_weapon_temper_weiner_m\\test_dataset\\images\\6321.jpg: 640x288 1 person, 47.4ms\n",
      "image 598/636 C:\\Users\\Khalid\\Desktop\\khalid_weapon_temper_weiner_m\\test_dataset\\images\\6322.jpg: 640x288 1 person, 47.4ms\n",
      "image 599/636 C:\\Users\\Khalid\\Desktop\\khalid_weapon_temper_weiner_m\\test_dataset\\images\\6323.jpg: 640x288 1 person, 1 gun, 46.9ms\n",
      "image 600/636 C:\\Users\\Khalid\\Desktop\\khalid_weapon_temper_weiner_m\\test_dataset\\images\\6324.jpg: 640x288 1 person, 46.9ms\n",
      "image 601/636 C:\\Users\\Khalid\\Desktop\\khalid_weapon_temper_weiner_m\\test_dataset\\images\\6325.jpg: 640x288 1 person, 1 gun, 55.3ms\n",
      "image 602/636 C:\\Users\\Khalid\\Desktop\\khalid_weapon_temper_weiner_m\\test_dataset\\images\\6326.jpg: 640x288 1 person, 32.6ms\n",
      "image 603/636 C:\\Users\\Khalid\\Desktop\\khalid_weapon_temper_weiner_m\\test_dataset\\images\\6327.jpg: 640x288 1 person, 1 gun, 63.4ms\n",
      "image 604/636 C:\\Users\\Khalid\\Desktop\\khalid_weapon_temper_weiner_m\\test_dataset\\images\\6328.jpg: 640x288 1 person, 46.9ms\n",
      "image 605/636 C:\\Users\\Khalid\\Desktop\\khalid_weapon_temper_weiner_m\\test_dataset\\images\\6329.jpg: 640x288 1 person, 47.6ms\n",
      "image 606/636 C:\\Users\\Khalid\\Desktop\\khalid_weapon_temper_weiner_m\\test_dataset\\images\\6330.jpg: 640x288 1 person, 46.9ms\n",
      "image 607/636 C:\\Users\\Khalid\\Desktop\\khalid_weapon_temper_weiner_m\\test_dataset\\images\\6331.jpg: 640x288 1 person, 47.3ms\n",
      "image 608/636 C:\\Users\\Khalid\\Desktop\\khalid_weapon_temper_weiner_m\\test_dataset\\images\\6332.jpg: 640x288 1 person, 47.2ms\n",
      "image 609/636 C:\\Users\\Khalid\\Desktop\\khalid_weapon_temper_weiner_m\\test_dataset\\images\\6333.jpg: 640x288 1 person, 1 gun, 47.4ms\n",
      "image 610/636 C:\\Users\\Khalid\\Desktop\\khalid_weapon_temper_weiner_m\\test_dataset\\images\\6334.jpg: 640x288 1 person, 62.5ms\n",
      "image 611/636 C:\\Users\\Khalid\\Desktop\\khalid_weapon_temper_weiner_m\\test_dataset\\images\\6335.jpg: 640x288 1 person, 59.9ms\n",
      "image 612/636 C:\\Users\\Khalid\\Desktop\\khalid_weapon_temper_weiner_m\\test_dataset\\images\\6336.jpg: 640x288 1 person, 1 gun, 46.9ms\n",
      "image 613/636 C:\\Users\\Khalid\\Desktop\\khalid_weapon_temper_weiner_m\\test_dataset\\images\\6337.jpg: 640x288 1 person, 31.2ms\n",
      "image 614/636 C:\\Users\\Khalid\\Desktop\\khalid_weapon_temper_weiner_m\\test_dataset\\images\\6338.jpg: 640x288 1 person, 1 gun, 47.4ms\n",
      "image 615/636 C:\\Users\\Khalid\\Desktop\\khalid_weapon_temper_weiner_m\\test_dataset\\images\\6339.jpg: 640x288 1 person, 62.8ms\n",
      "image 616/636 C:\\Users\\Khalid\\Desktop\\khalid_weapon_temper_weiner_m\\test_dataset\\images\\6340.jpg: 640x288 1 person, 79.7ms\n",
      "image 617/636 C:\\Users\\Khalid\\Desktop\\khalid_weapon_temper_weiner_m\\test_dataset\\images\\6341.jpg: 640x288 1 person, 79.3ms\n",
      "image 618/636 C:\\Users\\Khalid\\Desktop\\khalid_weapon_temper_weiner_m\\test_dataset\\images\\6342.jpg: 640x288 1 person, 1 gun, 62.4ms\n",
      "image 619/636 C:\\Users\\Khalid\\Desktop\\khalid_weapon_temper_weiner_m\\test_dataset\\images\\6343.jpg: 640x288 1 person, 46.9ms\n",
      "image 620/636 C:\\Users\\Khalid\\Desktop\\khalid_weapon_temper_weiner_m\\test_dataset\\images\\6344.jpg: 640x288 1 person, 46.9ms\n",
      "image 621/636 C:\\Users\\Khalid\\Desktop\\khalid_weapon_temper_weiner_m\\test_dataset\\images\\6345.jpg: 640x288 1 person, 47.2ms\n",
      "image 622/636 C:\\Users\\Khalid\\Desktop\\khalid_weapon_temper_weiner_m\\test_dataset\\images\\6346.jpg: 640x288 1 person, 1 gun, 46.9ms\n",
      "image 623/636 C:\\Users\\Khalid\\Desktop\\khalid_weapon_temper_weiner_m\\test_dataset\\images\\6347.jpg: 640x288 1 person, 1 gun, 31.2ms\n",
      "image 624/636 C:\\Users\\Khalid\\Desktop\\khalid_weapon_temper_weiner_m\\test_dataset\\images\\6348.jpg: 640x288 1 person, 1 gun, 67.5ms\n",
      "image 625/636 C:\\Users\\Khalid\\Desktop\\khalid_weapon_temper_weiner_m\\test_dataset\\images\\6349.jpg: 640x288 1 person, 1 gun, 46.9ms\n",
      "image 626/636 C:\\Users\\Khalid\\Desktop\\khalid_weapon_temper_weiner_m\\test_dataset\\images\\6350.jpg: 640x288 1 person, 46.9ms\n",
      "image 627/636 C:\\Users\\Khalid\\Desktop\\khalid_weapon_temper_weiner_m\\test_dataset\\images\\6351.jpg: 640x288 1 person, 1 gun, 47.0ms\n",
      "image 628/636 C:\\Users\\Khalid\\Desktop\\khalid_weapon_temper_weiner_m\\test_dataset\\images\\6352.jpg: 640x288 1 person, 1 gun, 46.9ms\n",
      "image 629/636 C:\\Users\\Khalid\\Desktop\\khalid_weapon_temper_weiner_m\\test_dataset\\images\\6353.jpg: 640x288 1 person, 1 gun, 46.9ms\n",
      "image 630/636 C:\\Users\\Khalid\\Desktop\\khalid_weapon_temper_weiner_m\\test_dataset\\images\\6354.jpg: 640x288 1 person, 46.9ms\n",
      "image 631/636 C:\\Users\\Khalid\\Desktop\\khalid_weapon_temper_weiner_m\\test_dataset\\images\\6355.jpg: 640x288 1 person, 46.9ms\n",
      "image 632/636 C:\\Users\\Khalid\\Desktop\\khalid_weapon_temper_weiner_m\\test_dataset\\images\\6356.jpg: 640x288 1 person, 62.5ms\n",
      "image 633/636 C:\\Users\\Khalid\\Desktop\\khalid_weapon_temper_weiner_m\\test_dataset\\images\\6357.jpg: 640x288 1 person, 62.5ms\n",
      "image 634/636 C:\\Users\\Khalid\\Desktop\\khalid_weapon_temper_weiner_m\\test_dataset\\images\\6358.jpg: 640x288 1 person, 1 gun, 46.9ms\n",
      "image 635/636 C:\\Users\\Khalid\\Desktop\\khalid_weapon_temper_weiner_m\\test_dataset\\images\\6359.jpg: 640x288 1 person, 1 gun, 47.3ms\n",
      "image 636/636 C:\\Users\\Khalid\\Desktop\\khalid_weapon_temper_weiner_m\\test_dataset\\images\\6360.jpg: 640x288 1 person, 46.9ms\n",
      "Speed: 1.6ms preprocess, 42.3ms inference, 0.7ms postprocess per image at shape (1, 3, 640, 288)\n",
      "Results saved to \u001b[1mruns\\detect\\predict3\u001b[0m\n",
      "ðŸ’¡ Learn more at https://docs.ultralytics.com/modes/predict\n"
     ]
    }
   ],
   "source": [
    "!yolo task=detect mode=predict conf=0.25 save=True model=C:/Users/Khalid/Desktop/khalid_weapon_temper_weiner_m/best.pt  source=C:/Users/Khalid/Desktop/khalid_weapon_temper_weiner_m/test_dataset/images"
   ]
  },
  {
   "cell_type": "code",
   "execution_count": null,
   "metadata": {},
   "outputs": [],
   "source": [
    "model=YOLO('http://localhost:8888/edit/Desktop/khalid_weapon/runs/detect/train18/weights/best.pt')"
   ]
  },
  {
   "cell_type": "code",
   "execution_count": null,
   "metadata": {},
   "outputs": [],
   "source": [
    "from ultralytics import Model\n",
    "\n",
    "# Initialize the YOLO model with the correct task (e.g., 'predict' or 'detect')\n",
    "model = Model(task='detect')\n",
    "result=model.predict('http://localhost:8888/view/Desktop/khalid_weapon/test_dataset/images/image_0006.jpg',save=True,imgsz=640, conf=0.5)"
   ]
  },
  {
   "cell_type": "code",
   "execution_count": null,
   "metadata": {},
   "outputs": [],
   "source": [
    "#cuda_device = 0\n",
    "#device = torch.device(f'cuda:{cuda_device}' if torch.cuda.is_available() else 'cpu')\n"
   ]
  },
  {
   "cell_type": "code",
   "execution_count": null,
   "metadata": {},
   "outputs": [],
   "source": [
    "'''from poutyne import ModelBundle\n",
    "import yaml\n",
    "from torchvision import datasets\n",
    "\n",
    "# Load data from data.yaml\n",
    "with open(\"data.yaml\", \"r\") as file:\n",
    "    data = yaml.safe_load(file)\n",
    "\n",
    "# Extract dataset paths and other information\n",
    "dataset_root_dir = data[\"path\"]\n",
    "train_dataset_path = data[\"train\"]\n",
    "val_dataset_path = data[\"val\"]\n",
    "num_classes = data[\"nc\"]\n",
    "class_names = data[\"names\"]\n",
    "\n",
    "def load_dataset(dataset_path):\n",
    "    dataset = datasets.ImageFolder(root=dataset_path)\n",
    "    return dataset\n",
    "\n",
    "# Load your datasets using the specified paths (you need to implement this part)\n",
    "train_dataset = load_dataset(train_dataset_path)\n",
    "val_dataset = load_dataset(val_dataset_path)\n",
    "\n",
    "# Now create your network (assuming 'network' is defined somewhere in your code)\n",
    "network=YOLO(\"yolov8m.yaml\")\n",
    "\n",
    "# Assuming 'device' is already defined\n",
    "device = torch.device(\"cuda\" if torch.cuda.is_available() else \"cpu\")\n",
    "\n",
    "# Create a ModelBundle\n",
    "model_bundle = ModelBundle.from_network(\n",
    "    './saves/my_classification_network',  # Use the specified path\n",
    "    network, \n",
    "    optimizer=None,  # Use None instead of 'None'\n",
    "    task='regression', \n",
    "    device=device\n",
    ")\n",
    "\n",
    "# Train your model using the loaded datasets\n",
    "model_bundle.train_data(\n",
    "    train_dataset=train_dataset, \n",
    "    val_dataset=val_dataset, \n",
    "    batch=16, \n",
    "    epochs=100, \n",
    "    amp=False\n",
    ")'''\n"
   ]
  },
  {
   "cell_type": "code",
   "execution_count": null,
   "metadata": {
    "colab": {
     "base_uri": "https://localhost:8080/"
    },
    "executionInfo": {
     "elapsed": 97234,
     "status": "ok",
     "timestamp": 1712099680853,
     "user": {
      "displayName": "Ghulam Mohi Ud Din",
      "userId": "09417276062127926282"
     },
     "user_tz": -300
    },
    "id": "FZywunIJi1nM",
    "outputId": "d18a19b2-b79d-460f-d436-c729e990f872"
   },
   "outputs": [],
   "source": [
    "network=YOLO(\"yolov8m.yaml\")\n",
    "\n",
    "'''model = Model(\n",
    "    network,\n",
    "    optimizer=None,  # You can omit optimizer\n",
    "    loss_function=None,  # You can omit loss function\n",
    "    batch_metrics=['accuracy'],\n",
    "    epoch_metrics=['f1'],\n",
    "    device=device\n",
    ")\n",
    "#model= nn.DataParallel(model)\n",
    "#model.to(device)\n",
    "#yolo train model=yolov8m.pt data=data.yaml epochs=1000 imgsz=640\n",
    "#model=YOLO(\"yolov8m.yaml\")'''"
   ]
  },
  {
   "cell_type": "code",
   "execution_count": null,
   "metadata": {},
   "outputs": [],
   "source": [
    "from poutyne import ModelBundle\n",
    "import yaml\n",
    "\n",
    "# Load data from data.yaml\n",
    "with open(\"data.yaml\", \"r\") as file:\n",
    "    data = yaml.safe_load(file)\n",
    "\n",
    "x = data[\"X\"]  # Assuming your input data is stored under the key \"X\" in the YAML file\n",
    "y = data[\"Y\"]  # Assuming your labels are stored under the key \"Y\" in the YAML file\n",
    "\n",
    "# Everything is saved in ./saves/my_classification_network\n",
    "model_bundle = ModelBundle.from_network(\n",
    "    './saves/my_classification_network', network, optimizer=None, task='regression', device=device\n",
    ")\n",
    "\n",
    "model_bundle.train_data(x, y, batch=16, epochs=100, amp=False)\n"
   ]
  },
  {
   "cell_type": "code",
   "execution_count": null,
   "metadata": {},
   "outputs": [],
   "source": [
    "#results=model.train(data=\"data.yaml\",batch= 16, epochs=100, amp=False)\n",
    "from poutyne import ModelBundle\n",
    "\n",
    "# Everything is saved in ./saves/my_classification_network\n",
    "model_bundle = ModelBundle.from_network(\n",
    "    './saves/my_classification_network', network, optimizer=None, task='regression', device=device\n",
    ")\n",
    "\n",
    "model_bundle.train_data(data=\"data.yaml\",batch= 16, epochs=100, amp=False)"
   ]
  },
  {
   "cell_type": "code",
   "execution_count": null,
   "metadata": {
    "colab": {
     "base_uri": "https://localhost:8080/"
    },
    "executionInfo": {
     "elapsed": 21860,
     "status": "ok",
     "timestamp": 1712100512643,
     "user": {
      "displayName": "Ghulam Mohi Ud Din",
      "userId": "09417276062127926282"
     },
     "user_tz": -300
    },
    "id": "gfYBhIyuIG6L",
    "outputId": "43daaadb-e5d8-4440-9116-a70dae270a17"
   },
   "outputs": [],
   "source": [
    "yolo task=detect mode=val model=/runs/detect/train/weights/best.pt data=data.yaml"
   ]
  },
  {
   "cell_type": "code",
   "execution_count": null,
   "metadata": {
    "colab": {
     "base_uri": "https://localhost:8080/"
    },
    "executionInfo": {
     "elapsed": 6616,
     "status": "ok",
     "timestamp": 1712101005308,
     "user": {
      "displayName": "Ghulam Mohi Ud Din",
      "userId": "09417276062127926282"
     },
     "user_tz": -300
    },
    "id": "TuMvd8DZJDSo",
    "outputId": "33353cd0-278d-4a7a-e59a-1868990565cd"
   },
   "outputs": [],
   "source": [
    "yolo task=detect mode=predict model=/content/runs/detect/train/weights/best.pt conf=0.5 source=1.jpg show=True"
   ]
  },
  {
   "cell_type": "code",
   "execution_count": null,
   "metadata": {
    "colab": {
     "base_uri": "https://localhost:8080/",
     "height": 34
    },
    "executionInfo": {
     "elapsed": 1325,
     "status": "ok",
     "timestamp": 1712102113831,
     "user": {
      "displayName": "Ghulam Mohi Ud Din",
      "userId": "09417276062127926282"
     },
     "user_tz": -300
    },
    "id": "rnN9uheEKNIK",
    "outputId": "ac21c9d5-477e-431d-a084-d8e089b36418"
   },
   "outputs": [],
   "source": [
    "from google.colab import files\n",
    "\n",
    "# Download the zip file\n",
    "files.download('/content/runs.zip')\n"
   ]
  },
  {
   "cell_type": "code",
   "execution_count": null,
   "metadata": {
    "colab": {
     "base_uri": "https://localhost:8080/",
     "height": 35
    },
    "executionInfo": {
     "elapsed": 5827,
     "status": "ok",
     "timestamp": 1712102101488,
     "user": {
      "displayName": "Ghulam Mohi Ud Din",
      "userId": "09417276062127926282"
     },
     "user_tz": -300
    },
    "id": "seoxhxyuPKKW",
    "outputId": "f71a603c-9085-4d21-e5a6-dead22e03d44"
   },
   "outputs": [],
   "source": [
    "import shutil\n",
    "import os\n",
    "\n",
    "# Define the path to the folder you want to download\n",
    "folder_path = '/content/runs'\n",
    "\n",
    "# Define the destination path for the zip file\n",
    "zip_file_path = '/content/runs.zip'\n",
    "\n",
    "# Create a zip file of the folder\n",
    "shutil.make_archive('/content/runs', 'zip', folder_path)\n",
    "\n",
    "# Move the zip file to the destination path\n",
    "shutil.move('/content/runs.zip', zip_file_path)\n"
   ]
  }
 ],
 "metadata": {
  "accelerator": "GPU",
  "colab": {
   "authorship_tag": "ABX9TyO/aaN5BB8fuXE3BaF4dwWn",
   "gpuType": "T4",
   "mount_file_id": "1ZGZwAmpyRBxUM6YTB0mCudld9legpTBW",
   "provenance": []
  },
  "kernelspec": {
   "display_name": "Python 3 (ipykernel)",
   "language": "python",
   "name": "python3"
  },
  "language_info": {
   "codemirror_mode": {
    "name": "ipython",
    "version": 3
   },
   "file_extension": ".py",
   "mimetype": "text/x-python",
   "name": "python",
   "nbconvert_exporter": "python",
   "pygments_lexer": "ipython3",
   "version": "3.9.19"
  }
 },
 "nbformat": 4,
 "nbformat_minor": 4
}
